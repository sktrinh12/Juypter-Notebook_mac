{
 "cells": [
  {
   "cell_type": "code",
   "execution_count": 19,
   "metadata": {},
   "outputs": [
    {
     "name": "stdout",
     "output_type": "stream",
     "text": [
      "1:1:1\n",
      "2:2:5\n",
      "3:3:9\n",
      "4:4:13\n",
      "5:5:17\n",
      "6:1:2\n",
      "7:2:6\n",
      "8:3:10\n",
      "9:4:14\n",
      "10:5:18\n",
      "11:1:3\n",
      "12:2:7\n",
      "13:3:11\n",
      "14:4:15\n",
      "15:5:19\n",
      "16:1:4\n",
      "17:2:8\n",
      "18:3:12\n",
      "19:4:16\n",
      "20:5:20\n"
     ]
    }
   ],
   "source": [
    "start =0 \n",
    "iter_start =0 \n",
    "for i in range(1,21):\n",
    "    if i % 5 == 0:\n",
    "        modNum = 5 \n",
    "    else:\n",
    "        modNum = i % 5\n",
    "    if modNum == 1:\n",
    "        start+=1\n",
    "        iter_start=start \n",
    "    else:\n",
    "        iter_start+=4\n",
    "\n",
    "    print(f'{i}:{modNum}:{iter_start}')\n",
    "    "
   ]
  }
 ],
 "metadata": {
  "kernelspec": {
   "display_name": "py37",
   "language": "python",
   "name": "py37"
  },
  "language_info": {
   "codemirror_mode": {
    "name": "ipython",
    "version": 3
   },
   "file_extension": ".py",
   "mimetype": "text/x-python",
   "name": "python",
   "nbconvert_exporter": "python",
   "pygments_lexer": "ipython3",
   "version": "3.7.3"
  }
 },
 "nbformat": 4,
 "nbformat_minor": 2
}
