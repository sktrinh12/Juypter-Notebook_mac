{
 "cells": [
  {
   "cell_type": "code",
   "execution_count": 3,
   "metadata": {},
   "outputs": [],
   "source": [
    "import sqlite3\n",
    "fp_db = '/users/spencertrinh/GitRepos/absViz/NCIFrederick/static/abs384QCdb.db'\n",
    "conn = sqlite3.connect(fp_db)\n",
    "tableName = \"QCabsVals\"\n",
    "c = conn.cursor()\n",
    "c.execute(f\"DROP TABLE {tableName}\")\n",
    "c.execute(f'''CREATE TABLE {tableName}\n",
    "             (PLATE_CODE TEXT, SUFFIX TEXT, WELLID TEXT, ABS REAL, WAVELENGTH INTEGER)''')\n",
    "conn.commit()"
   ]
  },
  {
   "cell_type": "code",
   "execution_count": 2,
   "metadata": {},
   "outputs": [],
   "source": [
    "import sqlite3 \n",
    "fp_db = '/users/spencertrinh/GitRepos/absViz/NCIFrederick/static/abs384QCdb.db'\n",
    "conn = sqlite3.connect(fp_db)\n",
    "c = conn.cursor()"
   ]
  },
  {
   "cell_type": "code",
   "execution_count": null,
   "metadata": {},
   "outputs": [],
   "source": [
    "conn.close()"
   ]
  },
  {
   "cell_type": "code",
   "execution_count": 1,
   "metadata": {},
   "outputs": [],
   "source": [
    "import cx_Oracle\n",
    "host = 'DTPIV1.NCIFCRF.GOV'\n",
    "PORT = 1523\n",
    "SERVNAME = 'PROD.NCIFCRF.GOV'\n",
    "PASS = 'P2wC9Gq3r4'\n",
    "user = 'NPSG'\n",
    "\n",
    "dsn_tns = cx_Oracle.makedsn(host,PORT,service_name=SERVNAME)\n",
    "CON = cx_Oracle.connect(user,PASS,dsn_tns)"
   ]
  },
  {
   "cell_type": "code",
   "execution_count": 3,
   "metadata": {},
   "outputs": [],
   "source": [
    "c = CON.cursor()\n",
    "r = c.execute(\"SELECT * FROM WELL_ABSORBANCE\")"
   ]
  },
  {
   "cell_type": "code",
   "execution_count": 1,
   "metadata": {},
   "outputs": [],
   "source": [
    "def insertSQLdata(pltcode,db,filepath):\n",
    "    \n",
    "    columns = []\n",
    "    count=0\n",
    "    with open(filepath,mode='r',encoding='utf-16') as f:\n",
    "        for row in f:\n",
    "            row = row.strip().split('\\t')\n",
    "            if row[0] == '':  \n",
    "                break\n",
    "            if count< 2:\n",
    "                pass\n",
    "            elif count == 2:\n",
    "                columns.append(row)\n",
    "            else:\n",
    "                datadict = {columns[0][i] : float(row[i]) for i in range(len(row))}\n",
    "                for k,v in datadict.items():\n",
    "                    if k == 'Temperature(¡C)' or k == 'Wavelength':\n",
    "                        pass\n",
    "                    else:\n",
    "                        pltcde = str(pltcode[:8])\n",
    "                        suffix = str(pltcode[8:11])\n",
    "                        wellid = str(k)\n",
    "                        absb = float(v)\n",
    "                        wv = int(datadict['Wavelength'])\n",
    "                        #print(f\"{pltcde},{suffix},{wellid},{absb},{wv}\")\n",
    "                        db.execute(f\"INSERT INTO {tableName} VALUES (?,?,?,?,?)\", (pltcde,suffix,wellid,absb,wv))\n",
    "            count +=1"
   ]
  },
  {
   "cell_type": "code",
   "execution_count": 4,
   "metadata": {},
   "outputs": [],
   "source": [
    "#fp = '/Volumes/m_drive/2019/NPSG projects/PPSPE_QC/absorbance/384_Hamilton/14190303200_QC'\n",
    "fp = '/Users/spencertrinh/Documents/datafiles/384absFiles/' \n",
    "import os\n",
    "for f in os.listdir(fp):\n",
    "    if f.startswith('1'):\n",
    "        #print(os.path.join(fp,f))\n",
    "        insertSQLdata(f,c,os.path.join(fp,f))\n",
    "conn.commit()"
   ]
  },
  {
   "cell_type": "code",
   "execution_count": 17,
   "metadata": {},
   "outputs": [
    {
     "data": {
      "text/plain": [
       "[3.7349,\n",
       " 3.8925,\n",
       " 3.6512,\n",
       " 3.5859,\n",
       " 3.475,\n",
       " 2.8378,\n",
       " 2.5919,\n",
       " 1.0853,\n",
       " 0.4797,\n",
       " 0.33,\n",
       " 0.2722,\n",
       " 0.229,\n",
       " 0.1938,\n",
       " 0.1718,\n",
       " 0.151,\n",
       " 0.1067,\n",
       " 0.0713,\n",
       " 0.0628,\n",
       " 0.0596,\n",
       " 0.0572,\n",
       " 0.0552,\n",
       " 0.0537,\n",
       " 0.0525,\n",
       " 0.0515,\n",
       " 0.0503,\n",
       " 0.0497,\n",
       " 0.0493,\n",
       " 0.0488,\n",
       " 0.0485,\n",
       " 0.0483,\n",
       " 0.0483,\n",
       " 0.0482,\n",
       " 0.048,\n",
       " 0.0482,\n",
       " 0.0483,\n",
       " 0.0483,\n",
       " 0.0484,\n",
       " 0.0483,\n",
       " 0.0485,\n",
       " 0.0484,\n",
       " 0.048,\n",
       " 0.0479,\n",
       " 0.0477,\n",
       " 0.0475,\n",
       " 0.0471,\n",
       " 0.0468,\n",
       " 0.0473,\n",
       " 0.0465,\n",
       " 0.0461,\n",
       " 0.0471,\n",
       " 0.0483,\n",
       " 0.0475,\n",
       " 0.0477,\n",
       " 0.0476,\n",
       " 0.0473,\n",
       " 0.0469,\n",
       " 0.0469,\n",
       " 0.0467,\n",
       " 0.0461,\n",
       " 3.7375,\n",
       " 3.9149,\n",
       " 3.662,\n",
       " 3.588,\n",
       " 3.4797,\n",
       " 2.8289,\n",
       " 2.5757,\n",
       " 1.0648,\n",
       " 0.4622,\n",
       " 0.3152,\n",
       " 0.2587,\n",
       " 0.2161,\n",
       " 0.1815,\n",
       " 0.1609,\n",
       " 0.1408,\n",
       " 0.0969,\n",
       " 0.0618,\n",
       " 0.0536,\n",
       " 0.0509,\n",
       " 0.0488,\n",
       " 0.0471,\n",
       " 0.0458,\n",
       " 0.0447,\n",
       " 0.0438,\n",
       " 0.0431,\n",
       " 0.0424,\n",
       " 0.042,\n",
       " 0.0418,\n",
       " 0.0416,\n",
       " 0.0415,\n",
       " 0.0415,\n",
       " 0.0414,\n",
       " 0.0414,\n",
       " 0.0415,\n",
       " 0.0417,\n",
       " 0.0416,\n",
       " 0.0417,\n",
       " 0.0416,\n",
       " 0.0417,\n",
       " 0.0417,\n",
       " 0.0424,\n",
       " 0.0414,\n",
       " 0.0412,\n",
       " 0.0411,\n",
       " 0.0407,\n",
       " 0.0406,\n",
       " 0.0413,\n",
       " 0.0404,\n",
       " 0.0401,\n",
       " 0.0413,\n",
       " 0.0426,\n",
       " 0.0418,\n",
       " 0.0422,\n",
       " 0.042,\n",
       " 0.0418,\n",
       " 0.0417,\n",
       " 0.0415,\n",
       " 0.0406,\n",
       " 0.0408]"
      ]
     },
     "execution_count": 17,
     "metadata": {},
     "output_type": "execute_result"
    }
   ],
   "source": [
    "getAllWellVals(c, 'QCabsVals','14190300','A1')"
   ]
  },
  {
   "cell_type": "code",
   "execution_count": 71,
   "metadata": {},
   "outputs": [],
   "source": [
    "manager = multiprocessing.Manager()\n",
    "lstOfPlots = manager.list()\n",
    "selected_pltcode = '14190300100'\n",
    "lstOfwavelengths = list(range(220,810,10))\n",
    "func_partial = partial(build_graph_multiproc,pltcodeWithSuffix=selected_pltcode)\n",
    "pool = multiprocessing.Pool(processes=4)\n",
    "pool.map(func_partial,list(chunks(wellIds,100)) )\n",
    "pool.close()\n",
    "pool.join()\n",
    "sorted_vals = sorted(lstOfPlots,key=lambda tup: tup[0])\n",
    "plts = [plt[1].decode('utf-8') for plt in sorted_vals]"
   ]
  },
  {
   "cell_type": "code",
   "execution_count": 72,
   "metadata": {},
   "outputs": [
    {
     "data": {
      "text/plain": [
       "'<?xml version=\"1.0\" encoding=\"utf-8\" standalone=\"no\"?>\\n<!DOCTYPE svg PUBLIC \"-//W3C//DTD SVG 1.1//EN\"\\n  \"http://www.w3.org/Graphics/SVG/1.1/DTD/svg11.dtd\">\\n<!-- Created with matplotlib (https://matplotlib.org/) -->\\n<svg height=\"43.2pt\" version=\"1.1\" viewBox=\"0 0 43.2 43.2\" width=\"43.2pt\" xmlns=\"http://www.w3.org/2000/svg\" xmlns:xlink=\"http://www.w3.org/1999/xlink\">\\n <defs>\\n  <style type=\"text/css\">\\n*{stroke-linecap:butt;stroke-linejoin:round;}\\n  </style>\\n </defs>\\n <g id=\"figure_1\">\\n  <g id=\"patch_1\">\\n   <path d=\"M 0 43.2 \\nL 43.2 43.2 \\nL 43.2 0 \\nL 0 0 \\nz\\n\" style=\"fill:#ffffff;\"/>\\n  </g>\\n  <g id=\"axes_1\">\\n   <g id=\"patch_2\">\\n    <path d=\"M 5.4 38.448 \\nL 38.88 38.448 \\nL 38.88 5.184 \\nL 5.4 5.184 \\nz\\n\" style=\"fill:#ffffff;\"/>\\n   </g>\\n   <g id=\"matplotlib.axis_1\">\\n    <g id=\"xtick_1\"/>\\n    <g id=\"xtick_2\"/>\\n    <g id=\"xtick_3\"/>\\n   </g>\\n   <g id=\"matplotlib.axis_2\">\\n    <g id=\"ytick_1\"/>\\n    <g id=\"ytick_2\"/>\\n   </g>\\n   <g id=\"line2d_1\">\\n    <path clip-path=\"url(#p711d6c8f77)\" d=\"M 6.921818 7.935035 \\nL 7.446583 6.696 \\nL 7.971348 8.593076 \\nL 8.496113 9.106458 \\nL 9.020878 9.978342 \\nL 9.545643 14.987943 \\nL 10.070408 16.921183 \\nL 10.595172 28.765917 \\nL 11.119937 33.527082 \\nL 11.644702 34.704007 \\nL 12.169467 35.158425 \\nL 12.694232 35.498059 \\nL 13.218997 35.774798 \\nL 13.743762 35.94776 \\nL 14.268527 36.111287 \\nL 14.793292 36.459569 \\nL 15.318056 36.73788 \\nL 15.842821 36.804706 \\nL 16.367586 36.829864 \\nL 16.892351 36.848733 \\nL 17.417116 36.864457 \\nL 17.941881 36.87625 \\nL 18.466646 36.885684 \\nL 18.991411 36.893546 \\nL 19.516176 36.90298 \\nL 20.04094 36.907697 \\nL 20.565705 36.910842 \\nL 21.09047 36.914773 \\nL 21.615235 36.917131 \\nL 22.14 36.918704 \\nL 22.664765 36.918704 \\nL 23.18953 36.91949 \\nL 23.714295 36.921062 \\nL 24.23906 36.91949 \\nL 24.763824 36.918704 \\nL 25.288589 36.918704 \\nL 25.813354 36.917918 \\nL 26.338119 36.918704 \\nL 26.862884 36.917131 \\nL 27.387649 36.917918 \\nL 27.912414 36.921062 \\nL 28.437179 36.921849 \\nL 28.961944 36.923421 \\nL 29.486708 36.924993 \\nL 30.011473 36.928138 \\nL 30.536238 36.930497 \\nL 31.061003 36.926566 \\nL 31.585768 36.932855 \\nL 32.110533 36.936 \\nL 32.635298 36.928138 \\nL 33.160063 36.918704 \\nL 33.684828 36.924993 \\nL 34.209592 36.923421 \\nL 34.734357 36.924207 \\nL 35.259122 36.926566 \\nL 35.783887 36.92971 \\nL 36.308652 36.92971 \\nL 36.833417 36.931283 \\nL 37.358182 36.936 \\n\" style=\"fill:none;stroke:#1f77b4;stroke-linecap:square;stroke-width:1.5;\"/>\\n   </g>\\n   <g id=\"patch_3\">\\n    <path d=\"M 5.4 38.448 \\nL 5.4 5.184 \\n\" style=\"fill:none;stroke:#000000;stroke-linecap:square;stroke-linejoin:miter;stroke-width:0.8;\"/>\\n   </g>\\n   <g id=\"patch_4\">\\n    <path d=\"M 38.88 38.448 \\nL 38.88 5.184 \\n\" style=\"fill:none;stroke:#000000;stroke-linecap:square;stroke-linejoin:miter;stroke-width:0.8;\"/>\\n   </g>\\n   <g id=\"patch_5\">\\n    <path d=\"M 5.4 38.448 \\nL 38.88 38.448 \\n\" style=\"fill:none;stroke:#000000;stroke-linecap:square;stroke-linejoin:miter;stroke-width:0.8;\"/>\\n   </g>\\n   <g id=\"patch_6\">\\n    <path d=\"M 5.4 5.184 \\nL 38.88 5.184 \\n\" style=\"fill:none;stroke:#000000;stroke-linecap:square;stroke-linejoin:miter;stroke-width:0.8;\"/>\\n   </g>\\n   <g id=\"text_1\">\\n    <!-- A1 -->\\n    <defs>\\n     <path d=\"M 34.1875 63.1875 \\nL 20.796875 26.90625 \\nL 47.609375 26.90625 \\nz\\nM 28.609375 72.90625 \\nL 39.796875 72.90625 \\nL 67.578125 0 \\nL 57.328125 0 \\nL 50.6875 18.703125 \\nL 17.828125 18.703125 \\nL 11.1875 0 \\nL 0.78125 0 \\nz\\n\" id=\"DejaVuSans-65\"/>\\n     <path d=\"M 12.40625 8.296875 \\nL 28.515625 8.296875 \\nL 28.515625 63.921875 \\nL 10.984375 60.40625 \\nL 10.984375 69.390625 \\nL 28.421875 72.90625 \\nL 38.28125 72.90625 \\nL 38.28125 8.296875 \\nL 54.390625 8.296875 \\nL 54.390625 0 \\nL 12.40625 0 \\nz\\n\" id=\"DejaVuSans-49\"/>\\n    </defs>\\n    <g transform=\"translate(16.198594 12.4896)scale(0.09 -0.09)\">\\n     <use xlink:href=\"#DejaVuSans-65\"/>\\n     <use x=\"68.408203\" xlink:href=\"#DejaVuSans-49\"/>\\n    </g>\\n   </g>\\n  </g>\\n </g>\\n <defs>\\n  <clipPath id=\"p711d6c8f77\">\\n   <rect height=\"33.264\" width=\"33.48\" x=\"5.4\" y=\"5.184\"/>\\n  </clipPath>\\n </defs>\\n</svg>\\n'"
      ]
     },
     "execution_count": 72,
     "metadata": {},
     "output_type": "execute_result"
    }
   ],
   "source": [
    "plts[0]"
   ]
  },
  {
   "cell_type": "code",
   "execution_count": 21,
   "metadata": {},
   "outputs": [],
   "source": [
    "from matplotlib.backends.backend_svg import FigureCanvasSVG\n",
    "from matplotlib.figure import Figure\n",
    "import io\n",
    "from functools import partial\n",
    "import multiprocessing"
   ]
  },
  {
   "cell_type": "code",
   "execution_count": 18,
   "metadata": {},
   "outputs": [],
   "source": [
    "wellIds=[]\n",
    "cnt=0\n",
    "for i in range(1,17):\n",
    "    for j in range(1,25):\n",
    "        wellIds.append((cnt,f'{chr(64+i)}{j}'))\n",
    "        cnt+=1\n",
    "\n",
    "def chunks(l, n):\n",
    "    '''takes a list and integer n as input and returns\n",
    "    generator objects of n lengths from that list'''\n",
    "    for i in range(0, len(l), n):\n",
    "        yield l[i:i + n]"
   ]
  },
  {
   "cell_type": "code",
   "execution_count": 70,
   "metadata": {},
   "outputs": [],
   "source": [
    "def getAllWellVals(cr,tableName,pltcodeWithSuffix,wellID):\n",
    "    pltcode = pltcodeWithSuffix[:8]\n",
    "    suffix = pltcodeWithSuffix[8:11]\n",
    "    return [r for r in cr.execute(f'''SELECT ABS FROM '{tableName}' WHERE WELLID =\n",
    "            '{wellID}' and PLATE_CODE = '{pltcode}' AND SUFFIX = '{suffix}' ''')]\n",
    "\n",
    "def build_graph_multiproc(chunk,pltcodeWithSuffix):\n",
    "    global lstOfPlots\n",
    "    with sqlite3.connect('/Users/spencertrinh/GitRepos/absViz/NCIFrederick/static/abs384QCdb.db') as conn_:\n",
    "        cr_ = conn_.cursor()\n",
    "        for i, wid in chunk:\n",
    "            img = io.BytesIO()\n",
    "            fig = Figure(figsize=(0.6,0.6))\n",
    "            axis = fig.add_subplot(1,1,1)\n",
    "            absVals = getAllWellVals(cr_,tableName,pltcodeWithSuffix,wid)\n",
    "            axis.plot(lstOfwavelengths,absVals)\n",
    "            axis.set_title(f'{wid}',fontsize=9)\n",
    "            axis.title.set_position([.5, .6])\n",
    "            axis.tick_params(\n",
    "                    which='both',\n",
    "                    bottom=False,\n",
    "                    left=False,\n",
    "                    labelbottom=False,\n",
    "                    labelleft=False)\n",
    "            FigureCanvasSVG(fig).print_svg(img)\n",
    "            result = img.getvalue()\n",
    "            try:\n",
    "                lstOfPlots[i] = (i,result)\n",
    "            except IndexError:\n",
    "                lstOfPlots.append((i,result))"
   ]
  },
  {
   "cell_type": "code",
   "execution_count": 66,
   "metadata": {},
   "outputs": [
    {
     "data": {
      "text/plain": [
       "[(4.0,),\n",
       " (4.0,),\n",
       " (3.9357,),\n",
       " (3.735,),\n",
       " (3.6013,),\n",
       " (2.9663,),\n",
       " (2.7645,),\n",
       " (1.3253,),\n",
       " (0.6541,),\n",
       " (0.4528,),\n",
       " (0.3673,),\n",
       " (0.3073,),\n",
       " (0.2586,),\n",
       " (0.2252,),\n",
       " (0.1961,),\n",
       " (0.1463,),\n",
       " (0.1081,),\n",
       " (0.0954,),\n",
       " (0.0885,),\n",
       " (0.0836,),\n",
       " (0.0782,),\n",
       " (0.0738,),\n",
       " (0.0693,),\n",
       " (0.066,),\n",
       " (0.0633,),\n",
       " (0.0603,),\n",
       " (0.058,),\n",
       " (0.0559,),\n",
       " (0.0541,),\n",
       " (0.0525,),\n",
       " (0.0508,),\n",
       " (0.0496,),\n",
       " (0.0485,),\n",
       " (0.0475,),\n",
       " (0.0464,),\n",
       " (0.0456,),\n",
       " (0.0449,),\n",
       " (0.0443,),\n",
       " (0.0438,),\n",
       " (0.0435,),\n",
       " (0.0435,),\n",
       " (0.0419,),\n",
       " (0.0415,),\n",
       " (0.0412,),\n",
       " (0.0409,),\n",
       " (0.0404,),\n",
       " (0.0406,),\n",
       " (0.0394,),\n",
       " (0.0395,),\n",
       " (0.0392,),\n",
       " (0.0399,),\n",
       " (0.0392,),\n",
       " (0.0397,),\n",
       " (0.0397,),\n",
       " (0.0395,),\n",
       " (0.0391,),\n",
       " (0.0392,),\n",
       " (0.0391,),\n",
       " (0.0386,)]"
      ]
     },
     "execution_count": 66,
     "metadata": {},
     "output_type": "execute_result"
    }
   ],
   "source": [
    "getAllWellVals(c,tableName,selected_pltcode,'A3')"
   ]
  }
 ],
 "metadata": {
  "kernelspec": {
   "display_name": "Python 3",
   "language": "python",
   "name": "python3"
  },
  "language_info": {
   "codemirror_mode": {
    "name": "ipython",
    "version": 3
   },
   "file_extension": ".py",
   "mimetype": "text/x-python",
   "name": "python",
   "nbconvert_exporter": "python",
   "pygments_lexer": "ipython3",
   "version": "3.7.3"
  }
 },
 "nbformat": 4,
 "nbformat_minor": 2
}
