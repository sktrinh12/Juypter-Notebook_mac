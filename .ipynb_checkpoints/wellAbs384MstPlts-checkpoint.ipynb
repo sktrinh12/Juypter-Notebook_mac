{
 "cells": [
  {
   "cell_type": "code",
   "execution_count": 1,
   "metadata": {},
   "outputs": [],
   "source": [
    "import pandas as pd\n",
    "import numpy as np\n",
    "import os \n",
    "import re\n",
    "import cx_Oracle\n",
    "import string\n",
    "import warnings\n",
    "import sqlite3\n",
    "from sqlite3 import Error\n",
    "\n",
    "warnings.simplefilter(action='ignore', category=FutureWarning) #suppress warning from numpy operator for string comparison\n",
    "#fpath = 'H:/2019_Projects/QC_absRead/absorbance'\n",
    "fpath = 'M:/2019/NPSG projects/PPSPE_QC/absorbance'\n",
    "\n",
    "def corrABS(df1,df2,fx,frmExclFile=False):\n",
    "    if frmExclFile:\n",
    "        df1_cr = df1.iloc[0::2,:] #1st cell for crude\n",
    "        df2_fx7 = df2.iloc[1::2,:] #last cell for 6/7th fx\n",
    "    else: #it will contain all columns, so deal with data wrangling differently\n",
    "        if fx:\n",
    "            if int(fx) == 7:\n",
    "                index_col = (0,2)\n",
    "            elif int(fx) == 6:\n",
    "                index_col = (1,2)\n",
    "            df1_cr = df1.iloc[0::2,0::2]\n",
    "            df2_fx = df2.iloc[1::2,index_col[0]::index_col[1]]\n",
    "    dft = df1_cr.transpose().iloc[::-1].transpose().iloc[::-1] #flip\n",
    "    dflstt = [item for sublist in dft.values.tolist() for item in sublist]\n",
    "    dflst1 = [item for sublist in df1_cr.values.tolist() for item in sublist]\n",
    "    dflst2 = [item for sublist in df2_fx.values.tolist() for item in sublist]\n",
    "    dfarr_cr = convertFloatArray(dflst1)\n",
    "    dfarr_fx = convertFloatArray(dflst2)\n",
    "    dfarr_t = convertFloatArray(dflstt)\n",
    "    return (np.corrcoef(dfarr_cr,dfarr_fx)[0][1],np.corrcoef(dfarr_t,dfarr_fx)[0][1])\n",
    "\n",
    "def checkVarType(var):\n",
    "    if isinstance(var,list):\n",
    "        var = np.array(var)\n",
    "    return var\n",
    "\n",
    "def convertFloatArray(var):\n",
    "    a = checkVarType(var)\n",
    "    if np.isin(a,'OVRFLW').any():\n",
    "        a[a=='OVRFLW']=0\n",
    "        a=a.astype(np.float)\n",
    "        a[a==0]=np.amax(a)        \n",
    "        return a\n",
    "    else:\n",
    "        return a.astype(np.float)\n",
    "\n",
    "def splStr(strg):\n",
    "    t_strg = strg.split('.')\n",
    "    return t_strg[0]\n",
    "\n",
    "def readata(filename,fx=None,filterData=False,ninesixwell=False):\n",
    "    fileNameString = splStr(filename)\n",
    "    collectionNum = fileNameString[:8]\n",
    "    suffix = fileNameString[8:]\n",
    "    if filterData:\n",
    "        if int(fx)==7 or suffix == '100':\n",
    "            df = pd.read_excel(fpath+'/'+filename,usecols=list(range(3,25,2)))\n",
    "        elif int(fx)==6:\n",
    "            df = pd.read_excel(fpath+'/'+filename,usecols=list(range(4,25,2)))\n",
    "    elif ninesixwell:\n",
    "        df = pd.read_excel(fpath+'/'+'96DW/'+filename)       \n",
    "    else:\n",
    "        df = pd.read_excel(fpath+'/'+filename,usecols=list(range(3,15)))       \n",
    "    return (df,collectionNum,suffix)\n",
    "\n",
    "def dfRowColDict(df):\n",
    "    df.index = [i for i in string.ascii_uppercase[:len(df)]]\n",
    "    colSuffix = [f'0{i}' if len(str(i)) <2 else str(i) for i in df.columns]\n",
    "    rowDict = {k:v for k,v in zip(range(len(df)),string.ascii_uppercase[:len(df)])}\n",
    "    colDict = {k:v for k,v in zip(range(len(df.columns)),colSuffix)}\n",
    "    return (rowDict,colDict)\n",
    "\n",
    "def genPropArray(df,pltcode,pltsuf,wavelh,dictDat):\n",
    "    dfarray = convertFloatArray(df.values)\n",
    "    dim = dfarray.shape\n",
    "    wellIDarray = np.zeros(dim).astype(str)\n",
    "    mdim = dim[0]*dim[1]\n",
    "    multiply = lambda x:[x]*mdim\n",
    "    properties = [np.array(i).reshape(dim) for i in list(map(multiply,[pltcode,pltsuf,wavelh]))]\n",
    "    for i in range(dim[0]):\n",
    "        for j in range(dim[1]):\n",
    "            wellIDarray[i][j] = '{}{}'.format(dictDat[0][i],dictDat[1][j])\n",
    "    properties.append(wellIDarray)\n",
    "    properties.append(dfarray)\n",
    "    return properties\n",
    "\n",
    "def create_connection(db_file):\n",
    "    try:\n",
    "        conn = sqlite3.connect('file:{}?mode=rwc'.format(db_file),uri=True) #Read, Write & Create mode, so connecting to a non-existing database will cause it to be created\n",
    "        print('sqlite3 version: '+sqlite3.version+'\\n==============\\n')\n",
    "        return conn\n",
    "    except Exception as e:\n",
    "        print(e)\n",
    "\n",
    "def create_table(conn,tableName):\n",
    "    exec_1 = 'CREATE TABLE IF NOT EXISTS '\n",
    "    exec_2 = ''' (PLATE_CODE INTEGER,PLATE_SUFFIX TEXT,PLATE_POSITION TEXT, READING REAL,WAVELENGTH TEXT)'''\n",
    "    c = conn.cursor()\n",
    "    c.execute(exec_1 + tableName + exec_2)\n",
    "    \n",
    "def data_entry(conn,listOfVals,tblname):\n",
    "    exec_1 = '''INSERT INTO ''' \n",
    "    exec_2 = ''' (PLATE_CODE,PLATE_SUFFIX,PLATE_POSITION,READING,WAVELENGTH) VALUES (:1,:2,:3,:4,:5)'''\n",
    "    c = conn.cursor()\n",
    "    c.execute(exec_1+tblname+exec_2,listOfVals)\n",
    "    #print(exec_1+tblname+exec_2,listOfVals)\n",
    "    \n",
    "def enterDatDB(File,wavelh,conn,tblname,ninesixwell=False):\n",
    "    try:\n",
    "        dataPltCodeSuffix=readata(File,ninesixwell) #read filename and generate dataframe\n",
    "        dictDat=dfRowColDict(dataPltCodeSuffix[0]) #generate dictionary values for well ID\n",
    "        allData = genPropArray(dataPltCodeSuffix[0],str(dataPltCodeSuffix[1]),dataPltCodeSuffix[2],wavelh,dictDat)\n",
    "        for i in range(allData[0].shape[0]):\n",
    "            for j in range(allData[0].shape[1]):\n",
    "                values = [allData[0][i][j], #pltcode\n",
    "                          allData[1][i][j], #pltsuffix\n",
    "                          allData[3][i][j], #plt position\n",
    "                          allData[4][i][j], #reading\n",
    "                          allData[2][i][j].item()] #wavelength\n",
    "                with conn:\n",
    "                    data_entry(conn,values,tblname)\n",
    "    except cx_Oracle.IntegrityError as e:\n",
    "        print(f'{values[0]} : {e}')\n",
    "        pass\n",
    "                \n",
    "def dataStatEntr(con,plateCode):\n",
    "    try:\n",
    "        c = con.cursor()\n",
    "        q100_1 = \"\"\"SELECT PLATE_SUFFIX,READING FROM WELL_ABSORBANCE WHERE (PLATE_CODE =  \"\"\"\n",
    "        q100_2 = \"\"\" AND PLATE_SUFFIX = '100') ORDER BY PLATE_POSITION\"\"\"\n",
    "        q100 = c.execute(q100_1+plateCode+q100_2)\n",
    "        r100 = q100.fetchall()\n",
    "        q200_1 = \"\"\"SELECT PLATE_SUFFIX,READING FROM WELL_ABSORBANCE WHERE (PLATE_CODE = \"\"\" \n",
    "        q200_2 = \"\"\" AND PLATE_SUFFIX = '200') ORDER BY PLATE_POSITION\"\"\"\n",
    "        q200 = c.execute(q200_1+plateCode+q200_2)\n",
    "        r200 = q200.fetchall()\n",
    "        rone = [i[1] for i in r100]\n",
    "        rtwo = [i[1] for i in r200]\n",
    "        colRone = int(len(rone)/16)\n",
    "        colRtwo = int(len(rtwo)/16)\n",
    "        df1 = pd.DataFrame(np.array(rone).reshape((16,colRone)))\n",
    "        df2 = pd.DataFrame(np.array(rtwo).reshape((16,colRtwo)))\n",
    "        rcorr7 = corrABS(df1,df2,fx=7)\n",
    "        rcorr6 = corrABS(df1,df2,fx=6)\n",
    "        qcorrNorm7 = c.execute(\"\"\"INSERT INTO ABSORBANCE_STATS (PLATE_CODE,STATISTIC,FRACTION,STAT_TYPE) VALUES (:1,:2,:3,:4)\"\"\",[plateCode,rcorr7[0],7,'Normal Correlation'])\n",
    "        qcorrNorm6 = c.execute(\"\"\"INSERT INTO ABSORBANCE_STATS (PLATE_CODE,STATISTIC,FRACTION,STAT_TYPE) VALUES (:1,:2,:3,:4)\"\"\",[plateCode,rcorr6[0],6,'Normal Correlation'])\n",
    "        qcorrRot7 = c.execute(\"\"\"INSERT INTO ABSORBANCE_STATS (PLATE_CODE,STATISTIC,FRACTION,STAT_TYPE) VALUES (:1,:2,:3,:4)\"\"\",[plateCode,rcorr7[1],7,'Rotated Correlation'])\n",
    "        qcorrRot6 = c.execute(\"\"\"INSERT INTO ABSORBANCE_STATS (PLATE_CODE,STATISTIC,FRACTION,STAT_TYPE) VALUES (:1,:2,:3,:4)\"\"\",[plateCode,rcorr6[1],6,'Rotated Correlation'])\n",
    "        #print('{}:{},{}'.format(plateCode,rcorr7,rcorr6))\n",
    "    except cx_Oracle.IntegrityError as e:\n",
    "        print(f'{plateCode} : {e}')\n",
    "        pass"
   ]
  },
  {
   "cell_type": "code",
   "execution_count": 19,
   "metadata": {},
   "outputs": [],
   "source": [
    "#test data\n",
    "df=readata('14170909100.xlsx',1)[0]\n",
    "dictDat=dfRowColDict(df)\n",
    "prop = genPropArray(df,'14170909','100',660,dictDat)\n",
    "with open('heatmpdat.csv','w') as f:\n",
    "    for i in range(prop[4].shape[0]):\n",
    "        for j in range(prop[4].shape[1]):\n",
    "            #print(prop[4][i,j])\n",
    "            f.write(str(prop[4][i,j])+'\\n,')"
   ]
  },
  {
   "cell_type": "code",
   "execution_count": 18,
   "metadata": {},
   "outputs": [],
   "source": [
    "for fi in npltcode:\n",
    "    try:\n",
    "        enterDatDB(fi,660,con,'WELL_ABSORBANCE')\n",
    "    except Exception as e:\n",
    "        print(f'{fi} : {e}')"
   ]
  },
  {
   "cell_type": "code",
   "execution_count": null,
   "metadata": {
    "scrolled": false
   },
   "outputs": [],
   "source": [
    "#CHECK DF SHAPE\n",
    "for i in nlst:\n",
    "    try:\n",
    "        df = pd.read_excel(fpath +'/96DW/'+i)\n",
    "        num = df.shape\n",
    "        print(f'{i} : {num}')\n",
    "    except Exception as e:\n",
    "        print(f'{i}, ** {e}')"
   ]
  },
  {
   "cell_type": "code",
   "execution_count": 20,
   "metadata": {},
   "outputs": [],
   "source": [
    "for i in pltcodeNew:\n",
    "    try:\n",
    "        dataStatEntr(con,i)\n",
    "    except ValueError as e:\n",
    "        print(f'{i}:{e}')\n",
    "con.commit()"
   ]
  },
  {
   "cell_type": "code",
   "execution_count": 61,
   "metadata": {},
   "outputs": [],
   "source": [
    "lstfiles = [fi for fi in os.listdir(fpath) if re.match('\\w',fi)] #not include ~.files (temp files?)\n",
    "\n",
    "host = 'DTPIV1.NCIFCRF.GOV'\n",
    "port = 1523\n",
    "servname = 'PROD.NCIFCRF.GOV'\n",
    "user = 'NPSG'\n",
    "passwd = 'P2wC9Gq3r4'\n",
    "\n",
    "dsn_tns = cx_Oracle.makedsn(host,port,service_name=servname)\n",
    "con = cx_Oracle.connect(user,passwd, dsn_tns)\n",
    "\n",
    "#c = con.cursor()\n",
    "#query = c.execute(\"SELECT * FROM WELL_ABSORBANCE\")\n",
    "#r = query.fetchall()\n",
    "#colnames = list(map(lambda x: x[0], c.description))\n",
    "#for row in r:\n",
    "#    print(row)    "
   ]
  },
  {
   "cell_type": "code",
   "execution_count": 26,
   "metadata": {},
   "outputs": [],
   "source": [
    "import time\n",
    "lstfilesDates=[]\n",
    "for i in lstfiles:\n",
    "    #print(os.path.getctime(fpath+'/'+i))\n",
    "    timestamp = [i for i in time.ctime(os.path.getctime(fpath+'/'+i)).split(' ') if i]\n",
    "    lstfilesDates.append(timestamp)\n",
    "alst=[]\n",
    "for i,j in zip(lstfiles,lstfilesDates):\n",
    "    time = j[1]+' '+j[2]\n",
    "    if time == 'Feb 7':\n",
    "        alst.append(splStr(i)[:8])"
   ]
  },
  {
   "cell_type": "code",
   "execution_count": 16,
   "metadata": {},
   "outputs": [],
   "source": [
    "c = con.cursor()\n",
    "query=c.execute(\"SELECT DISTINCT PLATE_CODE FROM WELL_ABSORBANCE\")\n",
    "r = query.fetchall()\n",
    "pltcodeComplt = [pcode[0] for pcode in r]    \n",
    "pltcodeNew = set([i for i in [splStr(j)[0:8] for j in lstfiles if j.endswith('.xlsx') and not j.startswith('mw')] if i not in pltcodeComplt])"
   ]
  },
  {
   "cell_type": "code",
   "execution_count": null,
   "metadata": {
    "scrolled": true
   },
   "outputs": [],
   "source": [
    "#CHECK IF EACH PLATE CODE HAS TWO FILES (100,200)\n",
    "addsuff = lambda x,y: (f'{x}100.xlsx',f'{y}200.xlsx')\n",
    "for i in pltcodeNew:\n",
    "    iname = addsuff(i,i)\n",
    "    if all([os.path.isfile(fpath+'/'+iname[0]),os.path.isfile(fpath+'/'+iname[1])]):\n",
    "        try:\n",
    "            enterDatDB(iname[0],660,con,'WELL_ABSORBANCE')\n",
    "            enterDatDB(iname[1],660,con,'WELL_ABSORBANCE')\n",
    "            dataStatEntr(con,i)\n",
    "        except Exception as e:\n",
    "            print(f'{i} : {e}')\n",
    "    else:\n",
    "        print(f'{i} : False')\n",
    "con.commit()"
   ]
  },
  {
   "cell_type": "code",
   "execution_count": 16,
   "metadata": {},
   "outputs": [],
   "source": [
    "#addsuff = lambda x,y: (f'{x}100.xlsx',f'{y}200.xlsx')\n",
    "tuplefi = [addsuff(i,i) for i in pltcodeNew]\n",
    "npltcode = list(sum(tuplefi, ()))"
   ]
  },
  {
   "cell_type": "code",
   "execution_count": null,
   "metadata": {},
   "outputs": [],
   "source": [
    "c = conn.cursor()\n",
    "c.execute(\"SELECT * FROM wellAbs\")\n",
    "colnames = list(map(lambda x: x[0], c.description))\n",
    "result_set = c.fetchall()\n",
    "for row in result_set:\n",
    "    print(row)"
   ]
  },
  {
   "cell_type": "code",
   "execution_count": 15,
   "metadata": {
    "scrolled": true
   },
   "outputs": [],
   "source": [
    "#re-format 96W to 384 for correlation:\n",
    "c = con.cursor()\n",
    "c.execute('''SELECT M.*,ROW_96 || LPAD(COL_96, 2, '0') FROM WELL_MAP M''')\n",
    "r = c.fetchall()\n",
    "dfmapSQL = pd.DataFrame(r)\n",
    "c.execute(\"SELECT COLUMN_NAME FROM USER_TAB_COLUMNS WHERE TABLE_NAME = 'WELL_MAP'\")\n",
    "colnames = c.fetchall()\n",
    "suffix = colnames.pop(0)[0]\n",
    "dfmapSQL.columns = [i[0] for i in colnames]+[suffix,'96_PAD0']"
   ]
  },
  {
   "cell_type": "code",
   "execution_count": 4,
   "metadata": {},
   "outputs": [],
   "source": [
    "fxdict = {'90':'0','91':'1', '92':'2', '93':'3', '94':'4', '95':'5', '96':'6', '97':'7'}\n",
    "\n",
    "def map96wTo384_entrDat(file,dfmapSQL):\n",
    "    dfRaw = readata(file,ninesixwell=True)\n",
    "    df = dfRaw[0].iloc[:,1:-1]\n",
    "    fx_suffix = splStr(file)[9:]\n",
    "    if int(fx_suffix) <94:\n",
    "        pltsuffix = '100'\n",
    "    else:\n",
    "        pltsuffix = '200'\n",
    "    fx_suffix384 = fxdict[fx_suffix]\n",
    "    rwcolDict = dfRowColDict(df)\n",
    "    dfArr = genPropArray(df,dfRaw[1],dfRaw[2],660,rwcolDict)\n",
    "    dfArr[1] = np.repeat(pltsuffix,dfArr[1].size).reshape((dfArr[1].shape[0],dfArr[1].shape[1]))\n",
    "    for i in range(dfArr[3].shape[0]):\n",
    "        for j in range(dfArr[3].shape[1]):\n",
    "            dfq = dfmapSQL[dfmapSQL['96_PAD0'].str.match(dfArr[3][i,j])]\n",
    "            dfq = dfq[(dfq['SUFFIX']==pltsuffix) & (dfq['FRACTION']==fx_suffix384)]\n",
    "            if int(dfq['COL_384'].values[0]) < 10:\n",
    "                zeropad = '0'\n",
    "            else:\n",
    "                zeropad = ''\n",
    "            wellID = f\"{dfq['ROW_384'].values[0]}{zeropad}{dfq['COL_384'].values[0]}\"\n",
    "            dfArr[3][i,j] = wellID\n",
    "    return dfArr\n",
    "\n",
    "def enterDat96(File,con,tblname):\n",
    "    try:\n",
    "        allData = map96wTo384_entrDat(File,dfmapSQL)\n",
    "        for i in range(allData[0].shape[0]):\n",
    "            for j in range(allData[0].shape[1]):\n",
    "                values = [allData[0][i][j], #pltcode\n",
    "                          allData[1][i][j], #pltsuffix\n",
    "                          allData[3][i][j], #plt position\n",
    "                          allData[4][i][j], #reading\n",
    "                          allData[2][i][j].item()] #wavelength\n",
    "                with con:\n",
    "                    data_entry(con,values,tblname)\n",
    "    except cx_Oracle.IntegrityError as e:\n",
    "        print(f'{values[0]} : {e}')\n",
    "        pass"
   ]
  },
  {
   "cell_type": "code",
   "execution_count": 57,
   "metadata": {},
   "outputs": [
    {
     "data": {
      "text/plain": [
       "['14170902290.xlsx',\n",
       " '14170902291.xlsx',\n",
       " '14170902292.xlsx',\n",
       " '14170902293.xlsx',\n",
       " '14170902295.xlsx',\n",
       " '14170902296.xlsx',\n",
       " '14170902297.xlsx',\n",
       " '14170902394.xlsx',\n",
       " '14171105290.xlsx',\n",
       " '14171105291.xlsx',\n",
       " '14171105292.xlsx',\n",
       " '14171105293.xlsx',\n",
       " '14171105294.xlsx',\n",
       " '14171105295.xlsx',\n",
       " '14171105296.xlsx',\n",
       " '14171105297.xlsx']"
      ]
     },
     "execution_count": 57,
     "metadata": {},
     "output_type": "execute_result"
    }
   ],
   "source": [
    "pltcode=['14170902','14171105']\n",
    "lst96files = [fi for fi in os.listdir(fpath+'/96DW') if re.match(pltcode[0],fi)] + [fi for fi in os.listdir(fpath+'/96DW') if re.match(pltcode[1],fi)]\n",
    "lst96files"
   ]
  },
  {
   "cell_type": "code",
   "execution_count": null,
   "metadata": {},
   "outputs": [],
   "source": [
    "for i in lst96files:\n",
    "    try:\n",
    "        with con:\n",
    "            #enterDat96(i,con,'WELL_ABSORBANCE')\n",
    "            dataStatEntr(con,splStr(i)[:8])\n",
    "            con.commit()\n",
    "    except Exception as e:\n",
    "        print(e)"
   ]
  },
  {
   "cell_type": "code",
   "execution_count": 45,
   "metadata": {},
   "outputs": [
    {
     "name": "stdout",
     "output_type": "stream",
     "text": [
      "sqlite3 version: 2.6.0\n",
      "==============\n",
      "\n"
     ]
    }
   ],
   "source": [
    "conn = create_connection('wellAbs.db')"
   ]
  },
  {
   "cell_type": "code",
   "execution_count": 46,
   "metadata": {},
   "outputs": [],
   "source": [
    "nlst = [fi for fi in os.listdir(fpath+'/96DW') if re.match('14171105',fi)] "
   ]
  },
  {
   "cell_type": "code",
   "execution_count": 53,
   "metadata": {},
   "outputs": [],
   "source": [
    "c = conn.cursor()\n",
    "r = c.execute(\"SELECT READING FROM WELLABS WHERE PLATE_CODE = '14171105' AND PLATE_SUFFIX = '100'\")\n",
    "res100 = r.fetchall()\n",
    "r = c.execute(\"SELECT READING FROM WELLABS WHERE PLATE_CODE = '14171105' AND PLATE_SUFFIX = '200'\")\n",
    "res200 = r.fetchall()"
   ]
  },
  {
   "cell_type": "code",
   "execution_count": 57,
   "metadata": {},
   "outputs": [],
   "source": [
    "r100 = [i[0] for i in res100]\n",
    "r200 = [i[0] for i in res200]\n",
    "df1 = pd.DataFrame(np.array(r100).reshape((16,int(len(r100)/16))))\n",
    "df2 = pd.DataFrame(np.array(r200).reshape((16,int(len(r200)/16))))"
   ]
  },
  {
   "cell_type": "code",
   "execution_count": 63,
   "metadata": {},
   "outputs": [
    {
     "data": {
      "text/plain": [
       "(0.05772054161285061, 0.14728111120014437)"
      ]
     },
     "execution_count": 63,
     "metadata": {},
     "output_type": "execute_result"
    }
   ],
   "source": [
    "corrABS(df1,df2,6)"
   ]
  },
  {
   "cell_type": "code",
   "execution_count": 64,
   "metadata": {},
   "outputs": [
    {
     "data": {
      "text/plain": [
       "(0.03431238042146955, 0.3520139995211177)"
      ]
     },
     "execution_count": 64,
     "metadata": {},
     "output_type": "execute_result"
    }
   ],
   "source": [
    "corrABS(df1,df2,7)"
   ]
  },
  {
   "cell_type": "code",
   "execution_count": 62,
   "metadata": {},
   "outputs": [
    {
     "name": "stdout",
     "output_type": "stream",
     "text": [
      "14170110 : 384 -- OKAY\n",
      "\n",
      "14170208 : 704 -- OKAY\n",
      "\n",
      "14170403 : 704 -- OKAY\n",
      "\n",
      "14161007 : 384 -- OKAY\n",
      "\n",
      "14170404 : 704 -- OKAY\n",
      "\n",
      "14170300 : 704 -- OKAY\n",
      "\n",
      "14170902 : 704 -- OKAY\n",
      "\n",
      "14170501 : 704 -- OKAY\n",
      "\n"
     ]
    }
   ],
   "source": [
    "lst = ['14170110','14170208','14170403','14161007','14170404','14170300','14170902','14170501']\n",
    "c = con.cursor()\n",
    "for i in lst:\n",
    "    r = c.execute(f\"SELECT * FROM WELL_ABSORBANCE WHERE PLATE_CODE='{i}'\")\n",
    "    res = r.fetchall()\n",
    "    lres = len(res)\n",
    "    if lres > 0:\n",
    "        print(f'{i} : {lres} -- OKAY\\n')\n",
    "    else:\n",
    "        print(f'{i} : {lres} -- PROBLEM CHILD\\n')\n",
    "    "
   ]
  },
  {
   "cell_type": "code",
   "execution_count": null,
   "metadata": {
    "scrolled": false
   },
   "outputs": [],
   "source": [
    "r = c.execute(\"SELECT DISTINCT PLATE_CODE FROM WELL_ABSORBANCE\")\n",
    "pltcodelst = [i[0] for i in r.fetchall()]\n",
    "for i in pltcodelst:\n",
    "    r = c.execute(f\"SELECT COUNT(*) FROM WELL_ABSORBANCE WHERE PLATE_CODE = '{i}'\")\n",
    "    count = r.fetchall()[0][0]\n",
    "    print(f\"{i} : {count}\")"
   ]
  },
  {
   "cell_type": "code",
   "execution_count": 43,
   "metadata": {},
   "outputs": [],
   "source": [
    "nlst=set([splStr(fi)[:8] for fi in os.listdir(fpath+'/96DW') if re.match('\\w',fi)] )"
   ]
  },
  {
   "cell_type": "code",
   "execution_count": 56,
   "metadata": {},
   "outputs": [
    {
     "name": "stdout",
     "output_type": "stream",
     "text": [
      "14170504 : 704 : [(8, 11), (8, 11), (8, 11), (8, 11), (8, 11), (8, 11), (8, 11), (8, 11)]\n",
      "14170515 : 704 : [(8, 11), (8, 11), (8, 11), (8, 11), (8, 11), (8, 11), (8, 11), (8, 11)]\n",
      "14170403 : 704 : [(8, 11), (8, 11), (8, 11), (8, 11), (8, 11), (8, 11), (8, 11), (8, 11)]\n",
      "14170511 : 704 : [(8, 11), (8, 11), (8, 11), (8, 11), (8, 11), (8, 11), (8, 11), (8, 11)]\n",
      "14170516 : 704 : [(8, 11), (8, 11), (8, 11), (8, 11), (8, 11), (8, 11), (8, 11), (8, 11)]\n",
      "14170404 : 704 : [(8, 11), (8, 11), (8, 11), (8, 11), (8, 11), (8, 11), (8, 11), (8, 11)]\n",
      "14170501 : 704 : [(8, 11), (8, 11), (8, 11), (8, 11), (8, 11), (8, 11), (8, 11), (8, 11)]\n",
      "14170902 : 384 : [(8, 11), (8, 11), (8, 11), (8, 11), (8, 11), (8, 11), (8, 11), (8, 11)]\n",
      "14171105 : 384 : [(8, 11), (8, 11), (8, 11), (8, 11), (8, 11), (8, 11), (8, 11), (8, 11)]\n",
      "14170208 : 704 : [(8, 11), (8, 11), (8, 11), (8, 11), (8, 11), (8, 11), (8, 11), (8, 11)]\n",
      "14170510 : 704 : [(8, 11), (8, 11), (8, 11), (8, 11), (8, 11), (8, 11), (8, 11), (8, 11)]\n",
      "14170300 : 704 : [(8, 11), (8, 11), (8, 11), (8, 11), (8, 11), (8, 11), (8, 11), (8, 11)]\n",
      "14170508 : 704 : [(8, 11), (8, 11), (8, 11), (8, 11), (8, 11), (8, 11), (8, 11), (8, 11)]\n"
     ]
    }
   ],
   "source": [
    "for i in nlst:\n",
    "    r = c.execute(f\"SELECT COUNT(*) FROM WELL_ABSORBANCE WHERE PLATE_CODE = '{i}'\")\n",
    "    count = r.fetchall()[0][0]\n",
    "    lstOfdf=[]\n",
    "    for j in [fi for fi in os.listdir(fpath+'/96DW') if re.match(i,fi)]:\n",
    "        df = readata(j,ninesixwell=True)\n",
    "        df = df[0].iloc[:,1:-1]\n",
    "        lstOfdf.append(df.shape)\n",
    "    dfDict = {i:lstOfdf}\n",
    "    print(f\"{i} : {count} : {lstOfdf}\")"
   ]
  }
 ],
 "metadata": {
  "kernelspec": {
   "display_name": "py37",
   "language": "python",
   "name": "py37"
  },
  "language_info": {
   "codemirror_mode": {
    "name": "ipython",
    "version": 3
   },
   "file_extension": ".py",
   "mimetype": "text/x-python",
   "name": "python",
   "nbconvert_exporter": "python",
   "pygments_lexer": "ipython3",
   "version": "3.7.3"
  }
 },
 "nbformat": 4,
 "nbformat_minor": 2
}
