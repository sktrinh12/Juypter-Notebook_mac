{
 "cells": [
  {
   "cell_type": "code",
   "execution_count": 21,
   "metadata": {},
   "outputs": [],
   "source": [
    "import numpy as np\n",
    "import random\n",
    "\n",
    "\n",
    "class dcards(object):\n",
    "    suit_lst = [\"Clubs\",\"Diamonds\",\"Hearts\",\"Spades\"]\n",
    "    values_lst = [\"two\",\"three\",\"four\",\"five\",\"six\",\"seven\",\"eight\",\"nine\",\"ten\",\"jack\",\"queen\",\"king\",\"ace\"]\n",
    "    cardpack=[]\n",
    "    \n",
    "    def __init__(self):\n",
    "        self.deck = []\n",
    "        self.deck.append([[i,j] for i in dcards.suit_lst for j in dcards.values_lst])\n",
    "            \n",
    "    def IsSuitEmpty(self):\n",
    "        self.result = True\n",
    "        for val in self.values_lst:\n",
    "            if (not self.CardDealt(self.suit,val)):\n",
    "                self.result = False\n",
    "                break\n",
    "        return self.result\n",
    "\n",
    "    def CardDealt(self):\n",
    "        for sublist in self.deck:\n",
    "            if not sublist:\n",
    "                continue\n",
    "            elif self.suit in sublistp[0] and self.value in sublist[1]:\n",
    "                check = self.deck.index([self.suit,self.value])\n",
    "                if not check:\n",
    "                    return True\n",
    "                else:\n",
    "                    return False\n",
    "\n",
    "    def DealCardfromPack(self):\n",
    "        self.st = random.choice(dcards.suit_lst)\n",
    "        while self.IsSuitEmpty(self.st):\n",
    "            self.st = random.choice(dcards.suit_lst)\n",
    "        self.va = random.choice(dcards.values_lst)\n",
    "        while self.CardDealt(self.st,self.va):\n",
    "            self.va = random.choice(self.values_lst)\n",
    "        while [self.st,self.va] not in self.deck:\n",
    "            self.st = random.choice(self.suit_lst)\n",
    "            self.va = random.choice(self.values_lst)\n",
    "        self.deck[self.deck.index([self.st,self.va])] = []\n",
    "        self.cardpack.append([self.st,self.va])"
   ]
  },
  {
   "cell_type": "code",
   "execution_count": 22,
   "metadata": {
    "collapsed": true
   },
   "outputs": [],
   "source": [
    "d  = dcards()"
   ]
  },
  {
   "cell_type": "code",
   "execution_count": 23,
   "metadata": {},
   "outputs": [
    {
     "data": {
      "text/plain": [
       "[[['Clubs', 'two'],\n",
       "  ['Clubs', 'three'],\n",
       "  ['Clubs', 'four'],\n",
       "  ['Clubs', 'five'],\n",
       "  ['Clubs', 'six'],\n",
       "  ['Clubs', 'seven'],\n",
       "  ['Clubs', 'eight'],\n",
       "  ['Clubs', 'nine'],\n",
       "  ['Clubs', 'ten'],\n",
       "  ['Clubs', 'jack'],\n",
       "  ['Clubs', 'queen'],\n",
       "  ['Clubs', 'king'],\n",
       "  ['Clubs', 'ace'],\n",
       "  ['Diamonds', 'two'],\n",
       "  ['Diamonds', 'three'],\n",
       "  ['Diamonds', 'four'],\n",
       "  ['Diamonds', 'five'],\n",
       "  ['Diamonds', 'six'],\n",
       "  ['Diamonds', 'seven'],\n",
       "  ['Diamonds', 'eight'],\n",
       "  ['Diamonds', 'nine'],\n",
       "  ['Diamonds', 'ten'],\n",
       "  ['Diamonds', 'jack'],\n",
       "  ['Diamonds', 'queen'],\n",
       "  ['Diamonds', 'king'],\n",
       "  ['Diamonds', 'ace'],\n",
       "  ['Hearts', 'two'],\n",
       "  ['Hearts', 'three'],\n",
       "  ['Hearts', 'four'],\n",
       "  ['Hearts', 'five'],\n",
       "  ['Hearts', 'six'],\n",
       "  ['Hearts', 'seven'],\n",
       "  ['Hearts', 'eight'],\n",
       "  ['Hearts', 'nine'],\n",
       "  ['Hearts', 'ten'],\n",
       "  ['Hearts', 'jack'],\n",
       "  ['Hearts', 'queen'],\n",
       "  ['Hearts', 'king'],\n",
       "  ['Hearts', 'ace'],\n",
       "  ['Spades', 'two'],\n",
       "  ['Spades', 'three'],\n",
       "  ['Spades', 'four'],\n",
       "  ['Spades', 'five'],\n",
       "  ['Spades', 'six'],\n",
       "  ['Spades', 'seven'],\n",
       "  ['Spades', 'eight'],\n",
       "  ['Spades', 'nine'],\n",
       "  ['Spades', 'ten'],\n",
       "  ['Spades', 'jack'],\n",
       "  ['Spades', 'queen'],\n",
       "  ['Spades', 'king'],\n",
       "  ['Spades', 'ace']]]"
      ]
     },
     "execution_count": 23,
     "metadata": {},
     "output_type": "execute_result"
    }
   ],
   "source": [
    "d.deck"
   ]
  },
  {
   "cell_type": "code",
   "execution_count": null,
   "metadata": {
    "collapsed": true
   },
   "outputs": [],
   "source": []
  },
  {
   "cell_type": "code",
   "execution_count": null,
   "metadata": {
    "collapsed": true
   },
   "outputs": [],
   "source": []
  },
  {
   "cell_type": "code",
   "execution_count": null,
   "metadata": {
    "collapsed": true
   },
   "outputs": [],
   "source": []
  }
 ],
 "metadata": {
  "kernelspec": {
   "display_name": "Python 3",
   "language": "python",
   "name": "python3"
  },
  "language_info": {
   "codemirror_mode": {
    "name": "ipython",
    "version": 3
   },
   "file_extension": ".py",
   "mimetype": "text/x-python",
   "name": "python",
   "nbconvert_exporter": "python",
   "pygments_lexer": "ipython3",
   "version": "3.6.2"
  }
 },
 "nbformat": 4,
 "nbformat_minor": 2
}
