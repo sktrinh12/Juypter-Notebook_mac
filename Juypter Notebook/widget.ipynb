{
 "cells": [
  {
   "cell_type": "code",
   "execution_count": 1,
   "metadata": {},
   "outputs": [
    {
     "data": {
      "application/vnd.jupyter.widget-view+json": {
       "model_id": "0bc1aa6497dc426cadf7b1228e5ac61e"
      }
     },
     "metadata": {},
     "output_type": "display_data"
    }
   ],
   "source": [
    "import pyfirmata\n",
    "import time\n",
    "from ipywidgets import widgets, interact\n",
    "import ipywidgets as widgets\n",
    "from IPython.display import display\n",
    "\n",
    "pin=9\n",
    "port='/dev/tty.usbmodem1411'\n",
    "board = pyfirmata.Arduino(port)\n",
    "\n",
    "def ledON():\n",
    "    board.digital[pin].write(1)\n",
    "\n",
    "def ledOFF():\n",
    "    board.digital[pin].write(0)\n",
    "    \n",
    "def runit(LED=0):\n",
    "    return(LED)\n",
    "\n",
    "slider = widgets.IntSlider(value=0,min=0,max=1,step=1)\n",
    "ledwidget = widgets.interactive(runit,a=slider)\n",
    "display(ledwidget)\n",
    "\n",
    "def testit():\n",
    "    if ledwidget.result ==1:\n",
    "        ledON()\n",
    "    elif ledwidget.result==0:\n",
    "        ledOFF()\n",
    "    else:\n",
    "        pass\n",
    "\n",
    "\n",
    "testit()\n",
    "\n",
    "board.exit()\n"
   ]
  },
  {
   "cell_type": "code",
   "execution_count": 24,
   "metadata": {},
   "outputs": [],
   "source": [
    "board.exit()"
   ]
  },
  {
   "cell_type": "code",
   "execution_count": 3,
   "metadata": {},
   "outputs": [
    {
     "name": "stdout",
     "output_type": "stream",
     "text": [
      "93\n"
     ]
    }
   ],
   "source": [
    "import random\n",
    "import pyfirmata\n",
    "pin=8\n",
    "port='/dev/tty.usbmodem1411'\n",
    "board = pyfirmata.Arduino(port)\n",
    "\n",
    "def randled(x,y):\n",
    "    randnum = random.randint(x,y)\n",
    "    if randnum % 2 == 0:\n",
    "        board.digital[pin].write(1)\n",
    "        print(randnum)\n",
    "    else:\n",
    "        board.digital[pin].write(0)\n",
    "        print(randnum)\n",
    "\n",
    "randled(0,100)"
   ]
  },
  {
   "cell_type": "code",
   "execution_count": 7,
   "metadata": {},
   "outputs": [
    {
     "name": "stdout",
     "output_type": "stream",
     "text": [
      "35\n"
     ]
    }
   ],
   "source": [
    "randled(0,53)"
   ]
  }
 ],
 "metadata": {
  "kernelspec": {
   "display_name": "Python 3",
   "language": "python",
   "name": "python3"
  },
  "language_info": {
   "codemirror_mode": {
    "name": "ipython",
    "version": 3
   },
   "file_extension": ".py",
   "mimetype": "text/x-python",
   "name": "python",
   "nbconvert_exporter": "python",
   "pygments_lexer": "ipython3",
   "version": "3.6.2"
  }
 },
 "nbformat": 4,
 "nbformat_minor": 2
}
