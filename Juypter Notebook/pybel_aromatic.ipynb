{
 "cells": [
  {
   "cell_type": "code",
   "execution_count": 7,
   "metadata": {},
   "outputs": [],
   "source": [
    "import openbabel as ob\n",
    "import pybel"
   ]
  },
  {
   "cell_type": "code",
   "execution_count": 16,
   "metadata": {},
   "outputs": [],
   "source": [
    "fl = pybel.readstring(\"smi\",\"c1c(c(=O)[nH]c(=O)[nH]1)F\") #fluorocil"
   ]
  },
  {
   "cell_type": "code",
   "execution_count": 17,
   "metadata": {},
   "outputs": [],
   "source": [
    "dxy = pybel.readstring('smi','C[C@H]1c2cccc(c2C(=O)C3=C([C@]4([C@@H]([C@H]([C@H]13)O)[C@@H](C(=C(C4=O)C(=O)N)O)N(C)C)O)O)O.O')\n",
    "#doxycline"
   ]
  },
  {
   "cell_type": "code",
   "execution_count": 20,
   "metadata": {},
   "outputs": [],
   "source": [
    "smarts = pybel.Smarts(\"c:c\")"
   ]
  },
  {
   "cell_type": "code",
   "execution_count": 26,
   "metadata": {},
   "outputs": [],
   "source": [
    "def findarom(smiles,smarts):\n",
    "    ar_ring = 0\n",
    "    smi = pybel.readstring(\"smi\",smiles)\n",
    "    smart_length = len(smarts.findall(smi))\n",
    "    if smart_length % 6 == 0:\n",
    "        ar_ring = int(smart_length / 6)\n",
    "    else:\n",
    "        ar_ring = 0\n",
    "    return ar_ring"
   ]
  },
  {
   "cell_type": "code",
   "execution_count": 28,
   "metadata": {},
   "outputs": [
    {
     "data": {
      "text/plain": [
       "0"
      ]
     },
     "execution_count": 28,
     "metadata": {},
     "output_type": "execute_result"
    }
   ],
   "source": [
    "t = 'C[C@H]1c2cccc(c2C(=O)C3=C([C@]4([C@@H]([C@H]([C@H]13)O)[C@@H](C(=C(C4=O)C(=O)N)O)N(C)C)O)O)O.O'\n",
    "f = \"c1c(c(=O)[nH]c(=O)[nH]1)F\"\n",
    "findarom(f,smarts)"
   ]
  }
 ],
 "metadata": {
  "kernelspec": {
   "display_name": "Python-3.6 env",
   "language": "python",
   "name": "py36"
  },
  "language_info": {
   "codemirror_mode": {
    "name": "ipython",
    "version": 3
   },
   "file_extension": ".py",
   "mimetype": "text/x-python",
   "name": "python",
   "nbconvert_exporter": "python",
   "pygments_lexer": "ipython3",
   "version": "3.6.6"
  }
 },
 "nbformat": 4,
 "nbformat_minor": 2
}
