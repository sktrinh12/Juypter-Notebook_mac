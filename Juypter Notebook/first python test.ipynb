{
 "cells": [
  {
   "cell_type": "code",
   "execution_count": 18,
   "metadata": {},
   "outputs": [],
   "source": [
    "linkedin = {\n",
    "    'name':'Spencer Trinh',\n",
    "    'divs1':{\n",
    "    'job1':'Chemist Assistant (SDC Technologies)',\n",
    "    'job2':'Product Specialist (Agilent Technologies)',\n",
    "    'job3':'Research Associate (BASF Enzymes)',\n",
    "    'job4':'Research Volunteer (NYU Langone Medical Center)',\n",
    "    'job5':'Research Associate (Leidos Biomedical)'\n",
    "    },\n",
    "    'divs2':{\n",
    "    'education1':{'uni':'UCSD','degree':'BSc','major':'Chemistry'},\n",
    "    'education2':{'uni':'BBK','degree':'MSc', 'major':'Analytical Chemistry'}\n",
    "    } \n",
    "           }"
   ]
  },
  {
   "cell_type": "code",
   "execution_count": 17,
   "metadata": {},
   "outputs": [
    {
     "name": "stdout",
     "output_type": "stream",
     "text": [
      "Chemist Assistant (SDC Technologies)\n"
     ]
    }
   ],
   "source": [
    "print(linkedin['divs1']['job1'])"
   ]
  },
  {
   "cell_type": "code",
   "execution_count": null,
   "metadata": {
    "collapsed": true
   },
   "outputs": [],
   "source": [
    "jobs = linkedin['divs1']\n",
    "education = linkedin['divs2']"
   ]
  },
  {
   "cell_type": "code",
   "execution_count": 23,
   "metadata": {},
   "outputs": [],
   "source": [
    "paragraph = 'My name is {}, and my first job was {}, second job, {}, third job {}, fourth job {} and fifth job {}. I studied at {} for my {} and {} for my {}.'.format(linkedin['name'],linkedin['divs1']['job1'],linkedin['divs1']['job2'],linkedin['divs1']['job3'],linkedin['divs1']['job4'],linkedin['divs1']['job5'],linkedin['divs2']['education1']['uni'],linkedin['divs2']['education1']['degree'],linkedin['divs2']['education2']['uni'],linkedin['divs2']['education2']['degree'])"
   ]
  },
  {
   "cell_type": "code",
   "execution_count": 24,
   "metadata": {},
   "outputs": [
    {
     "name": "stdout",
     "output_type": "stream",
     "text": [
      "My name is Spencer Trinh, and my first job was Chemist Assistant (SDC Technologies), second job, Product Specialist (Agilent Technologies), third job Research Associate (BASF Enzymes), fourth job Research Volunteer (NYU Langone Medical Center) and fifth job Research Associate (Leidos Biomedical). I studied at UCSD for my BSc and BBK for my MSc.\n"
     ]
    }
   ],
   "source": [
    "print(paragraph)"
   ]
  }
 ],
 "metadata": {
  "kernelspec": {
   "display_name": "Python 3",
   "language": "python",
   "name": "python3"
  },
  "language_info": {
   "codemirror_mode": {
    "name": "ipython",
    "version": 3
   },
   "file_extension": ".py",
   "mimetype": "text/x-python",
   "name": "python",
   "nbconvert_exporter": "python",
   "pygments_lexer": "ipython3",
   "version": "3.6.2"
  }
 },
 "nbformat": 4,
 "nbformat_minor": 2
}
