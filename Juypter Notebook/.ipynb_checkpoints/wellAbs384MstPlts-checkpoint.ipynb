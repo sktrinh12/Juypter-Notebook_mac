{
 "cells": [
  {
   "cell_type": "code",
   "execution_count": 1,
   "metadata": {},
   "outputs": [],
   "source": [
    "import pandas as pd\n",
    "import numpy as np\n",
    "import os \n",
    "import re\n",
    "import cx_Oracle\n",
    "import string\n",
    "\n",
    "def corrABS(df1,df2):\n",
    "    df1_cr = df1.iloc[0::2,:] #1st cell for crude\n",
    "    df2_fx7 = df2.iloc[1::2,:] #last cell for 7th fx\n",
    "    dft = df1_cr.transpose().iloc[::-1].transpose().iloc[::-1] #flip\n",
    "    dflstt = [item for sublist in dft.values.tolist() for item in sublist]\n",
    "    dflst1 = [item for sublist in df1_cr.values.tolist() for item in sublist]\n",
    "    dflst2 = [item for sublist in df2_fx7.values.tolist() for item in sublist]\n",
    "    dfarr_cr = convertFloatArray(dflst1)\n",
    "    dfarr_fx7 = convertFloatArray(dflst2)\n",
    "    dfarr_t = convertFloatArray(dflstt)\n",
    "    return (np.corrcoef(dfarr_cr,dfarr_fx7)[0][1],np.corrcoef(dfarr_t,dfarr_fx7)[0][1])\n",
    "\n",
    "def checkVarType(var):\n",
    "    if isinstance(var,list):\n",
    "        var = np.array(var)\n",
    "    return var\n",
    "\n",
    "def convertFloatArray(var):\n",
    "    a = checkVarType(var)\n",
    "    if np.isin(a,'OVRFLW').any():\n",
    "        a[a=='OVRFLW']=0\n",
    "        a=a.astype(np.float)\n",
    "        a[a==0]=np.amax(a)        \n",
    "        return a\n",
    "    else:\n",
    "        return a.astype(np.float)"
   ]
  },
  {
   "cell_type": "code",
   "execution_count": 16,
   "metadata": {},
   "outputs": [],
   "source": [
    "def splStr(strg):\n",
    "    t_strg = strg.split('.')\n",
    "    return t_strg[0]\n",
    "\n",
    "def readata(filename,fx=None,filterData=False):\n",
    "    fileNameString = splStr(filename)\n",
    "    collectionNum = fileNameString[:8]\n",
    "    suffix = fileNameString[8:]\n",
    "    if filterData:\n",
    "        if int(fx)==7 or suffix == '100':\n",
    "            df = pd.read_excel(fpath+'/'+filename,usecols=list(range(3,15,2)))\n",
    "        elif int(fx)==6:\n",
    "            df = pd.read_excel(fpath+'/'+filename,usecols=list(range(4,15,2)))\n",
    "    else:\n",
    "        df = pd.read_excel(fpath+'/'+filename,usecols=list(range(3,15)))       \n",
    "    return (df,collectionNum,suffix)\n",
    "\n",
    "def dfRowColDict(df):\n",
    "    df.index = [i for i in string.ascii_uppercase[:len(df)]]\n",
    "    colSuffix = [f'0{i}' if len(str(i)) <2 else str(i) for i in df.columns]\n",
    "    rowDict = {k:v for k,v in zip(range(len(df)),string.ascii_uppercase[:len(df)])}\n",
    "    colDict = {k:v for k,v in zip(range(len(df.columns)),colSuffix)}\n",
    "    return (rowDict,colDict)"
   ]
  },
  {
   "cell_type": "code",
   "execution_count": 10,
   "metadata": {},
   "outputs": [],
   "source": [
    "def genPropArray(df,pltcode,pltsuf,wavelh):\n",
    "    dfarray = convertFloatArray(df.values)\n",
    "    dim = dfarray.shape\n",
    "    wellIDarray = np.zeros(dim).astype(str)\n",
    "    mdim = dim[0]*dim[1]\n",
    "    multiply = lambda x:[x]*mdim\n",
    "    properties = [np.array(i).reshape(dim) for i in list(map(multiply,[pltcode,pltsuf,wavelh]))]\n",
    "    for i in range(dim[0]):\n",
    "        for j in range(dim[1]):\n",
    "            array_idx = np.where(dfarray==dfarray[i][j])\n",
    "            k = array_idx[0][0]\n",
    "            v = array_idx[1][0]\n",
    "            wellIDarray[i][j] = '{}{}'.format(rowDict[k],colDict[v])\n",
    "    properties.append(wellIDarray)\n",
    "    properties.append(dfarray)\n",
    "    return properties"
   ]
  },
  {
   "cell_type": "code",
   "execution_count": 20,
   "metadata": {},
   "outputs": [],
   "source": [
    "import sqlite3\n",
    "from sqlite3 import Error\n",
    "\n",
    "def create_connection(db_file):\n",
    "    try:\n",
    "        conn = sqlite3.connect('file:{}?mode=rwc'.format(db_file),uri=True) #Read, Write & Create mode, so connecting to a non-existing database will cause it to be created\n",
    "        print('sqlite3 version: '+sqlite3.version+'\\n==============\\n')\n",
    "        return conn\n",
    "    except Exception as e:\n",
    "        print(e)\n",
    "\n",
    "def create_table(conn,tableName):\n",
    "    exec_1 = 'CREATE TABLE IF NOT EXISTS '\n",
    "    exec_2 = ''' (plate_code INTEGER,plate_suffix TEXT,plate_position TEXT, reading REAL,wavelength TEXT)'''\n",
    "    c = conn.cursor()\n",
    "    c.execute(exec_1 + tableName + exec_2)\n",
    "    \n",
    "def data_entry(conn,listOfVals,tbl):\n",
    "    exec_1 = '''INSERT INTO '''\n",
    "    exec_2 = ''' (plate_code,plate_suffix,plate_position,reading,wavelength) VALUES (?,?,?,?,?)'''\n",
    "    c = conn.cursor()\n",
    "    c.execute(exec_1 + tbl + exec_2,listOfVals)"
   ]
  },
  {
   "cell_type": "code",
   "execution_count": 25,
   "metadata": {},
   "outputs": [
    {
     "name": "stdout",
     "output_type": "stream",
     "text": [
      "sqlite3 version: 2.6.0\n",
      "==============\n",
      "\n"
     ]
    }
   ],
   "source": [
    "fpath = '/users/spencertrinh/downloads'\n",
    "File,wavelh = '14170909200.xlsx','660'\n",
    "dataPltCodeSuffix=readata(File) #read filename and generate dataframe\n",
    "dictDat=dfRowColDict(dataPltCodeSuffix[0]) #generate dictionary values for well ID\n",
    "rowDict= dictDat[0] #row dictionary\n",
    "colDict= dictDat[1] #column dictionary\n",
    "allData = genPropArray(dataPltCodeSuffix[0],dataPltCodeSuffix[1],dataPltCodeSuffix[2],wavelh)\n",
    "conn = create_connection('wellAbs.db')\n",
    "for i in range(len(allData)):\n",
    "    for j in range(allData[0].shape[1]):\n",
    "        values = [allData[0][i][j], #pltcode\n",
    "                  allData[1][i][j], #pltsuffix\n",
    "                  allData[3][i][j], #plt position\n",
    "                  allData[4][i][j], #reading\n",
    "                  allData[2][i][j]] #wavelength\n",
    "        with conn:\n",
    "            data_entry(conn,values,'wellAbs')"
   ]
  },
  {
   "cell_type": "code",
   "execution_count": 45,
   "metadata": {},
   "outputs": [
    {
     "data": {
      "text/plain": [
       "['plate_code', 'plate_suffix', 'plate_position', 'reading', 'wavelength']"
      ]
     },
     "execution_count": 45,
     "metadata": {},
     "output_type": "execute_result"
    }
   ],
   "source": [
    "colnames"
   ]
  },
  {
   "cell_type": "code",
   "execution_count": 44,
   "metadata": {},
   "outputs": [
    {
     "name": "stdout",
     "output_type": "stream",
     "text": [
      "(14170909, '200', 'A03', 1.743, '660')\n",
      "(14170909, '200', 'A04', 1.023, '660')\n",
      "(14170909, '200', 'A05', 0.486, '660')\n",
      "(14170909, '200', 'A06', 0.416, '660')\n",
      "(14170909, '200', 'A07', 0.848, '660')\n",
      "(14170909, '200', 'A08', 0.58, '660')\n",
      "(14170909, '200', 'A09', 0.477, '660')\n",
      "(14170909, '200', 'A10', 0.41, '660')\n",
      "(14170909, '200', 'A11', 0.616, '660')\n",
      "(14170909, '200', 'A12', 0.504, '660')\n",
      "(14170909, '200', 'A13', 0.394, '660')\n",
      "(14170909, '200', 'A14', 0.243, '660')\n",
      "(14170909, '200', 'B03', 0.371, '660')\n",
      "(14170909, '200', 'B04', 1.0, '660')\n",
      "(14170909, '200', 'B05', 0.208, '660')\n",
      "(14170909, '200', 'B06', 0.345, '660')\n",
      "(14170909, '200', 'B07', 0.241, '660')\n",
      "(14170909, '200', 'B08', 0.246, '660')\n",
      "(14170909, '200', 'B09', 0.54, '660')\n",
      "(14170909, '200', 'B10', 0.264, '660')\n",
      "(14170909, '200', 'B11', 1.098, '660')\n",
      "(14170909, '200', 'B12', 0.298, '660')\n",
      "(14170909, '200', 'B13', 0.213, '660')\n",
      "(14170909, '200', 'B14', 0.268, '660')\n",
      "(14170909, '200', 'C03', 0.408, '660')\n",
      "(14170909, '200', 'C04', 0.192, '660')\n",
      "(14170909, '200', 'C05', 1.481, '660')\n",
      "(14170909, '200', 'C06', 0.185, '660')\n",
      "(14170909, '200', 'C07', 0.901, '660')\n",
      "(14170909, '200', 'C08', 0.188, '660')\n",
      "(14170909, '200', 'C09', 1.148, '660')\n",
      "(14170909, '200', 'C10', 0.365, '660')\n",
      "(14170909, '200', 'C11', 1.019, '660')\n",
      "(14170909, '200', 'C12', 0.418, '660')\n",
      "(14170909, '200', 'C13', 0.377, '660')\n",
      "(14170909, '200', 'C14', 0.277, '660')\n",
      "(14170909, '200', 'D03', 0.326, '660')\n",
      "(14170909, '200', 'D04', 0.503, '660')\n",
      "(14170909, '200', 'D05', 1.717, '660')\n",
      "(14170909, '200', 'D06', 0.202, '660')\n",
      "(14170909, '200', 'D07', 0.271, '660')\n",
      "(14170909, '200', 'D08', 0.242, '660')\n",
      "(14170909, '200', 'D09', 0.353, '660')\n",
      "(14170909, '200', 'D10', 0.207, '660')\n",
      "(14170909, '200', 'D11', 0.204, '660')\n",
      "(14170909, '200', 'D12', 0.17, '660')\n",
      "(14170909, '200', 'D13', 0.575, '660')\n",
      "(14170909, '200', 'B08', 0.246, '660')\n",
      "(14170909, '200', 'E03', 0.349, '660')\n",
      "(14170909, '200', 'E04', 0.212, '660')\n",
      "(14170909, '200', 'E05', 0.559, '660')\n",
      "(14170909, '200', 'E06', 0.18, '660')\n",
      "(14170909, '200', 'E07', 1.056, '660')\n",
      "(14170909, '200', 'E08', 0.444, '660')\n",
      "(14170909, '200', 'E09', 0.913, '660')\n",
      "(14170909, '200', 'E10', 0.261, '660')\n",
      "(14170909, '200', 'E11', 0.762, '660')\n",
      "(14170909, '200', 'E12', 0.312, '660')\n",
      "(14170909, '200', 'E13', 1.1, '660')\n",
      "(14170909, '200', 'E14', 0.61, '660')\n"
     ]
    }
   ],
   "source": [
    "c = conn.cursor()\n",
    "c.execute(\"SELECT * FROM wellAbs\")\n",
    "colnames = list(map(lambda x: x[0], c.description))\n",
    "result_set = c.fetchall()\n",
    "for row in result_set:\n",
    "    print(row)"
   ]
  },
  {
   "cell_type": "code",
   "execution_count": null,
   "metadata": {},
   "outputs": [],
   "source": [
    "conn = create_connection('wellAbs.db')\n",
    "with conn:\n",
    "    create_table(conn,\"wellAbs\")\n",
    "conn.close()"
   ]
  },
  {
   "cell_type": "code",
   "execution_count": 22,
   "metadata": {},
   "outputs": [],
   "source": [
    "def drop_table(conn,tblname):\n",
    "    sql1 = 'DROP TABLE '\n",
    "    sql2 = '{}'.format(tblname)\n",
    "    c = conn.cursor()\n",
    "    c.execute(sql1+sql2)\n",
    "    conn.commit()  \n",
    "    \n",
    "drop_table(conn,'wellAbs')"
   ]
  }
 ],
 "metadata": {
  "kernelspec": {
   "display_name": "Python 3",
   "language": "python",
   "name": "python3"
  },
  "language_info": {
   "codemirror_mode": {
    "name": "ipython",
    "version": 3
   },
   "file_extension": ".py",
   "mimetype": "text/x-python",
   "name": "python",
   "nbconvert_exporter": "python",
   "pygments_lexer": "ipython3",
   "version": "3.7.1"
  }
 },
 "nbformat": 4,
 "nbformat_minor": 2
}
