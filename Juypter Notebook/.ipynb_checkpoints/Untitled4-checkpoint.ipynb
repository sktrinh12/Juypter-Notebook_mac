{
 "cells": [
  {
   "cell_type": "code",
   "execution_count": 1,
   "metadata": {
    "collapsed": true
   },
   "outputs": [],
   "source": [
    "import numpy as np\n",
    "from numpy import linalg as la\n",
    "np.random.seed(42)\n",
    "\n",
    "\n",
    "def flip_signs(A, B):\n",
    "    \"\"\"\n",
    "    utility function for resolving the sign ambiguity in SVD\n",
    "    http://stats.stackexchange.com/q/34396/115202\n",
    "    \"\"\"\n",
    "    signs = np.sign(A) * np.sign(B)\n",
    "    return A, B * signs\n"
   ]
  },
  {
   "cell_type": "code",
   "execution_count": 2,
   "metadata": {},
   "outputs": [
    {
     "data": {
      "text/plain": [
       "(array([[ 0.37454012,  0.95071431,  0.73199394,  0.59865848],\n",
       "        [ 0.15601864,  0.15599452,  0.05808361,  0.86617615],\n",
       "        [ 0.60111501,  0.70807258,  0.02058449,  0.96990985],\n",
       "        [ 0.83244264,  0.21233911,  0.18182497,  0.18340451]]),\n",
       " array([[ 0.30424224,  0.52475643,  0.43194502,  0.29122914],\n",
       "        [ 0.61185289,  0.13949386,  0.29214465,  0.36636184],\n",
       "        [ 0.45606998,  0.78517596,  0.19967378,  0.51423444],\n",
       "        [ 0.59241457,  0.04645041,  0.60754485,  0.17052412]]))"
      ]
     },
     "execution_count": 2,
     "metadata": {},
     "output_type": "execute_result"
    }
   ],
   "source": [
    "X  = np.random.rand(4,4)\n",
    "Y = np.random.rand(4,4)"
   ]
  },
  {
   "cell_type": "code",
   "execution_count": 22,
   "metadata": {},
   "outputs": [],
   "source": [
    "for i in range(len(X)):\n",
    "    X[i][2]=-1*X[i][2]\n",
    "    X[i][0]=-1*X[i][0]"
   ]
  },
  {
   "cell_type": "code",
   "execution_count": 23,
   "metadata": {},
   "outputs": [
    {
     "data": {
      "text/plain": [
       "array([[ 0.37454012,  0.95071431, -0.73199394,  0.59865848],\n",
       "       [ 0.15601864,  0.15599452, -0.05808361,  0.86617615],\n",
       "       [ 0.60111501,  0.70807258, -0.02058449,  0.96990985],\n",
       "       [ 0.83244264,  0.21233911, -0.18182497,  0.18340451]])"
      ]
     },
     "execution_count": 23,
     "metadata": {},
     "output_type": "execute_result"
    }
   ],
   "source": [
    "X"
   ]
  },
  {
   "cell_type": "code",
   "execution_count": 24,
   "metadata": {},
   "outputs": [
    {
     "data": {
      "text/plain": [
       "(array([[ 0.37454012,  0.95071431, -0.73199394,  0.59865848],\n",
       "        [ 0.15601864,  0.15599452, -0.05808361,  0.86617615],\n",
       "        [ 0.60111501,  0.70807258, -0.02058449,  0.96990985],\n",
       "        [ 0.83244264,  0.21233911, -0.18182497,  0.18340451]]),\n",
       " array([[ 0.30424224,  0.52475643, -0.43194502,  0.29122914],\n",
       "        [ 0.61185289,  0.13949386, -0.29214465,  0.36636184],\n",
       "        [ 0.45606998,  0.78517596, -0.19967378,  0.51423444],\n",
       "        [ 0.59241457,  0.04645041, -0.60754485,  0.17052412]]))"
      ]
     },
     "execution_count": 24,
     "metadata": {},
     "output_type": "execute_result"
    }
   ],
   "source": [
    "flip_signs(X,Y)"
   ]
  },
  {
   "cell_type": "code",
   "execution_count": 26,
   "metadata": {},
   "outputs": [
    {
     "data": {
      "text/plain": [
       "array([[ 1.,  1.,  1.,  1.],\n",
       "       [ 1.,  1.,  1.,  1.],\n",
       "       [ 1.,  1.,  1.,  1.],\n",
       "       [ 1.,  1.,  1.,  1.]])"
      ]
     },
     "execution_count": 26,
     "metadata": {},
     "output_type": "execute_result"
    }
   ],
   "source": [
    "np.sign(Y)"
   ]
  }
 ],
 "metadata": {
  "kernelspec": {
   "display_name": "Python 3",
   "language": "python",
   "name": "python3"
  },
  "language_info": {
   "codemirror_mode": {
    "name": "ipython",
    "version": 3
   },
   "file_extension": ".py",
   "mimetype": "text/x-python",
   "name": "python",
   "nbconvert_exporter": "python",
   "pygments_lexer": "ipython3",
   "version": "3.6.6"
  }
 },
 "nbformat": 4,
 "nbformat_minor": 2
}
