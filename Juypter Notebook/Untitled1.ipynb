{
 "cells": [
  {
   "cell_type": "code",
   "execution_count": 26,
   "metadata": {
    "collapsed": true
   },
   "outputs": [],
   "source": [
    "import os\n",
    "import re\n",
    "import pandas as pd\n",
    "import string\n",
    "import pathlib"
   ]
  },
  {
   "cell_type": "code",
   "execution_count": 34,
   "metadata": {},
   "outputs": [
    {
     "data": {
      "text/plain": [
       "'C587_5_4509_16_C5051_26'"
      ]
     },
     "execution_count": 34,
     "metadata": {},
     "output_type": "execute_result"
    }
   ],
   "source": [
    "#for root, dirs, files in os.walk(\"C:/\"):\n",
    "#                for d in dirs:\n",
    "#                    if str(d) in searchlist:\n",
    "#                        print(d)\n",
    "\n",
    "actualFP = 'C587_5_4509_16_11_C50_51_26_2D_20170817'\n",
    "inlistFP= 'C587_5_4509_16_C5051_26'\n",
    "list_aFP = list(actualFP)\n",
    "list_ilFP = list(inlistFP)\n",
    "\n",
    "#set(bb) & set(aa)\n",
    "#fplst = []\n",
    "#findf=['test_{}_{}{}'.format(string.ascii_lowercase[i-1:(i+1)],i,i+1) for i in range(1,8)]\n",
    "#ff = 'summarypurecmpd.csv'\n",
    "#for root, dirs, files in os.walk('/users/documents/'):\n",
    "#    for d in dirs:\n",
    "#        if d in srchlst:\n",
    "#            fplst.append(os.path.join(root,d).replace(\"\\\\\",\"/\"))                     \n",
    "#for dirs in fplst:\n",
    "#    for root,dirs,files in os.walk(dirs):\n",
    "#        for f in files:\n",
    "#            if f.endswith('.csv'):\n",
    "#                print(f)\n",
    "inlistFP[:16]\n"
   ]
  },
  {
   "cell_type": "code",
   "execution_count": 51,
   "metadata": {},
   "outputs": [
    {
     "name": "stdout",
     "output_type": "stream",
     "text": [
      "[PurePosixPath('/Users/Documents/Arduino/C017973_4501_40_15/fid copy 2.rtf'), 'C017973_4501_40_15']\n",
      "[PurePosixPath('/Users/Documents/Arduino/C017973_4501_40_24/fid copy.rtf'), 'C017973_4501_40_24']\n",
      "[PurePosixPath('/Users/Documents/Arduino/C10187_4501_43_20/fid copy 4.rtf'), 'C10187_4501_43_20']\n",
      "[PurePosixPath('/Users/Documents/Arduino/C10187_4501_46_21/fid.rtf'), 'C10187_4501_46_21']\n",
      "[PurePosixPath('/Users/Documents/Arduino/C29481_4503_70_7_36/fid copy 3.rtf'), 'C29481_4503_70_7_36']\n"
     ]
    }
   ],
   "source": [
    "dirlst = []\n",
    "for root,dirs,files in os.walk('/'):\n",
    "    for d in dirs:\n",
    "        possibles = [d[:i] for i in range(7, len(d) + 1)] if len(d) > 7 else [d]\n",
    "        matches = filter(lambda x: x in srchlst, possibles)\n",
    "        \n",
    "        if matches:\n",
    "            dirlst.extend([pathlib.PurePath(root).joinpath(match) for match in matches]) \n",
    "\n",
    "for dirs in dirlst:\n",
    "    for root,dirs,files in os.walk(dirs):\n",
    "        for f in files:\n",
    "            if 'fid' in f:\n",
    "                dirpth = pathlib.PurePath(root).joinpath(f)\n",
    "                print([dirpth,pathlib.PurePath(root).stem])"
   ]
  },
  {
   "cell_type": "code",
   "execution_count": 5,
   "metadata": {
    "collapsed": true
   },
   "outputs": [],
   "source": [
    "pcd = pd.read_csv('/users/downloads/summarypurecmpd.csv')"
   ]
  },
  {
   "cell_type": "code",
   "execution_count": 49,
   "metadata": {},
   "outputs": [
    {
     "data": {
      "text/plain": [
       "['librari', 'librarie', 'libraries']"
      ]
     },
     "execution_count": 49,
     "metadata": {},
     "output_type": "execute_result"
    }
   ],
   "source": [
    "possibles"
   ]
  },
  {
   "cell_type": "code",
   "execution_count": 43,
   "metadata": {},
   "outputs": [
    {
     "data": {
      "text/plain": [
       "20"
      ]
     },
     "execution_count": 43,
     "metadata": {},
     "output_type": "execute_result"
    }
   ],
   "source": [
    "srchlst=list(pcd['Batch number'][pcd['Record Number'].notnull()])\n",
    "len(max(srchlst,key=len))"
   ]
  },
  {
   "cell_type": "code",
   "execution_count": 44,
   "metadata": {},
   "outputs": [
    {
     "data": {
      "text/plain": [
       "['F250369_4503_25_39',\n",
       " 'F250369_4503_23_14',\n",
       " 'N15197_4503_33_34',\n",
       " 'N15197_4503_19_66',\n",
       " 'M2201_2',\n",
       " 'C2201_5_4508_34_23',\n",
       " 'N500561_4501_62_25',\n",
       " 'N500561_4501_62_73',\n",
       " 'N500561_4501_62_64',\n",
       " 'N500561_4501_62_76',\n",
       " 'C18873_4503_12_32',\n",
       " 'C18873_4503_12_28',\n",
       " 'N070761_4508_37_C16',\n",
       " 'N137911_4508_40_1_19',\n",
       " 'C29481_4503_69_37',\n",
       " 'C029509_4498_20_44',\n",
       " 'C028147_4501_64_32',\n",
       " 'C027163_4501_66_34',\n",
       " 'C17981_4501_70_15',\n",
       " 'F249609_4499_35_21',\n",
       " 'C023430_4500_40_1',\n",
       " 'F249609_4499_33_23',\n",
       " 'F250237_4494_72_37_5',\n",
       " 'F249609_4499_35_24',\n",
       " 'C018797_4500_36_36',\n",
       " 'N049613_4497_55_55',\n",
       " 'N049613_4497_55_59',\n",
       " 'C017891_4498_19_40',\n",
       " 'C034281_4498_8_12',\n",
       " 'C034281_4498_8_10',\n",
       " 'N052573_4498_5_12',\n",
       " 'F249737_4498_7_60',\n",
       " 'F249737_4498_6_69',\n",
       " 'C10187_4501_46_38',\n",
       " 'C10187_4501_46_25',\n",
       " 'C27249_4501_57_45',\n",
       " 'C29481_4503_70_7_36',\n",
       " 'C29481_4503_70_1_16',\n",
       " 'C10187_4501_46_21',\n",
       " 'C10187_4501_46_15',\n",
       " 'C10187_4501_43_49',\n",
       " 'C10187_4501_43_20',\n",
       " 'C017973_4501_40_24',\n",
       " 'C017973_4501_40_21',\n",
       " 'C017973_4501_40_15',\n",
       " 'C018781_4501_36_20',\n",
       " 'C019265_4501_33_41',\n",
       " 'C017835_4501_34_36',\n",
       " 'N027207_4497_70_30',\n",
       " 'C034337_4501_13_2',\n",
       " 'C034337_4497_60_51',\n",
       " 'N070761_4497_53_25',\n",
       " 'N083671_4497_52_18',\n",
       " 'C29481_4503_70_4_35',\n",
       " 'C29481_4503_70_5_41',\n",
       " 'C29481_4503_70_6_25',\n",
       " 'C29481_4503_70_6_27',\n",
       " 'C13295_8_4509_1_6',\n",
       " 'C17251_5_4509_5_16',\n",
       " 'C29481_4501_56_B22']"
      ]
     },
     "execution_count": 44,
     "metadata": {},
     "output_type": "execute_result"
    }
   ],
   "source": [
    "srchlst"
   ]
  }
 ],
 "metadata": {
  "kernelspec": {
   "display_name": "Python 3",
   "language": "python",
   "name": "python3"
  },
  "language_info": {
   "codemirror_mode": {
    "name": "ipython",
    "version": 3
   },
   "file_extension": ".py",
   "mimetype": "text/x-python",
   "name": "python",
   "nbconvert_exporter": "python",
   "pygments_lexer": "ipython3",
   "version": "3.6.2"
  }
 },
 "nbformat": 4,
 "nbformat_minor": 2
}
