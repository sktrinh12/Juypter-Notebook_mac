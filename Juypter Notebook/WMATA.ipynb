{
 "cells": [
  {
   "cell_type": "code",
   "execution_count": 9,
   "metadata": {},
   "outputs": [
    {
     "name": "stdout",
     "output_type": "stream",
     "text": [
      "Woodley Park-Zoo/Adams Morgan,A04\n",
      "Gallery Pl-Chinatown, 7th and G Street/Arena Entrance,B01\n",
      "Rosslyn,C05\n",
      "King St-Old Town,C13\n",
      "New Carrollton,D13\n",
      "Archives-Navy Memorial-Penn Quarter,F02\n",
      "Southern Avenue,F08\n",
      "Franconia-Springfield,J03\n",
      "Franconia-Springfield,J03\n"
     ]
    }
   ],
   "source": [
    "import json\n",
    "try:\n",
    "    from urllib.request import urlopen, Request\n",
    "except ImportError:\n",
    "    from urllib2 import urlopen, Request\n",
    "\n",
    "demo_key = 'e1eee2b5677f408da40af8480a5fd5a8'\n",
    "hdrs = {'api_key':demo_key}\n",
    "incidents_url = 'https://api.wmata.com/Incidents.svc/json/ElevatorIncidents'\n",
    "req = Request(incidents_url,headers=hdrs)\n",
    "result = urlopen(req)\n",
    "raw_content = result.read()\n",
    "content = raw_content.decode('utf8')\n",
    "data=json.loads(content)\n",
    "\n",
    "incidents = data['ElevatorIncidents']\n",
    "for i in incidents:\n",
    "    unit_type = i['UnitType']\n",
    "    if unit_type == \"ELEVATOR\":        \n",
    "        station_name = i['StationName']\n",
    "        station_code = i['StationCode']\n",
    "        print(station_name+', '+station_code)"
   ]
  }
 ],
 "metadata": {
  "kernelspec": {
   "display_name": "Python 3",
   "language": "python",
   "name": "python3"
  },
  "language_info": {
   "codemirror_mode": {
    "name": "ipython",
    "version": 3
   },
   "file_extension": ".py",
   "mimetype": "text/x-python",
   "name": "python",
   "nbconvert_exporter": "python",
   "pygments_lexer": "ipython3",
   "version": "3.6.2"
  }
 },
 "nbformat": 4,
 "nbformat_minor": 2
}
