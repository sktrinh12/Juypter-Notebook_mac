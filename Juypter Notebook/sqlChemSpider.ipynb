{
 "cells": [
  {
   "cell_type": "code",
   "execution_count": 3,
   "metadata": {
    "collapsed": true
   },
   "outputs": [],
   "source": [
    "import sqlite3\n",
    "from sqlite3 import Error"
   ]
  },
  {
   "cell_type": "code",
   "execution_count": null,
   "metadata": {
    "collapsed": true
   },
   "outputs": [],
   "source": [
    "def connection(dbfile):\n",
    "    try:\n",
    "        conn = sqlite3.connect(dbfile)\n",
    "        print(sqlite3.version)\n",
    "    except Error as e:\n",
    "        print(e)\n",
    "    finally:\n",
    "        conn.close()\n",
    "\n",
    "def create_table(sql,headers):\n",
    "    sql = '''CREATE TABLE IF NOT EXISTS chemprop (chemspi_ID INTEGER PRIMARY KEY, InChIkey TEXT,\n",
    "            SMILES TEXT, MW TEXT, XlogP REAL);'''\n",
    "    try:\n",
    "        c = conn.cursor()\n",
    "        c.execute(sql,(headers))\n",
    "    except Error as e:\n",
    "        print(e)           "
   ]
  }
 ],
 "metadata": {
  "kernelspec": {
   "display_name": "Python 3",
   "language": "python",
   "name": "python3"
  },
  "language_info": {
   "codemirror_mode": {
    "name": "ipython",
    "version": 3
   },
   "file_extension": ".py",
   "mimetype": "text/x-python",
   "name": "python",
   "nbconvert_exporter": "python",
   "pygments_lexer": "ipython3",
   "version": "3.6.2"
  }
 },
 "nbformat": 4,
 "nbformat_minor": 2
}
