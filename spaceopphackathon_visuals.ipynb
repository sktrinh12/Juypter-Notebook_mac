{
 "cells": [
  {
   "cell_type": "code",
   "execution_count": 1,
   "metadata": {},
   "outputs": [],
   "source": [
    "import matplotlib.pyplot as plt\n",
    "import matplotlib as mpl\n",
    "from random import random, gauss, randint\n",
    "import numpy as np"
   ]
  },
  {
   "cell_type": "code",
   "execution_count": 6,
   "metadata": {},
   "outputs": [],
   "source": [
    "a_data = [10+gauss(1,2) for _ in range(20)]"
   ]
  },
  {
   "cell_type": "code",
   "execution_count": 7,
   "metadata": {},
   "outputs": [
    {
     "data": {
      "text/plain": [
       "[12.891484109690829,\n",
       " 11.028035511179718,\n",
       " 13.307030913366718,\n",
       " 12.54742019358009,\n",
       " 8.805100761823192,\n",
       " 11.6170132699569,\n",
       " 11.421309370169531,\n",
       " 10.738216505277492,\n",
       " 10.612851803430134,\n",
       " 10.869447495842834,\n",
       " 9.574839529279561,\n",
       " 11.528939955345276,\n",
       " 13.603702866161417,\n",
       " 11.632631157903027,\n",
       " 11.23074653560841,\n",
       " 7.403100843698952,\n",
       " 7.729802461875827,\n",
       " 7.590986731173144,\n",
       " 12.041376835937978,\n",
       " 13.307819927479619]"
      ]
     },
     "execution_count": 7,
     "metadata": {},
     "output_type": "execute_result"
    }
   ],
   "source": [
    "a_data"
   ]
  },
  {
   "cell_type": "code",
   "execution_count": 8,
   "metadata": {},
   "outputs": [],
   "source": [
    "b_data = [-10+gauss(1,2) for _ in range(20)]"
   ]
  },
  {
   "cell_type": "code",
   "execution_count": 9,
   "metadata": {},
   "outputs": [
    {
     "data": {
      "text/plain": [
       "[-11.640531980872428,\n",
       " -9.555384316082359,\n",
       " -11.595179713054506,\n",
       " -7.95489146969466,\n",
       " -8.087639628016234,\n",
       " -7.155347590041341,\n",
       " -6.277386851142095,\n",
       " -8.85179518415075,\n",
       " -11.208794896597704,\n",
       " -6.040538037697086,\n",
       " -6.379015001831869,\n",
       " -9.264721249352858,\n",
       " -10.20122535070325,\n",
       " -10.114391089859023,\n",
       " -3.9254215666792476,\n",
       " -7.551562286540522,\n",
       " -9.3937835633272,\n",
       " -7.383129997082279,\n",
       " -10.52166428747763,\n",
       " -10.580920927171082]"
      ]
     },
     "execution_count": 9,
     "metadata": {},
     "output_type": "execute_result"
    }
   ],
   "source": [
    "b_data"
   ]
  },
  {
   "cell_type": "code",
   "execution_count": 28,
   "metadata": {},
   "outputs": [],
   "source": [
    "plt.scatter(b_data,b_data_y , c='red', alpha=0.5)\n",
    "plt.title('Scatter plot')\n",
    "plt.xlabel('x')\n",
    "plt.ylabel('y')\n",
    "plt.show()"
   ]
  },
  {
   "cell_type": "code",
   "execution_count": 15,
   "metadata": {},
   "outputs": [],
   "source": [
    "b_data_y = [randint(2,10) for _ in range(20)]\n",
    "a_data_y = [randint(-10,-2) for _ in range(20)]"
   ]
  },
  {
   "cell_type": "code",
   "execution_count": 2,
   "metadata": {},
   "outputs": [],
   "source": [
    "N = 60\n",
    "g1 = (0.6 + 0.4 * np.random.rand(N), np.random.rand(N))\n",
    "#g2 = (0.4+0.3 * np.random.rand(N), 0.5*np.random.rand(N))\n",
    "g3 = (0.4*np.random.rand(N),np.random.rand(N))"
   ]
  },
  {
   "cell_type": "code",
   "execution_count": 10,
   "metadata": {},
   "outputs": [],
   "source": []
  },
  {
   "cell_type": "code",
   "execution_count": 8,
   "metadata": {},
   "outputs": [
    {
     "data": {
      "image/png": "[encoded data removed]",
      "text/plain": [
       "<Figure size 432x288 with 1 Axes>"
      ]
     },
     "metadata": {},
     "output_type": "display_data"
    }
   ],
   "source": [
    "#data = (g1, g2, g3)\n",
    "data = (g1,  g3)\n",
    "#colors = (\"red\", \"green\", \"blue\")\n",
    "colors = (\"blue\", \"red\")\n",
    "groups = (\"non-cancerous\",\"cancerous\")\n",
    "fig = plt.figure()\n",
    "ax = fig.add_subplot(1, 1, 1 )\n",
    "mpl.rcParams['axes.linewidth'] = 2\n",
    "for data, color, group in zip(data, colors, groups):\n",
    "    x, y = data\n",
    "    ax.scatter(x, y, alpha=0.8, c=color, edgecolors='none', s=30, label=group)\n",
    "ax.axhline(y=0.5,color='grey',linestyle='--',linewidth=3.5)\n",
    "ax.text(0.5,0.4,\"???\",horizontalalignment='center',fontsize=20)\n",
    "plt.legend(loc=2)\n",
    "plt.grid(True)\n",
    "plt.tick_params(\n",
    "    which='both',      # both major and minor ticks are affected\n",
    "    bottom=False,      # ticks along the bottom edge are off\n",
    "    top=False,         # ticks along the top edge are off\n",
    "    labelbottom=False,\n",
    "    labelleft=False,\n",
    "    left=False)\n",
    "#plt.show()\n",
    "plt.savefig('/Users/spencertrinh/Documents/scatterplot.png',bbox_inches='tight')"
   ]
  },
  {
   "cell_type": "code",
   "execution_count": 40,
   "metadata": {},
   "outputs": [
    {
     "data": {
      "text/plain": [
       "array([0.09224287, 0.09648327, 0.03817564, 0.22200155, 0.2943006 ,\n",
       "       0.1421595 , 0.15019404, 0.16398748, 0.06718022, 0.03789402,\n",
       "       0.09981476, 0.10289736, 0.09485632, 0.04512669, 0.19723131,\n",
       "       0.11953414, 0.15735347, 0.17097554, 0.28561007, 0.06855906,\n",
       "       0.07855895, 0.09311732, 0.03903721, 0.24582049, 0.10173181,\n",
       "       0.08435326, 0.04476572, 0.13956516, 0.15191726, 0.28175027,\n",
       "       0.15394543, 0.10185067, 0.28371932, 0.04235763, 0.17434034,\n",
       "       0.0029387 , 0.07742821, 0.0845157 , 0.27312697, 0.22423222,\n",
       "       0.03993066, 0.25778116, 0.23508953, 0.24855913, 0.26799312,\n",
       "       0.18755655, 0.08122307, 0.01440371, 0.29077209, 0.13362362,\n",
       "       0.18345024, 0.08792825, 0.11331719, 0.22240209, 0.02996631,\n",
       "       0.28562614, 0.02495037, 0.11732861, 0.13772916, 0.25435151])"
      ]
     },
     "execution_count": 40,
     "metadata": {},
     "output_type": "execute_result"
    }
   ],
   "source": [
    "data"
   ]
  },
  {
   "cell_type": "code",
   "execution_count": 78,
   "metadata": {},
   "outputs": [
    {
     "data": {
      "text/plain": [
       "array([0.78808409, 0.50576093, 0.34855494, 0.1041619 , 0.79260808,\n",
       "       0.36499754, 0.84912055, 0.04999156, 0.23151918, 0.65802127,\n",
       "       0.0590951 , 0.02080256, 0.14855754, 0.7479069 , 0.28823212,\n",
       "       0.99408788, 0.2181822 , 0.37559043, 0.94939449, 0.42777358,\n",
       "       0.96257043, 0.18151921, 0.2621822 , 0.0722084 , 0.01742375,\n",
       "       0.96823652, 0.73305439, 0.57377782, 0.06964066, 0.1198915 ,\n",
       "       0.30130545, 0.2168139 , 0.61513593, 0.9534452 , 0.32424362,\n",
       "       0.27345153, 0.49156921, 0.62047128, 0.17929447, 0.56020801,\n",
       "       0.98124316, 0.58145245, 0.11791549, 0.56499041, 0.03078613,\n",
       "       0.80155687, 0.12480419, 0.23037909, 0.16768229, 0.69309193,\n",
       "       0.25562847, 0.27587099, 0.10956174, 0.12485155, 0.23838057,\n",
       "       0.77673326, 0.85352777, 0.80254777, 0.36646283, 0.05086759])"
      ]
     },
     "execution_count": 78,
     "metadata": {},
     "output_type": "execute_result"
    }
   ],
   "source": [
    "y"
   ]
  },
  {
   "cell_type": "code",
   "execution_count": 33,
   "metadata": {},
   "outputs": [],
   "source": [
    "rows = [f\"row{i+1}\" for i in range(10)]\n",
    "col1_data = np.array([gauss(1,2) for _ in range(10)])\n",
    "col2_data = np.array([gauss(2,1) for _ in range(10)])\n",
    "col3_data = np.array([gauss(-1,2) for _ in range(10)])"
   ]
  },
  {
   "cell_type": "code",
   "execution_count": 26,
   "metadata": {},
   "outputs": [],
   "source": [
    "table_data = np.column_stack((rows,col1_data,col2_data,col3_data))"
   ]
  },
  {
   "cell_type": "code",
   "execution_count": 28,
   "metadata": {},
   "outputs": [
    {
     "data": {
      "text/plain": [
       "array([['row0', '1.6325945315783736', '2.5412956234696744',\n",
       "        '-1.5063310706040463'],\n",
       "       ['row1', '-0.707651636226593', '2.0916985435131017',\n",
       "        '2.790927669502683'],\n",
       "       ['row2', '4.251433929296512', '3.1747908620863736',\n",
       "        '-0.9777765849065517'],\n",
       "       ['row3', '0.7455303278453727', '1.2361059428050503',\n",
       "        '-0.5400254084355851'],\n",
       "       ['row4', '4.530816339269788', '2.143110142919454',\n",
       "        '-0.9711529865001285'],\n",
       "       ['row5', '3.5365967966580536', '0.9101813977906177',\n",
       "        '-2.5278075456611613'],\n",
       "       ['row6', '0.8213161133973803', '2.7543558269048174',\n",
       "        '-1.3115543534851075'],\n",
       "       ['row7', '-0.46531222033768826', '1.45413144331248',\n",
       "        '-6.928127642481134'],\n",
       "       ['row8', '3.3607521411891406', '2.856245171336164',\n",
       "        '-2.428881944564741'],\n",
       "       ['row9', '3.093223469262129', '1.2589340353777128',\n",
       "        '-0.01889616403519656']], dtype='<U32')"
      ]
     },
     "execution_count": 28,
     "metadata": {},
     "output_type": "execute_result"
    }
   ],
   "source": [
    "table_data"
   ]
  },
  {
   "cell_type": "code",
   "execution_count": 35,
   "metadata": {},
   "outputs": [],
   "source": [
    "with open('/Users/spencertrinh/Documents/table_data.csv','w') as f:\n",
    "    f.write(\",col1,col2,col3\\n\")\n",
    "    for i,j in enumerate(rows):\n",
    "        f.write(f\"{j},{col2_data[i]},{col3_data[i]}\\n\")"
   ]
  },
  {
   "cell_type": "code",
   "execution_count": 80,
   "metadata": {},
   "outputs": [
    {
     "data": {
      "text/plain": [
       "[6.877661500582603,\n",
       " 4.787017111994871,\n",
       " 7.135894708635337,\n",
       " -8.611900216171005,\n",
       " -5.926675208125644,\n",
       " -5.056793915256316,\n",
       " -0.10180631398503026,\n",
       " 12.598647213360994]"
      ]
     },
     "execution_count": 80,
     "metadata": {},
     "output_type": "execute_result"
    }
   ],
   "source": [
    "x = [randint(1,4) for _ in range(4)] + [randint(5,10) for _ in range(4)]\n",
    "y = [gauss(2,7) for _ in range(8)]\n"
   ]
  },
  {
   "cell_type": "code",
   "execution_count": 85,
   "metadata": {},
   "outputs": [
    {
     "data": {
      "text/html": [
       "<div style=\"display: table;\"><div style=\"display: table-row;\"><div style=\"display: table-cell;\"><b title=\"bokeh.plotting.figure.Figure\">Figure</b>(</div><div style=\"display: table-cell;\">id&nbsp;=&nbsp;'1115', <span id=\"1158\" style=\"cursor: pointer;\">&hellip;)</span></div></div><div class=\"1157\" style=\"display: none;\"><div style=\"display: table-cell;\"></div><div style=\"display: table-cell;\">above&nbsp;=&nbsp;[],</div></div><div class=\"1157\" style=\"display: none;\"><div style=\"display: table-cell;\"></div><div style=\"display: table-cell;\">align&nbsp;=&nbsp;'start',</div></div><div class=\"1157\" style=\"display: none;\"><div style=\"display: table-cell;\"></div><div style=\"display: table-cell;\">aspect_ratio&nbsp;=&nbsp;None,</div></div><div class=\"1157\" style=\"display: none;\"><div style=\"display: table-cell;\"></div><div style=\"display: table-cell;\">aspect_scale&nbsp;=&nbsp;1,</div></div><div class=\"1157\" style=\"display: none;\"><div style=\"display: table-cell;\"></div><div style=\"display: table-cell;\">background&nbsp;=&nbsp;None,</div></div><div class=\"1157\" style=\"display: none;\"><div style=\"display: table-cell;\"></div><div style=\"display: table-cell;\">background_fill_alpha&nbsp;=&nbsp;{'value': 1.0},</div></div><div class=\"1157\" style=\"display: none;\"><div style=\"display: table-cell;\"></div><div style=\"display: table-cell;\">background_fill_color&nbsp;=&nbsp;{'value': '#ffffff'},</div></div><div class=\"1157\" style=\"display: none;\"><div style=\"display: table-cell;\"></div><div style=\"display: table-cell;\">below&nbsp;=&nbsp;[LinearAxis(id='1124', ...)],</div></div><div class=\"1157\" style=\"display: none;\"><div style=\"display: table-cell;\"></div><div style=\"display: table-cell;\">border_fill_alpha&nbsp;=&nbsp;{'value': 1.0},</div></div><div class=\"1157\" style=\"display: none;\"><div style=\"display: table-cell;\"></div><div style=\"display: table-cell;\">border_fill_color&nbsp;=&nbsp;{'value': '#ffffff'},</div></div><div class=\"1157\" style=\"display: none;\"><div style=\"display: table-cell;\"></div><div style=\"display: table-cell;\">center&nbsp;=&nbsp;[Grid(id='1128', ...), Grid(id='1133', ...)],</div></div><div class=\"1157\" style=\"display: none;\"><div style=\"display: table-cell;\"></div><div style=\"display: table-cell;\">css_classes&nbsp;=&nbsp;[],</div></div><div class=\"1157\" style=\"display: none;\"><div style=\"display: table-cell;\"></div><div style=\"display: table-cell;\">disabled&nbsp;=&nbsp;False,</div></div><div class=\"1157\" style=\"display: none;\"><div style=\"display: table-cell;\"></div><div style=\"display: table-cell;\">extra_x_ranges&nbsp;=&nbsp;{},</div></div><div class=\"1157\" style=\"display: none;\"><div style=\"display: table-cell;\"></div><div style=\"display: table-cell;\">extra_y_ranges&nbsp;=&nbsp;{},</div></div><div class=\"1157\" style=\"display: none;\"><div style=\"display: table-cell;\"></div><div style=\"display: table-cell;\">frame_height&nbsp;=&nbsp;None,</div></div><div class=\"1157\" style=\"display: none;\"><div style=\"display: table-cell;\"></div><div style=\"display: table-cell;\">frame_width&nbsp;=&nbsp;None,</div></div><div class=\"1157\" style=\"display: none;\"><div style=\"display: table-cell;\"></div><div style=\"display: table-cell;\">height&nbsp;=&nbsp;None,</div></div><div class=\"1157\" style=\"display: none;\"><div style=\"display: table-cell;\"></div><div style=\"display: table-cell;\">height_policy&nbsp;=&nbsp;'auto',</div></div><div class=\"1157\" style=\"display: none;\"><div style=\"display: table-cell;\"></div><div style=\"display: table-cell;\">hidpi&nbsp;=&nbsp;True,</div></div><div class=\"1157\" style=\"display: none;\"><div style=\"display: table-cell;\"></div><div style=\"display: table-cell;\">js_event_callbacks&nbsp;=&nbsp;{},</div></div><div class=\"1157\" style=\"display: none;\"><div style=\"display: table-cell;\"></div><div style=\"display: table-cell;\">js_property_callbacks&nbsp;=&nbsp;{},</div></div><div class=\"1157\" style=\"display: none;\"><div style=\"display: table-cell;\"></div><div style=\"display: table-cell;\">left&nbsp;=&nbsp;[LinearAxis(id='1129', ...)],</div></div><div class=\"1157\" style=\"display: none;\"><div style=\"display: table-cell;\"></div><div style=\"display: table-cell;\">lod_factor&nbsp;=&nbsp;10,</div></div><div class=\"1157\" style=\"display: none;\"><div style=\"display: table-cell;\"></div><div style=\"display: table-cell;\">lod_interval&nbsp;=&nbsp;300,</div></div><div class=\"1157\" style=\"display: none;\"><div style=\"display: table-cell;\"></div><div style=\"display: table-cell;\">lod_threshold&nbsp;=&nbsp;2000,</div></div><div class=\"1157\" style=\"display: none;\"><div style=\"display: table-cell;\"></div><div style=\"display: table-cell;\">lod_timeout&nbsp;=&nbsp;500,</div></div><div class=\"1157\" style=\"display: none;\"><div style=\"display: table-cell;\"></div><div style=\"display: table-cell;\">margin&nbsp;=&nbsp;(0, 0, 0, 0),</div></div><div class=\"1157\" style=\"display: none;\"><div style=\"display: table-cell;\"></div><div style=\"display: table-cell;\">match_aspect&nbsp;=&nbsp;False,</div></div><div class=\"1157\" style=\"display: none;\"><div style=\"display: table-cell;\"></div><div style=\"display: table-cell;\">max_height&nbsp;=&nbsp;None,</div></div><div class=\"1157\" style=\"display: none;\"><div style=\"display: table-cell;\"></div><div style=\"display: table-cell;\">max_width&nbsp;=&nbsp;None,</div></div><div class=\"1157\" style=\"display: none;\"><div style=\"display: table-cell;\"></div><div style=\"display: table-cell;\">min_border&nbsp;=&nbsp;5,</div></div><div class=\"1157\" style=\"display: none;\"><div style=\"display: table-cell;\"></div><div style=\"display: table-cell;\">min_border_bottom&nbsp;=&nbsp;None,</div></div><div class=\"1157\" style=\"display: none;\"><div style=\"display: table-cell;\"></div><div style=\"display: table-cell;\">min_border_left&nbsp;=&nbsp;None,</div></div><div class=\"1157\" style=\"display: none;\"><div style=\"display: table-cell;\"></div><div style=\"display: table-cell;\">min_border_right&nbsp;=&nbsp;None,</div></div><div class=\"1157\" style=\"display: none;\"><div style=\"display: table-cell;\"></div><div style=\"display: table-cell;\">min_border_top&nbsp;=&nbsp;None,</div></div><div class=\"1157\" style=\"display: none;\"><div style=\"display: table-cell;\"></div><div style=\"display: table-cell;\">min_height&nbsp;=&nbsp;None,</div></div><div class=\"1157\" style=\"display: none;\"><div style=\"display: table-cell;\"></div><div style=\"display: table-cell;\">min_width&nbsp;=&nbsp;None,</div></div><div class=\"1157\" style=\"display: none;\"><div style=\"display: table-cell;\"></div><div style=\"display: table-cell;\">name&nbsp;=&nbsp;None,</div></div><div class=\"1157\" style=\"display: none;\"><div style=\"display: table-cell;\"></div><div style=\"display: table-cell;\">outline_line_alpha&nbsp;=&nbsp;{'value': 1.0},</div></div><div class=\"1157\" style=\"display: none;\"><div style=\"display: table-cell;\"></div><div style=\"display: table-cell;\">outline_line_cap&nbsp;=&nbsp;'butt',</div></div><div class=\"1157\" style=\"display: none;\"><div style=\"display: table-cell;\"></div><div style=\"display: table-cell;\">outline_line_color&nbsp;=&nbsp;{'value': '#e5e5e5'},</div></div><div class=\"1157\" style=\"display: none;\"><div style=\"display: table-cell;\"></div><div style=\"display: table-cell;\">outline_line_dash&nbsp;=&nbsp;[],</div></div><div class=\"1157\" style=\"display: none;\"><div style=\"display: table-cell;\"></div><div style=\"display: table-cell;\">outline_line_dash_offset&nbsp;=&nbsp;0,</div></div><div class=\"1157\" style=\"display: none;\"><div style=\"display: table-cell;\"></div><div style=\"display: table-cell;\">outline_line_join&nbsp;=&nbsp;'bevel',</div></div><div class=\"1157\" style=\"display: none;\"><div style=\"display: table-cell;\"></div><div style=\"display: table-cell;\">outline_line_width&nbsp;=&nbsp;{'value': 1},</div></div><div class=\"1157\" style=\"display: none;\"><div style=\"display: table-cell;\"></div><div style=\"display: table-cell;\">output_backend&nbsp;=&nbsp;'canvas',</div></div><div class=\"1157\" style=\"display: none;\"><div style=\"display: table-cell;\"></div><div style=\"display: table-cell;\">plot_height&nbsp;=&nbsp;600,</div></div><div class=\"1157\" style=\"display: none;\"><div style=\"display: table-cell;\"></div><div style=\"display: table-cell;\">plot_width&nbsp;=&nbsp;600,</div></div><div class=\"1157\" style=\"display: none;\"><div style=\"display: table-cell;\"></div><div style=\"display: table-cell;\">renderers&nbsp;=&nbsp;[GlyphRenderer(id='1154', ...), Span(id='1147', ...), Span(id='1147', ...), Span(id='1147', ...), Span(id='1147', ...)],</div></div><div class=\"1157\" style=\"display: none;\"><div style=\"display: table-cell;\"></div><div style=\"display: table-cell;\">right&nbsp;=&nbsp;[],</div></div><div class=\"1157\" style=\"display: none;\"><div style=\"display: table-cell;\"></div><div style=\"display: table-cell;\">sizing_mode&nbsp;=&nbsp;'scale_width',</div></div><div class=\"1157\" style=\"display: none;\"><div style=\"display: table-cell;\"></div><div style=\"display: table-cell;\">subscribed_events&nbsp;=&nbsp;[],</div></div><div class=\"1157\" style=\"display: none;\"><div style=\"display: table-cell;\"></div><div style=\"display: table-cell;\">tags&nbsp;=&nbsp;[],</div></div><div class=\"1157\" style=\"display: none;\"><div style=\"display: table-cell;\"></div><div style=\"display: table-cell;\">title&nbsp;=&nbsp;Title(id='1159', ...),</div></div><div class=\"1157\" style=\"display: none;\"><div style=\"display: table-cell;\"></div><div style=\"display: table-cell;\">title_location&nbsp;=&nbsp;'above',</div></div><div class=\"1157\" style=\"display: none;\"><div style=\"display: table-cell;\"></div><div style=\"display: table-cell;\">toolbar&nbsp;=&nbsp;Toolbar(id='1140', ...),</div></div><div class=\"1157\" style=\"display: none;\"><div style=\"display: table-cell;\"></div><div style=\"display: table-cell;\">toolbar_location&nbsp;=&nbsp;None,</div></div><div class=\"1157\" style=\"display: none;\"><div style=\"display: table-cell;\"></div><div style=\"display: table-cell;\">toolbar_sticky&nbsp;=&nbsp;True,</div></div><div class=\"1157\" style=\"display: none;\"><div style=\"display: table-cell;\"></div><div style=\"display: table-cell;\">visible&nbsp;=&nbsp;True,</div></div><div class=\"1157\" style=\"display: none;\"><div style=\"display: table-cell;\"></div><div style=\"display: table-cell;\">width&nbsp;=&nbsp;None,</div></div><div class=\"1157\" style=\"display: none;\"><div style=\"display: table-cell;\"></div><div style=\"display: table-cell;\">width_policy&nbsp;=&nbsp;'auto',</div></div><div class=\"1157\" style=\"display: none;\"><div style=\"display: table-cell;\"></div><div style=\"display: table-cell;\">x_range&nbsp;=&nbsp;DataRange1d(id='1116', ...),</div></div><div class=\"1157\" style=\"display: none;\"><div style=\"display: table-cell;\"></div><div style=\"display: table-cell;\">x_scale&nbsp;=&nbsp;LinearScale(id='1120', ...),</div></div><div class=\"1157\" style=\"display: none;\"><div style=\"display: table-cell;\"></div><div style=\"display: table-cell;\">y_range&nbsp;=&nbsp;DataRange1d(id='1118', ...),</div></div><div class=\"1157\" style=\"display: none;\"><div style=\"display: table-cell;\"></div><div style=\"display: table-cell;\">y_scale&nbsp;=&nbsp;LinearScale(id='1122', ...))</div></div></div>\n",
       "<script>\n",
       "(function() {\n",
       "  var expanded = false;\n",
       "  var ellipsis = document.getElementById(\"1158\");\n",
       "  ellipsis.addEventListener(\"click\", function() {\n",
       "    var rows = document.getElementsByClassName(\"1157\");\n",
       "    for (var i = 0; i < rows.length; i++) {\n",
       "      var el = rows[i];\n",
       "      el.style.display = expanded ? \"none\" : \"table-row\";\n",
       "    }\n",
       "    ellipsis.innerHTML = expanded ? \"&hellip;)\" : \"&lsaquo;&lsaquo;&lsaquo;\";\n",
       "    expanded = !expanded;\n",
       "  });\n",
       "})();\n",
       "</script>\n"
      ],
      "text/plain": [
       "Figure(id='1115', ...)"
      ]
     },
     "execution_count": 85,
     "metadata": {},
     "output_type": "execute_result"
    }
   ],
   "source": [
    "from bokeh.plotting import figure\n",
    "from bokeh.models import Span\n",
    "\n",
    "plot = figure(sizing_mode='scale_width')\n",
    "x = [randint(1,4) for _ in range(6)] + [randint(6,11) for _ in range(6)] \n",
    "y = [gauss(2,7) for _ in range(12)]\n",
    "colour = ['red']*6 + ['blue']*6\n",
    "hline = Span(location=gauss(2,7), dimension='width', line_color='black', line_width=3)\n",
    "hline2 = Span(location=0, dimension='width', line_color='black', line_width=3)\n",
    "hline3 = Span(location=0, dimension='width', line_color='black', line_width=3)\n",
    "hline4 = Span(location=0, dimension='width', line_color='black', line_width=3)\n",
    "plot.circle(x,y,color = colour,size=20)\n",
    "plot.renderers.extend([hline])\n",
    "plot.renderers.extend([hline])\n",
    "plot.renderers.extend([hline])\n",
    "plot.renderers.extend([hline])\n",
    "plot.toolbar.logo = None\n",
    "plot.toolbar_location = None\n",
    "plot"
   ]
  },
  {
   "cell_type": "code",
   "execution_count": 45,
   "metadata": {},
   "outputs": [
    {
     "data": {
      "text/plain": [
       "[1.1026748430455942,\n",
       " 0.6698813664643752,\n",
       " -0.4559770780553254,\n",
       " -0.32615868095705536,\n",
       " 0.401045011719694,\n",
       " 0.7505862665307189]"
      ]
     },
     "execution_count": 45,
     "metadata": {},
     "output_type": "execute_result"
    }
   ],
   "source": [
    "[gauss(1,1.2) for _ in range(6)]"
   ]
  }
 ],
 "metadata": {
  "kernelspec": {
   "display_name": "py37",
   "language": "python",
   "name": "py37"
  },
  "language_info": {
   "codemirror_mode": {
    "name": "ipython",
    "version": 3
   },
   "file_extension": ".py",
   "mimetype": "text/x-python",
   "name": "python",
   "nbconvert_exporter": "python",
   "pygments_lexer": "ipython3",
   "version": "3.7.4"
  }
 },
 "nbformat": 4,
 "nbformat_minor": 2
}
