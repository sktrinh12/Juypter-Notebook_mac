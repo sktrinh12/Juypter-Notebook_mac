{
 "cells": [
  {
   "cell_type": "markdown",
   "metadata": {},
   "source": [
    "## remove duplicate and similar dirnames in result"
   ]
  },
  {
   "cell_type": "code",
   "execution_count": 2,
   "metadata": {
    "scrolled": true
   },
   "outputs": [],
   "source": [
    "import os\n",
    "location = '/users/R_NCI60/fidFilepath.txt'\n",
    "with open(location,'r') as f:\n",
    "    content = f.readlines()\n",
    "\n",
    "lst_Path = list(map(lambda s: s.strip(),content))"
   ]
  },
  {
   "cell_type": "code",
   "execution_count": 26,
   "metadata": {
    "scrolled": true
   },
   "outputs": [
    {
     "data": {
      "text/plain": [
       "['M:/2016/NPSG Projects/SOM1-Marine HF projects/C17981_Lissoclinum/Prep II/C17981_4501_70_15_20160315_01/PROTON_01.fid/',\n",
       " 'M:/2016/NPSG pure compound library/P16275/C034281_4498_8_10_20150701_01/PROTON_01.fid/',\n",
       " 'M:/2016/NPSG pure compound library/P16560/N027207_4497_70_28_MeOD/N027207_4497_70_28_1D_ROE_20151001_01/N027207_4497_70_28_1D_ROE_20151003_01/PROTON_01.fid/',\n",
       " 'M:/2016/NPSG pure compound library/P16560/N027207_4497_70_28_MeOD/N027207_4497_70_28_1D_ROE_20151001_01/N027207_4497_70_28_1D_ROE_20151005_01/PROTON_01.fid/',\n",
       " 'M:/2016/NPSG pure compound library/P16560/N027207_4497_70_28_MeOD/N027207_4497_70_28_1D_ROE_20151001_01/PROTON_01.fid/',\n",
       " 'M:/2016/NPSG pure compound library/P16560/N027207_4497_70_28_MeOD/N027207_4497_70_28_MeOD_20150913_01/PROTON_01.fid/',\n",
       " 'M:/2016/NPSG pure compound library/P16560/N027207_4497_70_28_MeOD/N027207_4497_70_28_1D_ROE_20151001_01/N027207_4497_70_28_1D_ROE_20151003_01/PROTON_01.fid/',\n",
       " 'M:/2016/NPSG pure compound library/P16560/N027207_4497_70_28_MeOD/N027207_4497_70_28_1D_ROE_20151001_01/N027207_4497_70_28_1D_ROE_20151005_01/PROTON_01.fid/',\n",
       " 'M:/2016/NPSG pure compound library/P16560/N027207_4497_70_28_MeOD/N027207_4497_70_28_1D_ROE_20151001_01/PROTON_01.fid/',\n",
       " 'M:/2016/NPSG pure compound library/P16560/N027207_4497_70_28_MeOD/N027207_4497_70_28_MeOD_20150913_01/PROTON_01.fid/',\n",
       " 'M:/2016/NPSG pure compound library/P16560/N027207_4497_70_28_MeOD/N027207_4497_70_28_1D_ROE_20151001_01/N027207_4497_70_28_1D_ROE_20151003_01/PROTON_01.fid/',\n",
       " 'M:/2016/NPSG pure compound library/P16560/N027207_4497_70_28_MeOD/N027207_4497_70_28_1D_ROE_20151001_01/N027207_4497_70_28_1D_ROE_20151005_01/PROTON_01.fid/',\n",
       " 'M:/2016/NPSG pure compound library/P17507/C017973_4501_40_15_20151115_01/PROTON_01.fid/',\n",
       " 'M:/2016/NPSG pure compound library/P17513/C017973_4501_40_21_20151115_01/PROTON_01.fid/',\n",
       " 'M:/2016/NPSG pure compound library/P17516/C017973_4501_40_24_20151115_01/PROTON_01.fid/',\n",
       " 'M:/2016/NPSG pure compound library/P17541/C019265_4501_33_41_20151106_01_DMSO/PROTON_01.fid/',\n",
       " 'M:/2016/NPSG pure compound library/P17552/C017835_4501_34_36_20151116_02/PROTON_01.fid/',\n",
       " 'M:/2016/NPSG pure compound library/P17563/C018781_4501_36_20_20151115_01/PROTON_01.fid/',\n",
       " 'M:/2016/NPSG pure compound library/P17630/C10187_4501_43_20_20151124_02/PROTON_01.fid/',\n",
       " 'M:/2016/NPSG pure compound library/P18170/C10187_4501_46_25_20151203_01/PROTON_01.fid/',\n",
       " 'M:/2016/NPSG pure compound library/P18492/C017891_4498_19_40_20160112_01/PROTON_01.fid/',\n",
       " 'M:/2016/NPSG pure compound library/P19047/C27249_4501_57_45_20160113_02/PROTON_01.fid/',\n",
       " 'M:/2016/NPSG pure compound library/P19202/C028147_4501_64_32_20160222_01/PROTON_01.fid/',\n",
       " 'M:/2016/NPSG pure compound library/P19252/C027163_4501_66_34_20160228_01/PROTON_01.fid/',\n",
       " 'M:/2016/NPSG pure compound library/P19315/Bruceine D/N500561_4501_62_25_bruceine D/N500561_4501_62_25_20160204_01/PROTON_01.fid/',\n",
       " 'M:/2016/NPSG pure compound library/P19315/Bruceine D/N500561_4501_62_25_bruceine D/N500561_4501_62_25_20160204_01/PROTON_01.fid/',\n",
       " 'M:/2016/NPSG pure compound library/P20193/C18873_4503_12_28_20160425_02/PROTON_01.fid/',\n",
       " 'M:/2016/NPSG pure compound library/P20197/C18873_4503_12_32_20160425_01/PROTON_01.fid/',\n",
       " 'M:/2016/NPSG pure compound library/P20545/N15197_4503_19_66/PROTON_01.fid/',\n",
       " 'M:/2016/NPSG pure compound library/P20951/Brusatol/N500561_4501_62_64/500561_4501_62_64_20160204_01/PROTON_01.fid/',\n",
       " 'M:/2016/NPSG pure compound library/P20951/Brusatol/N500561_4501_62_64/N500561_4501_62_64_20160414_01/PROTON_01.fid/',\n",
       " 'M:/2016/NPSG pure compound library/P20951/Brusatol/N500561_4501_62_64_20160520_01/PROTON_01.fid/',\n",
       " 'M:/2016/NPSG pure compound library/P20951/Brusatol/N500561_4501_62_64/N500561_4501_62_64_20160414_01/PROTON_01.fid/',\n",
       " 'M:/2016/NPSG pure compound library/P20952/Bruceine A/N500561_4501_62_73/N500561_4501_62_73_20160204_01/PROTON_01.fid/',\n",
       " 'M:/2016/NPSG pure compound library/P20952/Bruceine A/N500561_4501_62_73_20160520_01/PROTON_01.fid/',\n",
       " 'M:/2016/NPSG pure compound library/P20952/Bruceine A/N500561_4501_62_73/N500561_4501_62_73_20160204_01/PROTON_01.fid/',\n",
       " 'M:/2016/NPSG pure compound library/P20953/Bruceatinol/N500561_4501_62_76/N500561_4501_62_76_20160204_01/PROTON_01.fid/',\n",
       " 'M:/2016/NPSG pure compound library/P20953/Bruceatinol/N500561_4501_62_76_20160520_01/PROTON_01.fid/',\n",
       " 'M:/2016/NPSG pure compound library/P20953/Bruceatinol/N500561_4501_62_76/N500561_4501_62_76_20160204_01/PROTON_01.fid/',\n",
       " 'M:/2016/NPSG pure compound library/P21151/F250369_4503_25_39_dmso_20161214_01/PROTON_01.fid/',\n",
       " 'M:/2016/NPSG pure compound library/P21413/N15197_4503_33_34_20160620_02/PROTON_01.fid/',\n",
       " 'M:/2016/NPSG pure compound library/P24509/C29481_4503_70_1_16_20161103_01/PROTON_01.fid/',\n",
       " 'M:/2016/NPSG pure compound library/P24511/C29481_4503_70_4_35_20161102_01/PROTON_01.fid/',\n",
       " 'M:/2016/NPSG pure compound library/P24512/C29481_4503_70_5_41_20161102_01/PROTON_01.fid/',\n",
       " 'M:/2016/NPSG pure compound library/P24513/C29481_4503_70_6_25_20161103_01/PROTON_01.fid/',\n",
       " 'M:/2016/NPSG pure compound library/P24514/C29481_4503_70_6_27_20161103_01/PROTON_01.fid/',\n",
       " 'M:/2016/NPSG pure compound library/P24515/C29481_4503_69_37_20161103_01/PROTON_01.fid/',\n",
       " 'M:/2016/NPSG pure compound library/P24516/C29481_4503_70_7_36_20161102_01/PROTON_01.fid/',\n",
       " 'M:/2016/NPSG pure compound library/P25377/C2201_5_4508_34_23_20170209_02/PROTON_01.fid/',\n",
       " 'M:/2016/NPSG pure compound library/P25672/N070761_4508_37_C16_20170330_01/N070761_4508_37_C16_20170324_02/PROTON_01.fid/',\n",
       " 'M:/2016/NPSG pure compound library/P25672/N070761_4508_37_C16_20170330_01/N070761_4508_37_C16_20170331_01/PROTON_01.fid/',\n",
       " 'M:/2016/NPSG pure compound library/P25672/N070761_4508_37_C16_20170330_01/PROTON_01.fid/',\n",
       " 'M:/2016/NPSG pure compound library/P25672/N070761_4508_37_C16_20170330_01/N070761_4508_37_C16_20170324_02/PROTON_01.fid/',\n",
       " 'M:/2016/NPSG pure compound library/P25672/N070761_4508_37_C16_20170330_01/N070761_4508_37_C16_20170331_01/PROTON_01.fid/',\n",
       " 'M:/2017/NPSG Projects/SOM6/Results/C2201/Pure compounds/C2201_5_4508_34_23_20170209_02/PROTON_01.fid/',\n",
       " 'M:/James/whittja/Documents/Projects/NMR Data/Local Spectra/2016/C029509_4498_20_44_20151230_01/PROTON_01.fid/',\n",
       " 'M:/James/whittja/Documents/Projects/NMR Data/Local Spectra/2016/C029509_4498_20_44_20151230_02/PROTON_01.fid/',\n",
       " 'M:/James/whittja/Documents/Projects/NMR Data/Local Spectra/Pre-2016/2015/C017891_4498_19_40_20160112_01/PROTON_01.fid/',\n",
       " 'M:/James/whittja/Documents/Projects/NMR Data/Local Spectra/Pre-2016/2015/C029509_4498_20_44_20151230_01/PROTON_01.fid/',\n",
       " 'M:/James/whittja/Documents/Projects/NMR Data/Local Spectra/Pre-2016/2015/C029509_4498_20_44_20151230_02/PROTON_01.fid/',\n",
       " 'M:/James/whittja/Documents/Projects/NMR Data/Local Spectra/Pre-2016/2015/C034281_4498_8_10_20150701_01/PROTON_01.fid/',\n",
       " 'M:/Tanja/2015_N027207/NMR data/N027207_4497_70_28_MeOD/N027207_4497_70_28_MeOD_20150913_01/PROTON_01.fid/',\n",
       " 'M:/Tanja/2015_N027207/NMR data/N027207_4497_70_28_MeOD/N027207_4497_70_28_MeOD_20150913_01/PROTON_01.fid/',\n",
       " 'M:/_ RHONE/___NMR_Rm321_400MHz/C028147/C028147_4501_64_32_20160222_01/PROTON_01.fid/',\n",
       " 'M:/_ RHONE/___NMR_Rm321_400MHz/C028147/C028147_4501_64_32_20160227_01/PROTON_01.fid/',\n",
       " 'M:/_Spencer/SampleNMRspectra/MakaluvamineA/C017973_4501_40_15_20151115_01/PROTON_01.fid/',\n",
       " 'M:/_Spencer/SOM6/C13295/Prep1/NMRdata/C13295_4509_1_6_20170426_01/PROTON_01.fid/',\n",
       " 'M:/_Spencer/SOM6/Plate Project_4505_30_1/C587/NMR/2ndLCprep/2DNMR/C587_5_4509_16_11_5051_26_2D_20170817_01/PROTON_01.fid/',\n",
       " 'M:/_Spencer/SOM6/Plate_Project_4505_28_4/C14175_5/Scale-up/Pure/C14175_567_4509_11_15_100_DMSO_20170609_01/PROTON_01.fid/',\n",
       " 'M:/_Spencer/SOM6/Plate_Project_4505_28_4/C15373_5/ScaleUpFX6/C15373_5_4509_9_14_20170517_01/PROTON_01.fid/',\n",
       " 'M:/_Spencer/SOM6/Plate_Project_4505_28_4/C15373_5/ScaleUpFX6/2ndprep_combined2_4_5_7fx/C15373_5_4509_9_14_20170531_01/PROTON_01.fid/',\n",
       " 'M:/_Spencer/SOM6/Plate_Project_4505_28_4/C15373_5/ScaleUpFX6/2ndscale-up/C15373_5_4509_9_14_20170602_01/PROTON_01.fid/',\n",
       " 'M:/_Spencer/SOM6/Plate_Project_4505_28_4/C17251_5/C17251_4509_5_16_20170428_DMSO/PROTON_01.fid/',\n",
       " 'M:/_Spencer/SOM6/Plate_Project_4505_28_4/C17897/Prep1/2DNMR/C17897_4509_8_26_20170506_01/PROTON_01.fid/',\n",
       " 'M:/_Spencer/SOM6/Plate_Project_4505_28_4/C17897/Prep1/C17897_8_2ndstage_coloured_HNMR_DMSO_routine/C17897_4509_8_26_20170503_01/PROTON_01.fid/',\n",
       " 'M:/_Spencer/SOM6/Plate_Project_4505_29_3/C8787/Scale_up/NMR/Combined_17and18_prep/2DNMR_12hr/C8787_6_4509_15_1718_29_20170706_01/PROTON_01.fid/',\n",
       " 'M:/_Spencer/SOM6/Plate_Project_4505_29_3/C8787/Scale_up/NMR/Combined_17and18_prep/Combined_fx31_32_prep/2DNMR/C8787_6_4509_15_3132_42_20170711_01/PROTON_01.fid/',\n",
       " 'M:/_Spencer/SOM6/Plate_Project_4505_29_3/C9611/C9611_6_4505_29_3_21R_20170612/PROTON_01.fid/',\n",
       " 'M:/_Tanja/PROJECTS/General lab/N070761/Prep 3/N070761_4508_37_C16_20170324_01/PROTON_01.fid/',\n",
       " 'M:/_Tanja/PROJECTS/General lab/N070761/Prep 3/2Ds/N070761_4508_37_C16_20170324_02/PROTON_01.fid/',\n",
       " 'M:/_Tanja/PROJECTS/General lab/N070761/Pure compounds/N070761_4508_37_C16_20170330_01/N070761_4508_37_C16_20170324_02/PROTON_01.fid/',\n",
       " 'M:/_Tanja/PROJECTS/General lab/N070761/Pure compounds/N070761_4508_37_C16_20170330_01/N070761_4508_37_C16_20170331_01/PROTON_01.fid/',\n",
       " 'M:/_Tanja/PROJECTS/General lab/N070761/Pure compounds/N070761_4508_37_C16_20170330_01/PROTON_01.fid/',\n",
       " 'M:/_Tanja/PROJECTS/General lab/N070761/Pure compounds/N070761_4508_37_C16_20170330_01/N070761_4508_37_C16_20170324_02/PROTON_01.fid/',\n",
       " 'M:/_Tanja/PROJECTS/General lab/N070761/Pure compounds/N070761_4508_37_C16_20170330_01/N070761_4508_37_C16_20170331_01/PROTON_01.fid/',\n",
       " 'M:/_Tanja/PROJECTS/General lab/Thai samples/C034281/C034281_4498_8_10_20150701_01/PROTON_01.fid/',\n",
       " 'M:/_Tanja/PROJECTS/PREFRAC/N15197/N15197_4503_19_66_20160516_01/N15197_4503_19_66_20160521_01/PROTON_01.fid/',\n",
       " 'M:/_Tanja/PROJECTS/PREFRAC/N15197/N15197_4503_19_66_20160516_01/PROTON_01.fid/',\n",
       " 'M:/_Tanja/PROJECTS/PREFRAC/N15197/N15197_4503_33_34_20160620_02/PROTON_01.fid/',\n",
       " 'M:/_Tanja/PROJECTS/PREFRAC/N15197/N15197_4503_19_66_20160516_01/N15197_4503_19_66_20160521_01/PROTON_01.fid/',\n",
       " 'M:/_Tanja/PROJECTS/TCM/N500561/Pure compounds/Pure compounds sent for testing/Bruceatinol/N500561_4501_62_76/N500561_4501_62_76_20160204_01/PROTON_01.fid/',\n",
       " 'M:/_Tanja/PROJECTS/TCM/N500561/Pure compounds/Pure compounds sent for testing/Bruceatinol/N500561_4501_62_76_20160520_01/PROTON_01.fid/',\n",
       " 'M:/_Tanja/PROJECTS/TCM/N500561/Pure compounds/Pure compounds sent for testing/Bruceatinol/N500561_4501_62_76/N500561_4501_62_76_20160204_01/PROTON_01.fid/',\n",
       " 'M:/_Tanja/PROJECTS/TCM/N500561/Pure compounds/Pure compounds sent for testing/Bruceine A/N500561_4501_62_73/N500561_4501_62_73_20160204_01/PROTON_01.fid/',\n",
       " 'M:/_Tanja/PROJECTS/TCM/N500561/Pure compounds/Pure compounds sent for testing/Bruceine A/N500561_4501_62_73_20160520_01/PROTON_01.fid/',\n",
       " 'M:/_Tanja/PROJECTS/TCM/N500561/Pure compounds/Pure compounds sent for testing/Bruceine A/N500561_4501_62_73/N500561_4501_62_73_20160204_01/PROTON_01.fid/',\n",
       " 'M:/_Tanja/PROJECTS/TCM/N500561/Pure compounds/Pure compounds sent for testing/Bruceine D/N500561_4501_62_25_bruceine D/N500561_4501_62_25_20160204_01/PROTON_01.fid/',\n",
       " 'M:/_Tanja/PROJECTS/TCM/N500561/Pure compounds/Pure compounds sent for testing/Bruceine D/N500561_4501_62_25_bruceine D/N500561_4501_62_25_20160204_01/PROTON_01.fid/',\n",
       " 'M:/_Tanja/PROJECTS/TCM/N500561/Pure compounds/Pure compounds sent for testing/Brusatol/N500561_4501_62_64/500561_4501_62_64_20160204_01/PROTON_01.fid/',\n",
       " 'M:/_Tanja/PROJECTS/TCM/N500561/Pure compounds/Pure compounds sent for testing/Brusatol/N500561_4501_62_64/N500561_4501_62_64_20160414_01/PROTON_01.fid/',\n",
       " 'M:/_Tanja/PROJECTS/TCM/N500561/Pure compounds/Pure compounds sent for testing/Brusatol/N500561_4501_62_64_20160520_01/PROTON_01.fid/',\n",
       " 'M:/_Tanja/PROJECTS/TCM/N500561/Pure compounds/Pure compounds sent for testing/Brusatol/N500561_4501_62_64/N500561_4501_62_64_20160414_01/PROTON_01.fid/',\n",
       " 'M:/_Tanja/SOM_PROJECTS/SOM1_HF recommendations/C010187_Zyzzya/Damirone A/C10187_4501_46_25_20151203_01/PROTON_01.fid/',\n",
       " 'M:/_Tanja/SOM_PROJECTS/SOM1_HF recommendations/C010187_Zyzzya/Makaluvamine J/C10187_4501_43_20_20151124_02/PROTON_01.fid/',\n",
       " 'M:/_Tanja/SOM_PROJECTS/SOM1_HF recommendations/C010187_Zyzzya/Prep 1/C10187_4501_43_20_20151124_01/PROTON_01.fid/',\n",
       " 'M:/_Tanja/SOM_PROJECTS/SOM1_HF recommendations/C010187_Zyzzya/Prep 1/C10187_4501_43_20_20151124_02/PROTON_01.fid/',\n",
       " 'M:/_Tanja/SOM_PROJECTS/SOM1_HF recommendations/C017835_Taonura sp/Latrunculin A/C017835_4501_34_36_20151116_02/PROTON_01.fid/',\n",
       " 'M:/_Tanja/SOM_PROJECTS/SOM1_HF recommendations/C017835_Taonura sp/Prep run/C017835_4501_34_36_20151116_01/PROTON_01.fid/',\n",
       " 'M:/_Tanja/SOM_PROJECTS/SOM1_HF recommendations/C017973_Zyzzya/Makaluvamine A/C017973_4501_40_15_20151115_01/PROTON_01.fid/',\n",
       " 'M:/_Tanja/SOM_PROJECTS/SOM1_HF recommendations/C017973_Zyzzya/Makaluvamine E/C017973_4501_40_24_20151115_01/PROTON_01.fid/',\n",
       " 'M:/_Tanja/SOM_PROJECTS/SOM1_HF recommendations/C017973_Zyzzya/Makaluvamine K/C017973_4501_40_21_20151115_01/PROTON_01.fid/',\n",
       " 'M:/_Tanja/SOM_PROJECTS/SOM1_HF recommendations/C017973_Zyzzya/Prep_1/C017973_4501_40_15_20151110_01/PROTON_01.fid/',\n",
       " 'M:/_Tanja/SOM_PROJECTS/SOM1_HF recommendations/C017973_Zyzzya/Prep_1/C017973_4501_40_21_20151110_01/PROTON_01.fid/',\n",
       " 'M:/_Tanja/SOM_PROJECTS/SOM1_HF recommendations/C017973_Zyzzya/Prep_1/C017973_4501_40_24_20151110_01/PROTON_01.fid/',\n",
       " 'M:/_Tanja/SOM_PROJECTS/SOM1_HF recommendations/C018781_Fascaplysinopsys sp/Fascaplysin/C018781_4501_36_20_20151115_01/PROTON_01.fid/',\n",
       " 'M:/_Tanja/SOM_PROJECTS/SOM1_HF recommendations/C018781_Fascaplysinopsys sp/Prep run/C018781_4501_36_20_20151112_01/PROTON_01.fid/',\n",
       " 'M:/_Tanja/SOM_PROJECTS/SOM1_HF recommendations/C019265_Taonura sp/Heteronemin/C019265_4501_33_41_20151115_01/PROTON_01.fid/',\n",
       " 'M:/_Tanja/SOM_PROJECTS/SOM1_HF recommendations/C019265_Taonura sp/Prep run/C019265_4501_33_41_20151106_01/PROTON_01.fid/',\n",
       " 'M:/_Tanja/SOM_PROJECTS/SOM1_HF recommendations/C019265_Taonura sp/Prep run/C019265_4501_33_41_benzene_20151110_01/PROTON_01.fid/',\n",
       " 'M:/_Tanja/SOM_PROJECTS/SOM1_HF recommendations/C027163/NEW/Prep/C027163_4501_66_34_20160222_01/PROTON_01.fid/',\n",
       " 'M:/_Tanja/SOM_PROJECTS/SOM1_HF recommendations/C027163/NEW/Prep/C027163_4501_66_34_20160228_01/PROTON_01.fid/',\n",
       " 'M:/_Tanja/SOM_PROJECTS/SOM1_HF recommendations/C027249/Small scale/C27249_4501_57_45_20160113_01/PROTON_01.fid/',\n",
       " 'M:/_Tanja/SOM_PROJECTS/SOM1_HF recommendations/C027249/Small scale/C27249_4501_57_45_20160113_02/PROTON_01.fid/',\n",
       " 'M:/_Tanja/SOM_PROJECTS/SOM1_HF recommendations/C028147_Amphiphedon/Prep/C028147_4501_64_32_20160222_01/PROTON_01.fid/',\n",
       " 'M:/_Tanja/SOM_PROJECTS/SOM1_HF recommendations/C029481_Spongionella/1 g isolation/Prep II/1/C29481_4503_70_1_16_20161024_01/PROTON_01.fid/',\n",
       " 'M:/_Tanja/SOM_PROJECTS/SOM1_HF recommendations/C029481_Spongionella/1 g isolation/Prep II/5/C29481_4503_70_5_41_20161027_01/PROTON_01.fid/',\n",
       " 'M:/_Tanja/SOM_PROJECTS/SOM1_HF recommendations/C029481_Spongionella/1 g isolation/Prep II/6/C29481_4503_70_6_25_20161028_01/PROTON_01.fid/',\n",
       " 'M:/_Tanja/SOM_PROJECTS/SOM1_HF recommendations/C029481_Spongionella/1 g isolation/Prep II/6/C29481_4503_70_6_27_20161028_01/PROTON_01.fid/',\n",
       " 'M:/_Tanja/SOM_PROJECTS/SOM1_HF recommendations/C029481_Spongionella/1 g isolation/Pure compounds/C29481_4503_69_37_20161021_02_GRACILIN A/PROTON_01.fid/',\n",
       " 'M:/_Tanja/SOM_PROJECTS/SOM1_HF recommendations/C029481_Spongionella/1 g isolation/Pure compounds/C29481_4503_70_1_16_20161029_01_GRACILIN I major/PROTON_01.fid/',\n",
       " 'M:/_Tanja/SOM_PROJECTS/SOM1_HF recommendations/C029481_Spongionella/1 g isolation/Pure compounds/C29481_4503_70_6_25_20161031_01_TETRAHYDROAPLYSULPHURIN 1/PROTON_01.fid/',\n",
       " 'M:/_Tanja/SOM_PROJECTS/SOM1_HF recommendations/C029481_Spongionella/1 g isolation/Pure compounds/C29481_4503_70_6_27_20161031_01_GRACILIN L/PROTON_01.fid/',\n",
       " 'M:/_Tanja/SOM_PROJECTS/SOM1_HF recommendations/C029481_Spongionella/1 g isolation/Pure compounds/IN DMSO/C29481_4503_69_37_20161103_01/PROTON_01.fid/',\n",
       " 'M:/_Tanja/SOM_PROJECTS/SOM1_HF recommendations/C029481_Spongionella/1 g isolation/Pure compounds/IN DMSO/C29481_4503_70_1_16_20161103_01/PROTON_01.fid/',\n",
       " 'M:/_Tanja/SOM_PROJECTS/SOM1_HF recommendations/C029481_Spongionella/1 g isolation/Pure compounds/IN DMSO/C29481_4503_70_4_35_20161102_01/PROTON_01.fid/',\n",
       " 'M:/_Tanja/SOM_PROJECTS/SOM1_HF recommendations/C029481_Spongionella/1 g isolation/Pure compounds/IN DMSO/C29481_4503_70_5_41_20161102_01/PROTON_01.fid/',\n",
       " 'M:/_Tanja/SOM_PROJECTS/SOM1_HF recommendations/C029481_Spongionella/1 g isolation/Pure compounds/IN DMSO/C29481_4503_70_6_25_20161103_01/PROTON_01.fid/',\n",
       " 'M:/_Tanja/SOM_PROJECTS/SOM1_HF recommendations/C029481_Spongionella/1 g isolation/Pure compounds/IN DMSO/C29481_4503_70_7_36_20161102_01/PROTON_01.fid/',\n",
       " 'M:/_Tanja/SOM_PROJECTS/SOM1_HF recommendations/C029481_Spongionella/1 g isolation/Pure compounds/Not so pure/C29481_4503_70_1_16_20161024_02/PROTON_01.fid/',\n",
       " 'M:/_Tanja/SOM_PROJECTS/SOM1_HF recommendations/C029481_Spongionella/1 g isolation/Pure compounds/Pure compound 2D data/C29481_4503_69_37_20161021/PROTON_01.fid/',\n",
       " 'M:/_Tanja/SOM_PROJECTS/SOM1_HF recommendations/C029481_Spongionella/1 g isolation/Pure compounds/Pure compound 2D data/C29481_4503_70_6_25_20161031/PROTON_01.fid/',\n",
       " 'M:/_Tanja/SOM_PROJECTS/SOM1_HF recommendations/C029481_Spongionella/1 g isolation/Pure compounds/Pure compound 2D data/C29481_4503_70_6_27/PROTON_01.fid/',\n",
       " 'M:/_Tanja/SOM_PROJECTS/SOM1_HF recommendations/C17981_Lissoclinum/Prep II/C17981_4501_70_15_20160315_01/PROTON_01.fid/',\n",
       " 'M:/_Tanja/SOM_PROJECTS/SOM1_HF recommendations/C18873_Haliclona sp/Initial/Prep 1/C18873_4503_12_28_20160425_01/PROTON_01.fid/',\n",
       " 'M:/_Tanja/SOM_PROJECTS/SOM1_HF recommendations/C18873_Haliclona sp/Initial/Prep 1/C18873_4503_12_28_20160425_02/PROTON_01.fid/',\n",
       " 'M:/_Tanja/SOM_PROJECTS/SOM1_HF recommendations/C18873_Haliclona sp/Initial/Prep 1/C18873_4503_12_32_20160425_01/PROTON_01.fid/',\n",
       " 'M:/_Tanja/SOM_PROJECTS/SOM2_fungal/F250369/Prep 1_F5and6/F250369_4503_25_39_20160520_02/PROTON_01.fid/',\n",
       " 'M:/_Tanja/SOM_PROJECTS/SOM2_fungal/F250369/Prep 1_F5and6/F250369_4503_25_39_dmso_20161214_01/PROTON_01.fid/',\n",
       " 'M:/_Tanja/SOM_PROJECTS/SOM2_fungal/F250369/Second stage/F250369_4503_25_39_20170103_01/PROTON_01.fid/',\n",
       " 'M:/_Tanja/SOM_PROJECTS/SOM6/C2201_aaptamine/Prep 1/C2201_5_4508_34_23_20170209_01/PROTON_01.fid/',\n",
       " 'M:/_Tanja/SOM_PROJECTS/SOM6/C2201_aaptamine/Pure compounds/C2201_5_4508_34_23_20170209_02/PROTON_01.fid/']"
      ]
     },
     "execution_count": 26,
     "metadata": {},
     "output_type": "execute_result"
    }
   ],
   "source": [
    "lst_Path"
   ]
  },
  {
   "cell_type": "markdown",
   "metadata": {},
   "source": [
    "## Obtain only basename without full path"
   ]
  },
  {
   "cell_type": "code",
   "execution_count": 27,
   "metadata": {
    "collapsed": true,
    "scrolled": true
   },
   "outputs": [],
   "source": [
    "parent_dir_name_list=[]\n",
    "copy_parent_dir_name_list=[] #try to generate an indexing scheme\n",
    "for fps in lst_Path:\n",
    "    parent_dir_name = os.path.basename(os.path.dirname(os.path.dirname(fps)))\n",
    "    parent_dir_name_list.append(parent_dir_name)\n",
    "    copy_parent_dir_name_list.append(parent_dir_name)"
   ]
  },
  {
   "cell_type": "markdown",
   "metadata": {},
   "source": [
    "## remove dups or similar basenames; not including pathfile"
   ]
  },
  {
   "cell_type": "code",
   "execution_count": null,
   "metadata": {
    "scrolled": true
   },
   "outputs": [],
   "source": [
    "removed_list=[]\n",
    "for pardirnm in parent_dir_name_list: \n",
    "    possibles = list(filter(lambda x: x is not pardirnm,parent_dir_name_list)) #whole list minus pardirnm\n",
    "    for echpossible in possibles:\n",
    "        count_differ = sum(a != b for a,b in zip(pardirnm,echpossible)) + abs(len(pardirnm) - len(echpossible))\n",
    "        if count_differ <5:\n",
    "            parent_dir_name_list.remove(echpossible)\n",
    "            removed_list.append(copy_parent_dir_name_list.index(echpossible))"
   ]
  },
  {
   "cell_type": "markdown",
   "metadata": {},
   "source": [
    "## working code that includes pathfile"
   ]
  },
  {
   "cell_type": "code",
   "execution_count": 4,
   "metadata": {},
   "outputs": [],
   "source": [
    "removed_list=[]\n",
    "for pardirnm in lst_Path: \n",
    "    possibles = list(filter(lambda x: x is not pardirnm,lst_Path)) #whole list minus pardirnm\n",
    "    for echpossible in possibles:\n",
    "        pdn = os.path.basename(os.path.dirname(os.path.dirname(pardirnm)))\n",
    "        ep = os.path.basename(os.path.dirname(os.path.dirname(echpossible)))\n",
    "        count_differ = sum(a != b for a,b in zip(pdn,ep)) + abs(len(pdn) - len(ep))\n",
    "        if count_differ <5:\n",
    "            lst_Path.remove(echpossible)"
   ]
  },
  {
   "cell_type": "code",
   "execution_count": 6,
   "metadata": {
    "scrolled": true
   },
   "outputs": [
    {
     "data": {
      "text/plain": [
       "48"
      ]
     },
     "execution_count": 6,
     "metadata": {},
     "output_type": "execute_result"
    }
   ],
   "source": [
    "len(lst_Path)"
   ]
  },
  {
   "cell_type": "code",
   "execution_count": 7,
   "metadata": {
    "scrolled": true
   },
   "outputs": [
    {
     "name": "stdout",
     "output_type": "stream",
     "text": [
      "M:/2016/NPSG Projects/SOM1-Marine HF projects/C17981_Lissoclinum/Prep II/C17981_4501_70_15_20160315_01/PROTON_01.fid/\n",
      "M:/2016/NPSG pure compound library/P16275/C034281_4498_8_10_20150701_01/PROTON_01.fid/\n",
      "M:/2016/NPSG pure compound library/P16560/N027207_4497_70_28_MeOD/N027207_4497_70_28_MeOD_20150913_01/PROTON_01.fid/\n",
      "M:/2016/NPSG pure compound library/P16560/N027207_4497_70_28_MeOD/N027207_4497_70_28_1D_ROE_20151001_01/N027207_4497_70_28_1D_ROE_20151003_01/PROTON_01.fid/\n",
      "M:/2016/NPSG pure compound library/P17507/C017973_4501_40_15_20151115_01/PROTON_01.fid/\n",
      "M:/2016/NPSG pure compound library/P17541/C019265_4501_33_41_20151106_01_DMSO/PROTON_01.fid/\n",
      "M:/2016/NPSG pure compound library/P17552/C017835_4501_34_36_20151116_02/PROTON_01.fid/\n",
      "M:/2016/NPSG pure compound library/P17563/C018781_4501_36_20_20151115_01/PROTON_01.fid/\n",
      "M:/2016/NPSG pure compound library/P17630/C10187_4501_43_20_20151124_02/PROTON_01.fid/\n",
      "M:/2016/NPSG pure compound library/P18170/C10187_4501_46_25_20151203_01/PROTON_01.fid/\n",
      "M:/2016/NPSG pure compound library/P18492/C017891_4498_19_40_20160112_01/PROTON_01.fid/\n",
      "M:/2016/NPSG pure compound library/P19047/C27249_4501_57_45_20160113_02/PROTON_01.fid/\n",
      "M:/2016/NPSG pure compound library/P19202/C028147_4501_64_32_20160222_01/PROTON_01.fid/\n",
      "M:/2016/NPSG pure compound library/P19252/C027163_4501_66_34_20160228_01/PROTON_01.fid/\n",
      "M:/2016/NPSG pure compound library/P19315/Bruceine D/N500561_4501_62_25_bruceine D/N500561_4501_62_25_20160204_01/PROTON_01.fid/\n",
      "M:/2016/NPSG pure compound library/P20193/C18873_4503_12_28_20160425_02/PROTON_01.fid/\n",
      "M:/2016/NPSG pure compound library/P20545/N15197_4503_19_66/PROTON_01.fid/\n",
      "M:/2016/NPSG pure compound library/P20951/Brusatol/N500561_4501_62_64/500561_4501_62_64_20160204_01/PROTON_01.fid/\n",
      "M:/2016/NPSG pure compound library/P20951/Brusatol/N500561_4501_62_64_20160520_01/PROTON_01.fid/\n",
      "M:/2016/NPSG pure compound library/P21151/F250369_4503_25_39_dmso_20161214_01/PROTON_01.fid/\n",
      "M:/2016/NPSG pure compound library/P21413/N15197_4503_33_34_20160620_02/PROTON_01.fid/\n",
      "M:/2016/NPSG pure compound library/P24509/C29481_4503_70_1_16_20161103_01/PROTON_01.fid/\n",
      "M:/2016/NPSG pure compound library/P24515/C29481_4503_69_37_20161103_01/PROTON_01.fid/\n",
      "M:/2016/NPSG pure compound library/P25377/C2201_5_4508_34_23_20170209_02/PROTON_01.fid/\n",
      "M:/2016/NPSG pure compound library/P25672/N070761_4508_37_C16_20170330_01/N070761_4508_37_C16_20170324_02/PROTON_01.fid/\n",
      "M:/James/whittja/Documents/Projects/NMR Data/Local Spectra/2016/C029509_4498_20_44_20151230_01/PROTON_01.fid/\n",
      "M:/_Spencer/SOM6/C13295/Prep1/NMRdata/C13295_4509_1_6_20170426_01/PROTON_01.fid/\n",
      "M:/_Spencer/SOM6/Plate Project_4505_30_1/C587/NMR/2ndLCprep/2DNMR/C587_5_4509_16_11_5051_26_2D_20170817_01/PROTON_01.fid/\n",
      "M:/_Spencer/SOM6/Plate_Project_4505_28_4/C14175_5/Scale-up/Pure/C14175_567_4509_11_15_100_DMSO_20170609_01/PROTON_01.fid/\n",
      "M:/_Spencer/SOM6/Plate_Project_4505_28_4/C15373_5/ScaleUpFX6/C15373_5_4509_9_14_20170517_01/PROTON_01.fid/\n",
      "M:/_Spencer/SOM6/Plate_Project_4505_28_4/C17251_5/C17251_4509_5_16_20170428_DMSO/PROTON_01.fid/\n",
      "M:/_Spencer/SOM6/Plate_Project_4505_28_4/C17897/Prep1/2DNMR/C17897_4509_8_26_20170506_01/PROTON_01.fid/\n",
      "M:/_Spencer/SOM6/Plate_Project_4505_29_3/C8787/Scale_up/NMR/Combined_17and18_prep/2DNMR_12hr/C8787_6_4509_15_1718_29_20170706_01/PROTON_01.fid/\n",
      "M:/_Spencer/SOM6/Plate_Project_4505_29_3/C8787/Scale_up/NMR/Combined_17and18_prep/Combined_fx31_32_prep/2DNMR/C8787_6_4509_15_3132_42_20170711_01/PROTON_01.fid/\n",
      "M:/_Spencer/SOM6/Plate_Project_4505_29_3/C9611/C9611_6_4505_29_3_21R_20170612/PROTON_01.fid/\n",
      "M:/_Tanja/PROJECTS/PREFRAC/N15197/N15197_4503_19_66_20160516_01/N15197_4503_19_66_20160521_01/PROTON_01.fid/\n",
      "M:/_Tanja/SOM_PROJECTS/SOM1_HF recommendations/C019265_Taonura sp/Heteronemin/C019265_4501_33_41_20151115_01/PROTON_01.fid/\n",
      "M:/_Tanja/SOM_PROJECTS/SOM1_HF recommendations/C019265_Taonura sp/Prep run/C019265_4501_33_41_benzene_20151110_01/PROTON_01.fid/\n",
      "M:/_Tanja/SOM_PROJECTS/SOM1_HF recommendations/C029481_Spongionella/1 g isolation/Prep II/5/C29481_4503_70_5_41_20161027_01/PROTON_01.fid/\n",
      "M:/_Tanja/SOM_PROJECTS/SOM1_HF recommendations/C029481_Spongionella/1 g isolation/Pure compounds/C29481_4503_69_37_20161021_02_GRACILIN A/PROTON_01.fid/\n",
      "M:/_Tanja/SOM_PROJECTS/SOM1_HF recommendations/C029481_Spongionella/1 g isolation/Pure compounds/C29481_4503_70_1_16_20161029_01_GRACILIN I major/PROTON_01.fid/\n",
      "M:/_Tanja/SOM_PROJECTS/SOM1_HF recommendations/C029481_Spongionella/1 g isolation/Pure compounds/C29481_4503_70_6_25_20161031_01_TETRAHYDROAPLYSULPHURIN 1/PROTON_01.fid/\n",
      "M:/_Tanja/SOM_PROJECTS/SOM1_HF recommendations/C029481_Spongionella/1 g isolation/Pure compounds/C29481_4503_70_6_27_20161031_01_GRACILIN L/PROTON_01.fid/\n",
      "M:/_Tanja/SOM_PROJECTS/SOM1_HF recommendations/C029481_Spongionella/1 g isolation/Pure compounds/Pure compound 2D data/C29481_4503_69_37_20161021/PROTON_01.fid/\n",
      "M:/_Tanja/SOM_PROJECTS/SOM1_HF recommendations/C029481_Spongionella/1 g isolation/Pure compounds/Pure compound 2D data/C29481_4503_70_6_25_20161031/PROTON_01.fid/\n",
      "M:/_Tanja/SOM_PROJECTS/SOM1_HF recommendations/C029481_Spongionella/1 g isolation/Pure compounds/Pure compound 2D data/C29481_4503_70_6_27/PROTON_01.fid/\n",
      "M:/_Tanja/SOM_PROJECTS/SOM2_fungal/F250369/Prep 1_F5and6/F250369_4503_25_39_20160520_02/PROTON_01.fid/\n",
      "M:/_Tanja/SOM_PROJECTS/SOM2_fungal/F250369/Second stage/F250369_4503_25_39_20170103_01/PROTON_01.fid/\n"
     ]
    }
   ],
   "source": [
    "for ech in lst_Path:\n",
    "    print(ech)"
   ]
  },
  {
   "cell_type": "markdown",
   "metadata": {},
   "source": [
    "## append the full path after removing the dups and similar basenames"
   ]
  },
  {
   "cell_type": "code",
   "execution_count": 33,
   "metadata": {
    "scrolled": true
   },
   "outputs": [],
   "source": [
    "final_List = []\n",
    "for ech_par_dir_lst in parent_dir_name_list:\n",
    "    matches_indices = [i for i, s in enumerate(lst_Path) if ech_par_dir_lst in s]\n",
    "    test_Dups = [lst_Path[i] for i in matches_indices]\n",
    "    if all(test_Dups):\n",
    "        final_List.append(lst_Path[0]) #somehow need to index the lst_Path correctly\n",
    "    else:\n",
    "        final_List.append(test_Dups)"
   ]
  }
 ],
 "metadata": {
  "anaconda-cloud": {},
  "kernelspec": {
   "display_name": "Python 3",
   "language": "python",
   "name": "python3"
  },
  "language_info": {
   "codemirror_mode": {
    "name": "ipython",
    "version": 3
   },
   "file_extension": ".py",
   "mimetype": "text/x-python",
   "name": "python",
   "nbconvert_exporter": "python",
   "pygments_lexer": "ipython3",
   "version": "3.6.2"
  }
 },
 "nbformat": 4,
 "nbformat_minor": 2
}
