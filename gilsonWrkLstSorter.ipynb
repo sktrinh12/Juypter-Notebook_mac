{
 "cells": [
  {
   "cell_type": "code",
   "execution_count": 87,
   "metadata": {},
   "outputs": [],
   "source": [
    "def sortGilsonWorklist(filepath_in, filepath_out):\n",
    "    with open(filepath_in,'r') as f:\n",
    "        content = f.readlines()\n",
    "    \n",
    "    dataline = []\n",
    "    count = 0\n",
    "    for i,line in enumerate(content[3:-2]):\n",
    "        if i % 21 == 0 and i < 22:\n",
    "            pass\n",
    "        else:\n",
    "            tmpline = line.split('\\t')\n",
    "            if count > 19:\n",
    "                dataline.append((int(tmpline[4])+20,'\\t'.join([tmpline[0],tmpline[1],tmpline[2],tmpline[3],tmpline[4]])))\n",
    "            else:\n",
    "                dataline.append((int(tmpline[4]),'\\t'.join([tmpline[0],tmpline[1],tmpline[2],tmpline[3],tmpline[4]])))\n",
    "            count+=1\n",
    "\n",
    "    dataline.sort()\n",
    "   \n",
    "    header = '\\t'.join([\"SAMPLE\",\"POS\",\"VOL\",\"BARCODE\",\"WELL\"])\n",
    "    blank = '\\n\\n'\n",
    "    std = '\\t'.join(['STD','-','-','-']) +'\\n'\n",
    "    start = '\\t'.join(['START','-','-','-']) +'\\n'\n",
    "    shutdown = '\\t'.join(['SHUTDOWN','-','-','-'])\n",
    "\n",
    "    for j in [8,17,26,35,44]:\n",
    "        dataline.insert(j,std) \n",
    "        \n",
    "    with open(filepath_out,'a+') as f:\n",
    "        f.write(header)\n",
    "        f.write(blank)\n",
    "        f.write(start)\n",
    "        f.write(std)\n",
    "        for ln in dataline:\n",
    "            try:\n",
    "                int(ln[0])\n",
    "                f.write(ln[1])\n",
    "            except ValueError as e:\n",
    "                f.write(ln)\n",
    "        f.write(shutdown) \n",
    "    print(f'wrote to file: {filepath_out}')"
   ]
  },
  {
   "cell_type": "code",
   "execution_count": 88,
   "metadata": {},
   "outputs": [
    {
     "name": "stdout",
     "output_type": "stream",
     "text": [
      "wrote to file: /Users/spencertrinh/Downloads/GILSONout.txt\n"
     ]
    }
   ],
   "source": [
    "filein = '/Users/spencertrinh/Downloads/GILSONTEST.txt'\n",
    "fileout = '/Users/spencertrinh/Downloads/GILSONout.txt'\n",
    "sortGilsonWorklist(filein,fileout)"
   ]
  },
  {
   "cell_type": "code",
   "execution_count": 10,
   "metadata": {},
   "outputs": [],
   "source": [
    "with open('/Users/spencertrinh/Downloads/GILSONTEST.txt','r') as f:\n",
    "    content = f.readlines()"
   ]
  },
  {
   "cell_type": "code",
   "execution_count": 50,
   "metadata": {},
   "outputs": [],
   "source": [
    "dataline = []\n",
    "count = 0\n",
    "for i,line in enumerate(content[3:-2]):\n",
    "    if i % 21 == 0 and i < 22:\n",
    "        pass\n",
    "    else:\n",
    "        #print(line.split('\\t'))\n",
    "        tmpline = line.split('\\t')\n",
    "        if count > 19:\n",
    "            dataline.append((int(tmpline[4])+20,'\\t'.join([tmpline[0],tmpline[1],tmpline[2],tmpline[3],tmpline[4]])))\n",
    "        else:\n",
    "            dataline.append((int(tmpline[4]),'\\t'.join([tmpline[0],tmpline[1],tmpline[2],tmpline[3],tmpline[4]])))\n",
    "        count+=1\n",
    "    \n",
    "dataline.sort()\n"
   ]
  },
  {
   "cell_type": "code",
   "execution_count": 77,
   "metadata": {},
   "outputs": [],
   "source": [
    "with open('/Users/spencertrinh/Downloads/GILSONOUTPUT.txt','a+') as f:\n",
    "    f.write(header)\n",
    "    f.write(blank)\n",
    "    f.write(start+'\\n')\n",
    "    f.write(std+'\\n')\n",
    "    for i in dataline:\n",
    "        try:\n",
    "            int(i[0])\n",
    "            f.write(i[1])\n",
    "        except ValueError as e:\n",
    "            f.write(i)\n",
    "    f.write(FOOTERS) "
   ]
  },
  {
   "cell_type": "code",
   "execution_count": 75,
   "metadata": {},
   "outputs": [],
   "source": [
    "header = '\\t'.join([\"SAMPLE\",\"POS\",\"VOL\",\"BARCODE\",\"WELL\"])\n",
    "blank = '\\n\\n'\n",
    "std = '\\t'.join(['STD','-','-','-'])\n",
    "start = '\\t'.join(['START','-','-','-'])  "
   ]
  },
  {
   "cell_type": "code",
   "execution_count": 51,
   "metadata": {},
   "outputs": [
    {
     "data": {
      "text/plain": [
       "[(1, 'SAMPLE_1_1\\tA01\\t876\\tFB985723J\\t1\\n'),\n",
       " (2, 'SAMPLE_1_6\\tB01\\t42\\tFB985ADF\\t2\\n'),\n",
       " (3, 'SAMPLE_1_11\\tC01\\t6\\tFB985723J\\t3\\n'),\n",
       " (4, 'SAMPLE_1_16\\tD01\\t2\\tFB985ADF\\t4\\n'),\n",
       " (5, 'SAMPLE_1_2\\tA02\\t4567\\tFB985ADF\\t5\\n'),\n",
       " (6, 'SAMPLE_1_7\\tB02\\t34\\tFB985723J\\t6\\n'),\n",
       " (7, 'SAMPLE_1_12\\tC02\\t4\\tFB985ADF\\t7\\n'),\n",
       " (8, 'SAMPLE_1_17\\tD02\\t45\\tFB985723J\\t8\\n'),\n",
       " 'STD\\t-\\t-\\t-\\t41\\n',\n",
       " (9, 'SAMPLE_1_3\\tA03\\t64\\tFB985723J\\t9\\n'),\n",
       " (10, 'SAMPLE_1_8\\tB03\\t45\\tFB985ADF\\t10\\n'),\n",
       " (11, 'SAMPLE_1_13\\tC03\\t52\\tFB985723J\\t11\\n'),\n",
       " (12, 'SAMPLE_1_18\\tD03\\t2\\tFB985ADF\\t12\\n'),\n",
       " (13, 'SAMPLE_1_4\\tA04\\t774\\tFB985ADF\\t13\\n'),\n",
       " (14, 'SAMPLE_1_9\\tB04\\t6\\tFB985723J\\t14\\n'),\n",
       " (15, 'SAMPLE_1_14\\tC04\\t3452\\tFB985ADF\\t15\\n'),\n",
       " (16, 'SAMPLE_1_19\\tD04\\t352\\tFB985723J\\t16\\n'),\n",
       " 'STD\\t-\\t-\\t-\\t41\\n',\n",
       " (17, 'SAMPLE_1_5\\tA05\\t5\\tFB985723J\\t17\\n'),\n",
       " (18, 'SAMPLE_1_10\\tB05\\t634\\tFB985ADF\\t18\\n'),\n",
       " (19, 'SAMPLE_1_15\\tC05\\t345\\tFB985723J\\t19\\n'),\n",
       " (20, 'SAMPLE_1_20\\tD05\\t45\\tFB985ADF\\t20\\n'),\n",
       " (21, 'SAMPLE_2_1\\tA01\\t876\\tFB985723J\\t1\\n'),\n",
       " (22, 'SAMPLE_2_6\\tB01\\t42\\tFB985ADF\\t2\\n'),\n",
       " (23, 'SAMPLE_2_11\\tC01\\t6\\tFB985723J\\t3\\n'),\n",
       " (24, 'SAMPLE_2_16\\tD01\\t2\\tFB985ADF\\t4\\n'),\n",
       " 'STD\\t-\\t-\\t-\\t41\\n',\n",
       " (25, 'SAMPLE_2_2\\tA02\\t4567\\tFB985ADF\\t5\\n'),\n",
       " (26, 'SAMPLE_2_7\\tB02\\t34\\tFB985723J\\t6\\n'),\n",
       " (27, 'SAMPLE_2_12\\tC02\\t4\\tFB985ADF\\t7\\n'),\n",
       " (28, 'SAMPLE_2_17\\tD02\\t45\\tFB985723J\\t8\\n'),\n",
       " (29, 'SAMPLE_2_3\\tA03\\t64\\tFB985723J\\t9\\n'),\n",
       " (30, 'SAMPLE_2_8\\tB03\\t45\\tFB985ADF\\t10\\n'),\n",
       " (31, 'SAMPLE_2_13\\tC03\\t52\\tFB985723J\\t11\\n'),\n",
       " (32, 'SAMPLE_2_18\\tD03\\t2\\tFB985ADF\\t12\\n'),\n",
       " 'STD\\t-\\t-\\t-\\t41\\n',\n",
       " (33, 'SAMPLE_2_4\\tA04\\t774\\tFB985ADF\\t13\\n'),\n",
       " (34, 'SAMPLE_2_9\\tB04\\t6\\tFB985723J\\t14\\n'),\n",
       " (35, 'SAMPLE_2_14\\tC04\\t3452\\tFB985ADF\\t15\\n'),\n",
       " (36, 'SAMPLE_2_19\\tD04\\t352\\tFB985723J\\t16\\n'),\n",
       " (37, 'SAMPLE_2_5\\tA05\\t5\\tFB985723J\\t17\\n'),\n",
       " (38, 'SAMPLE_2_10\\tB05\\t634\\tFB985ADF\\t18\\n'),\n",
       " (39, 'SAMPLE_2_15\\tC05\\t345\\tFB985723J\\t19\\n'),\n",
       " (40, 'SAMPLE_2_20\\tD05\\t45\\tFB985ADF\\t20\\n'),\n",
       " 'STD\\t-\\t-\\t-\\t41\\n']"
      ]
     },
     "execution_count": 51,
     "metadata": {},
     "output_type": "execute_result"
    }
   ],
   "source": [
    "for j in [8,17,26,35,44]:\n",
    "    dataline.insert(j,('STD\\t-\\t-\\t-\\t41\\n')) \n",
    "    \n",
    "dataline"
   ]
  },
  {
   "cell_type": "code",
   "execution_count": 54,
   "metadata": {},
   "outputs": [
    {
     "data": {
      "text/plain": [
       "[(1, 'SAMPLE_1_1\\tA01\\t876\\tFB985723J\\t1\\n'),\n",
       " (2, 'SAMPLE_1_6\\tB01\\t42\\tFB985ADF\\t2\\n'),\n",
       " (3, 'SAMPLE_1_11\\tC01\\t6\\tFB985723J\\t3\\n'),\n",
       " (4, 'SAMPLE_1_16\\tD01\\t2\\tFB985ADF\\t4\\n'),\n",
       " (5, 'SAMPLE_1_2\\tA02\\t4567\\tFB985ADF\\t5\\n'),\n",
       " (6, 'SAMPLE_1_7\\tB02\\t34\\tFB985723J\\t6\\n'),\n",
       " (7, 'SAMPLE_1_12\\tC02\\t4\\tFB985ADF\\t7\\n'),\n",
       " (8, 'SAMPLE_1_17\\tD02\\t45\\tFB985723J\\t8\\n'),\n",
       " 'STD\\t-\\t-\\t-\\t41\\n',\n",
       " (9, 'SAMPLE_1_3\\tA03\\t64\\tFB985723J\\t9\\n'),\n",
       " (10, 'SAMPLE_1_8\\tB03\\t45\\tFB985ADF\\t10\\n'),\n",
       " (11, 'SAMPLE_1_13\\tC03\\t52\\tFB985723J\\t11\\n'),\n",
       " (12, 'SAMPLE_1_18\\tD03\\t2\\tFB985ADF\\t12\\n'),\n",
       " (13, 'SAMPLE_1_4\\tA04\\t774\\tFB985ADF\\t13\\n'),\n",
       " (14, 'SAMPLE_1_9\\tB04\\t6\\tFB985723J\\t14\\n'),\n",
       " (15, 'SAMPLE_1_14\\tC04\\t3452\\tFB985ADF\\t15\\n'),\n",
       " (16, 'SAMPLE_1_19\\tD04\\t352\\tFB985723J\\t16\\n'),\n",
       " 'STD\\t-\\t-\\t-\\t41\\n',\n",
       " (17, 'SAMPLE_1_5\\tA05\\t5\\tFB985723J\\t17\\n'),\n",
       " (18, 'SAMPLE_1_10\\tB05\\t634\\tFB985ADF\\t18\\n'),\n",
       " (19, 'SAMPLE_1_15\\tC05\\t345\\tFB985723J\\t19\\n'),\n",
       " (20, 'SAMPLE_1_20\\tD05\\t45\\tFB985ADF\\t20\\n'),\n",
       " (21, 'SAMPLE_2_1\\tA01\\t876\\tFB985723J\\t1\\n'),\n",
       " (22, 'SAMPLE_2_6\\tB01\\t42\\tFB985ADF\\t2\\n'),\n",
       " (23, 'SAMPLE_2_11\\tC01\\t6\\tFB985723J\\t3\\n'),\n",
       " (24, 'SAMPLE_2_16\\tD01\\t2\\tFB985ADF\\t4\\n'),\n",
       " 'STD\\t-\\t-\\t-\\t41\\n',\n",
       " (25, 'SAMPLE_2_2\\tA02\\t4567\\tFB985ADF\\t5\\n'),\n",
       " (26, 'SAMPLE_2_7\\tB02\\t34\\tFB985723J\\t6\\n'),\n",
       " (27, 'SAMPLE_2_12\\tC02\\t4\\tFB985ADF\\t7\\n'),\n",
       " (28, 'SAMPLE_2_17\\tD02\\t45\\tFB985723J\\t8\\n'),\n",
       " (29, 'SAMPLE_2_3\\tA03\\t64\\tFB985723J\\t9\\n'),\n",
       " (30, 'SAMPLE_2_8\\tB03\\t45\\tFB985ADF\\t10\\n'),\n",
       " (31, 'SAMPLE_2_13\\tC03\\t52\\tFB985723J\\t11\\n'),\n",
       " (32, 'SAMPLE_2_18\\tD03\\t2\\tFB985ADF\\t12\\n'),\n",
       " 'STD\\t-\\t-\\t-\\t41\\n',\n",
       " (33, 'SAMPLE_2_4\\tA04\\t774\\tFB985ADF\\t13\\n'),\n",
       " (34, 'SAMPLE_2_9\\tB04\\t6\\tFB985723J\\t14\\n'),\n",
       " (35, 'SAMPLE_2_14\\tC04\\t3452\\tFB985ADF\\t15\\n'),\n",
       " (36, 'SAMPLE_2_19\\tD04\\t352\\tFB985723J\\t16\\n'),\n",
       " (37, 'SAMPLE_2_5\\tA05\\t5\\tFB985723J\\t17\\n'),\n",
       " (38, 'SAMPLE_2_10\\tB05\\t634\\tFB985ADF\\t18\\n'),\n",
       " (39, 'SAMPLE_2_15\\tC05\\t345\\tFB985723J\\t19\\n'),\n",
       " (40, 'SAMPLE_2_20\\tD05\\t45\\tFB985ADF\\t20\\n'),\n",
       " 'STD\\t-\\t-\\t-\\t41\\n']"
      ]
     },
     "execution_count": 54,
     "metadata": {},
     "output_type": "execute_result"
    }
   ],
   "source": [
    "dataline"
   ]
  }
 ],
 "metadata": {
  "kernelspec": {
   "display_name": "py37",
   "language": "python",
   "name": "py37"
  },
  "language_info": {
   "codemirror_mode": {
    "name": "ipython",
    "version": 3
   },
   "file_extension": ".py",
   "mimetype": "text/x-python",
   "name": "python",
   "nbconvert_exporter": "python",
   "pygments_lexer": "ipython3",
   "version": "3.7.3"
  }
 },
 "nbformat": 4,
 "nbformat_minor": 2
}
