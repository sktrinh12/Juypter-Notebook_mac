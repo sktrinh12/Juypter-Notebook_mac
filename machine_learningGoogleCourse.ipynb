{
 "cells": [
  {
   "cell_type": "code",
   "execution_count": 1,
   "metadata": {},
   "outputs": [],
   "source": [
    "from sklearn.datasets import load_iris\n",
    "import numpy as np\n",
    "from sklearn import tree"
   ]
  },
  {
   "cell_type": "code",
   "execution_count": 2,
   "metadata": {},
   "outputs": [],
   "source": [
    "iris = load_iris()"
   ]
  },
  {
   "cell_type": "code",
   "execution_count": 7,
   "metadata": {},
   "outputs": [
    {
     "name": "stdout",
     "output_type": "stream",
     "text": [
      "['sepal length (cm)', 'sepal width (cm)', 'petal length (cm)', 'petal width (cm)']\n"
     ]
    }
   ],
   "source": [
    "print(iris.feature_names)"
   ]
  },
  {
   "cell_type": "code",
   "execution_count": 8,
   "metadata": {},
   "outputs": [
    {
     "name": "stdout",
     "output_type": "stream",
     "text": [
      "['setosa' 'versicolor' 'virginica']\n"
     ]
    }
   ],
   "source": [
    "print(iris.target_names)"
   ]
  },
  {
   "cell_type": "code",
   "execution_count": 9,
   "metadata": {},
   "outputs": [
    {
     "data": {
      "text/plain": [
       "array([5.1, 3.5, 1.4, 0.2])"
      ]
     },
     "execution_count": 9,
     "metadata": {},
     "output_type": "execute_result"
    }
   ],
   "source": [
    "iris.data[0]"
   ]
  },
  {
   "cell_type": "code",
   "execution_count": 10,
   "metadata": {},
   "outputs": [
    {
     "data": {
      "text/plain": [
       "0"
      ]
     },
     "execution_count": 10,
     "metadata": {},
     "output_type": "execute_result"
    }
   ],
   "source": [
    "iris.target[0]"
   ]
  },
  {
   "cell_type": "code",
   "execution_count": 11,
   "metadata": {},
   "outputs": [
    {
     "name": "stdout",
     "output_type": "stream",
     "text": [
      "Example 0: label 0, feature [5.1 3.5 1.4 0.2]\n",
      "Example 1: label 0, feature [4.9 3.  1.4 0.2]\n",
      "Example 2: label 0, feature [4.7 3.2 1.3 0.2]\n",
      "Example 3: label 0, feature [4.6 3.1 1.5 0.2]\n",
      "Example 4: label 0, feature [5.  3.6 1.4 0.2]\n",
      "Example 5: label 0, feature [5.4 3.9 1.7 0.4]\n",
      "Example 6: label 0, feature [4.6 3.4 1.4 0.3]\n",
      "Example 7: label 0, feature [5.  3.4 1.5 0.2]\n",
      "Example 8: label 0, feature [4.4 2.9 1.4 0.2]\n",
      "Example 9: label 0, feature [4.9 3.1 1.5 0.1]\n",
      "Example 10: label 0, feature [5.4 3.7 1.5 0.2]\n",
      "Example 11: label 0, feature [4.8 3.4 1.6 0.2]\n",
      "Example 12: label 0, feature [4.8 3.  1.4 0.1]\n",
      "Example 13: label 0, feature [4.3 3.  1.1 0.1]\n",
      "Example 14: label 0, feature [5.8 4.  1.2 0.2]\n",
      "Example 15: label 0, feature [5.7 4.4 1.5 0.4]\n",
      "Example 16: label 0, feature [5.4 3.9 1.3 0.4]\n",
      "Example 17: label 0, feature [5.1 3.5 1.4 0.3]\n",
      "Example 18: label 0, feature [5.7 3.8 1.7 0.3]\n",
      "Example 19: label 0, feature [5.1 3.8 1.5 0.3]\n",
      "Example 20: label 0, feature [5.4 3.4 1.7 0.2]\n",
      "Example 21: label 0, feature [5.1 3.7 1.5 0.4]\n",
      "Example 22: label 0, feature [4.6 3.6 1.  0.2]\n",
      "Example 23: label 0, feature [5.1 3.3 1.7 0.5]\n",
      "Example 24: label 0, feature [4.8 3.4 1.9 0.2]\n",
      "Example 25: label 0, feature [5.  3.  1.6 0.2]\n",
      "Example 26: label 0, feature [5.  3.4 1.6 0.4]\n",
      "Example 27: label 0, feature [5.2 3.5 1.5 0.2]\n",
      "Example 28: label 0, feature [5.2 3.4 1.4 0.2]\n",
      "Example 29: label 0, feature [4.7 3.2 1.6 0.2]\n",
      "Example 30: label 0, feature [4.8 3.1 1.6 0.2]\n",
      "Example 31: label 0, feature [5.4 3.4 1.5 0.4]\n",
      "Example 32: label 0, feature [5.2 4.1 1.5 0.1]\n",
      "Example 33: label 0, feature [5.5 4.2 1.4 0.2]\n",
      "Example 34: label 0, feature [4.9 3.1 1.5 0.2]\n",
      "Example 35: label 0, feature [5.  3.2 1.2 0.2]\n",
      "Example 36: label 0, feature [5.5 3.5 1.3 0.2]\n",
      "Example 37: label 0, feature [4.9 3.6 1.4 0.1]\n",
      "Example 38: label 0, feature [4.4 3.  1.3 0.2]\n",
      "Example 39: label 0, feature [5.1 3.4 1.5 0.2]\n",
      "Example 40: label 0, feature [5.  3.5 1.3 0.3]\n",
      "Example 41: label 0, feature [4.5 2.3 1.3 0.3]\n",
      "Example 42: label 0, feature [4.4 3.2 1.3 0.2]\n",
      "Example 43: label 0, feature [5.  3.5 1.6 0.6]\n",
      "Example 44: label 0, feature [5.1 3.8 1.9 0.4]\n",
      "Example 45: label 0, feature [4.8 3.  1.4 0.3]\n",
      "Example 46: label 0, feature [5.1 3.8 1.6 0.2]\n",
      "Example 47: label 0, feature [4.6 3.2 1.4 0.2]\n",
      "Example 48: label 0, feature [5.3 3.7 1.5 0.2]\n",
      "Example 49: label 0, feature [5.  3.3 1.4 0.2]\n",
      "Example 50: label 1, feature [7.  3.2 4.7 1.4]\n",
      "Example 51: label 1, feature [6.4 3.2 4.5 1.5]\n",
      "Example 52: label 1, feature [6.9 3.1 4.9 1.5]\n",
      "Example 53: label 1, feature [5.5 2.3 4.  1.3]\n",
      "Example 54: label 1, feature [6.5 2.8 4.6 1.5]\n",
      "Example 55: label 1, feature [5.7 2.8 4.5 1.3]\n",
      "Example 56: label 1, feature [6.3 3.3 4.7 1.6]\n",
      "Example 57: label 1, feature [4.9 2.4 3.3 1. ]\n",
      "Example 58: label 1, feature [6.6 2.9 4.6 1.3]\n",
      "Example 59: label 1, feature [5.2 2.7 3.9 1.4]\n",
      "Example 60: label 1, feature [5.  2.  3.5 1. ]\n",
      "Example 61: label 1, feature [5.9 3.  4.2 1.5]\n",
      "Example 62: label 1, feature [6.  2.2 4.  1. ]\n",
      "Example 63: label 1, feature [6.1 2.9 4.7 1.4]\n",
      "Example 64: label 1, feature [5.6 2.9 3.6 1.3]\n",
      "Example 65: label 1, feature [6.7 3.1 4.4 1.4]\n",
      "Example 66: label 1, feature [5.6 3.  4.5 1.5]\n",
      "Example 67: label 1, feature [5.8 2.7 4.1 1. ]\n",
      "Example 68: label 1, feature [6.2 2.2 4.5 1.5]\n",
      "Example 69: label 1, feature [5.6 2.5 3.9 1.1]\n",
      "Example 70: label 1, feature [5.9 3.2 4.8 1.8]\n",
      "Example 71: label 1, feature [6.1 2.8 4.  1.3]\n",
      "Example 72: label 1, feature [6.3 2.5 4.9 1.5]\n",
      "Example 73: label 1, feature [6.1 2.8 4.7 1.2]\n",
      "Example 74: label 1, feature [6.4 2.9 4.3 1.3]\n",
      "Example 75: label 1, feature [6.6 3.  4.4 1.4]\n",
      "Example 76: label 1, feature [6.8 2.8 4.8 1.4]\n",
      "Example 77: label 1, feature [6.7 3.  5.  1.7]\n",
      "Example 78: label 1, feature [6.  2.9 4.5 1.5]\n",
      "Example 79: label 1, feature [5.7 2.6 3.5 1. ]\n",
      "Example 80: label 1, feature [5.5 2.4 3.8 1.1]\n",
      "Example 81: label 1, feature [5.5 2.4 3.7 1. ]\n",
      "Example 82: label 1, feature [5.8 2.7 3.9 1.2]\n",
      "Example 83: label 1, feature [6.  2.7 5.1 1.6]\n",
      "Example 84: label 1, feature [5.4 3.  4.5 1.5]\n",
      "Example 85: label 1, feature [6.  3.4 4.5 1.6]\n",
      "Example 86: label 1, feature [6.7 3.1 4.7 1.5]\n",
      "Example 87: label 1, feature [6.3 2.3 4.4 1.3]\n",
      "Example 88: label 1, feature [5.6 3.  4.1 1.3]\n",
      "Example 89: label 1, feature [5.5 2.5 4.  1.3]\n",
      "Example 90: label 1, feature [5.5 2.6 4.4 1.2]\n",
      "Example 91: label 1, feature [6.1 3.  4.6 1.4]\n",
      "Example 92: label 1, feature [5.8 2.6 4.  1.2]\n",
      "Example 93: label 1, feature [5.  2.3 3.3 1. ]\n",
      "Example 94: label 1, feature [5.6 2.7 4.2 1.3]\n",
      "Example 95: label 1, feature [5.7 3.  4.2 1.2]\n",
      "Example 96: label 1, feature [5.7 2.9 4.2 1.3]\n",
      "Example 97: label 1, feature [6.2 2.9 4.3 1.3]\n",
      "Example 98: label 1, feature [5.1 2.5 3.  1.1]\n",
      "Example 99: label 1, feature [5.7 2.8 4.1 1.3]\n",
      "Example 100: label 2, feature [6.3 3.3 6.  2.5]\n",
      "Example 101: label 2, feature [5.8 2.7 5.1 1.9]\n",
      "Example 102: label 2, feature [7.1 3.  5.9 2.1]\n",
      "Example 103: label 2, feature [6.3 2.9 5.6 1.8]\n",
      "Example 104: label 2, feature [6.5 3.  5.8 2.2]\n",
      "Example 105: label 2, feature [7.6 3.  6.6 2.1]\n",
      "Example 106: label 2, feature [4.9 2.5 4.5 1.7]\n",
      "Example 107: label 2, feature [7.3 2.9 6.3 1.8]\n",
      "Example 108: label 2, feature [6.7 2.5 5.8 1.8]\n",
      "Example 109: label 2, feature [7.2 3.6 6.1 2.5]\n",
      "Example 110: label 2, feature [6.5 3.2 5.1 2. ]\n",
      "Example 111: label 2, feature [6.4 2.7 5.3 1.9]\n",
      "Example 112: label 2, feature [6.8 3.  5.5 2.1]\n",
      "Example 113: label 2, feature [5.7 2.5 5.  2. ]\n",
      "Example 114: label 2, feature [5.8 2.8 5.1 2.4]\n",
      "Example 115: label 2, feature [6.4 3.2 5.3 2.3]\n",
      "Example 116: label 2, feature [6.5 3.  5.5 1.8]\n",
      "Example 117: label 2, feature [7.7 3.8 6.7 2.2]\n",
      "Example 118: label 2, feature [7.7 2.6 6.9 2.3]\n",
      "Example 119: label 2, feature [6.  2.2 5.  1.5]\n",
      "Example 120: label 2, feature [6.9 3.2 5.7 2.3]\n",
      "Example 121: label 2, feature [5.6 2.8 4.9 2. ]\n",
      "Example 122: label 2, feature [7.7 2.8 6.7 2. ]\n",
      "Example 123: label 2, feature [6.3 2.7 4.9 1.8]\n",
      "Example 124: label 2, feature [6.7 3.3 5.7 2.1]\n",
      "Example 125: label 2, feature [7.2 3.2 6.  1.8]\n",
      "Example 126: label 2, feature [6.2 2.8 4.8 1.8]\n",
      "Example 127: label 2, feature [6.1 3.  4.9 1.8]\n",
      "Example 128: label 2, feature [6.4 2.8 5.6 2.1]\n",
      "Example 129: label 2, feature [7.2 3.  5.8 1.6]\n",
      "Example 130: label 2, feature [7.4 2.8 6.1 1.9]\n",
      "Example 131: label 2, feature [7.9 3.8 6.4 2. ]\n",
      "Example 132: label 2, feature [6.4 2.8 5.6 2.2]\n",
      "Example 133: label 2, feature [6.3 2.8 5.1 1.5]\n",
      "Example 134: label 2, feature [6.1 2.6 5.6 1.4]\n",
      "Example 135: label 2, feature [7.7 3.  6.1 2.3]\n",
      "Example 136: label 2, feature [6.3 3.4 5.6 2.4]\n",
      "Example 137: label 2, feature [6.4 3.1 5.5 1.8]\n",
      "Example 138: label 2, feature [6.  3.  4.8 1.8]\n",
      "Example 139: label 2, feature [6.9 3.1 5.4 2.1]\n",
      "Example 140: label 2, feature [6.7 3.1 5.6 2.4]\n",
      "Example 141: label 2, feature [6.9 3.1 5.1 2.3]\n",
      "Example 142: label 2, feature [5.8 2.7 5.1 1.9]\n",
      "Example 143: label 2, feature [6.8 3.2 5.9 2.3]\n",
      "Example 144: label 2, feature [6.7 3.3 5.7 2.5]\n",
      "Example 145: label 2, feature [6.7 3.  5.2 2.3]\n",
      "Example 146: label 2, feature [6.3 2.5 5.  1.9]\n",
      "Example 147: label 2, feature [6.5 3.  5.2 2. ]\n",
      "Example 148: label 2, feature [6.2 3.4 5.4 2.3]\n",
      "Example 149: label 2, feature [5.9 3.  5.1 1.8]\n"
     ]
    }
   ],
   "source": [
    "for i in range(len(iris.target)):\n",
    "    print(\"Example %d: label %s, feature %s\" % (i,iris.target[i],iris.data[i]))"
   ]
  },
  {
   "cell_type": "markdown",
   "metadata": {},
   "source": [
    "# SPLIT DATASET"
   ]
  },
  {
   "cell_type": "code",
   "execution_count": 16,
   "metadata": {},
   "outputs": [],
   "source": [
    "test_idx = [0,50,100]"
   ]
  },
  {
   "cell_type": "code",
   "execution_count": 17,
   "metadata": {},
   "outputs": [],
   "source": [
    "#training data\n",
    "train_target = np.delete(iris.target,test_idx)\n",
    "train_data = np.delete(iris.data,test_idx,axis=0)\n",
    "\n",
    "#testing data\n",
    "test_target = iris.target[test_idx]\n",
    "test_data = iris.data[test_idx]"
   ]
  },
  {
   "cell_type": "code",
   "execution_count": 18,
   "metadata": {},
   "outputs": [
    {
     "data": {
      "text/plain": [
       "DecisionTreeClassifier(class_weight=None, criterion='gini', max_depth=None,\n",
       "            max_features=None, max_leaf_nodes=None,\n",
       "            min_impurity_decrease=0.0, min_impurity_split=None,\n",
       "            min_samples_leaf=1, min_samples_split=2,\n",
       "            min_weight_fraction_leaf=0.0, presort=False, random_state=None,\n",
       "            splitter='best')"
      ]
     },
     "execution_count": 18,
     "metadata": {},
     "output_type": "execute_result"
    }
   ],
   "source": [
    "clf = tree.DecisionTreeClassifier()\n",
    "clf.fit(train_data,train_target)"
   ]
  },
  {
   "cell_type": "code",
   "execution_count": 23,
   "metadata": {},
   "outputs": [
    {
     "name": "stdout",
     "output_type": "stream",
     "text": [
      "[0 1 2]\n"
     ]
    }
   ],
   "source": [
    "#show actual results from test data to compare with prediction\n",
    "print(test_target)"
   ]
  },
  {
   "cell_type": "code",
   "execution_count": 24,
   "metadata": {},
   "outputs": [
    {
     "name": "stdout",
     "output_type": "stream",
     "text": [
      "[0 1 2]\n"
     ]
    }
   ],
   "source": [
    "print(clf.predict(test_data))"
   ]
  },
  {
   "cell_type": "code",
   "execution_count": 30,
   "metadata": {},
   "outputs": [],
   "source": [
    "clf_fit = clf.fit(train_data,train_target)"
   ]
  },
  {
   "cell_type": "code",
   "execution_count": 33,
   "metadata": {},
   "outputs": [],
   "source": [
    "import graphviz"
   ]
  },
  {
   "cell_type": "code",
   "execution_count": 35,
   "metadata": {},
   "outputs": [
    {
     "data": {
      "image/svg+xml": [
       "<?xml version=\"1.0\" encoding=\"UTF-8\" standalone=\"no\"?>\n",
       "<!DOCTYPE svg PUBLIC \"-//W3C//DTD SVG 1.1//EN\"\n",
       " \"http://www.w3.org/Graphics/SVG/1.1/DTD/svg11.dtd\">\n",
       "<!-- Generated by graphviz version 2.40.1 (20161225.0304)\n",
       " -->\n",
       "<!-- Title: Tree Pages: 1 -->\n",
       "<svg width=\"877pt\" height=\"671pt\"\n",
       " viewBox=\"0.00 0.00 877.00 671.00\" xmlns=\"http://www.w3.org/2000/svg\" xmlns:xlink=\"http://www.w3.org/1999/xlink\">\n",
       "<g id=\"graph0\" class=\"graph\" transform=\"scale(1 1) rotate(0) translate(4 667)\">\n",
       "<title>Tree</title>\n",
       "<polygon fill=\"#ffffff\" stroke=\"transparent\" points=\"-4,4 -4,-667 873,-667 873,4 -4,4\"/>\n",
       "<!-- 0 -->\n",
       "<g id=\"node1\" class=\"node\">\n",
       "<title>0</title>\n",
       "<path fill=\"transparent\" stroke=\"#000000\" d=\"M529.5,-663C529.5,-663 390.5,-663 390.5,-663 384.5,-663 378.5,-657 378.5,-651 378.5,-651 378.5,-592 378.5,-592 378.5,-586 384.5,-580 390.5,-580 390.5,-580 529.5,-580 529.5,-580 535.5,-580 541.5,-586 541.5,-592 541.5,-592 541.5,-651 541.5,-651 541.5,-657 535.5,-663 529.5,-663\"/>\n",
       "<text text-anchor=\"start\" x=\"386.5\" y=\"-647.8\" font-family=\"Helvetica,sans-Serif\" font-size=\"14.00\" fill=\"#000000\">petal length (cm) ≤ 2.45</text>\n",
       "<text text-anchor=\"start\" x=\"423.5\" y=\"-632.8\" font-family=\"Helvetica,sans-Serif\" font-size=\"14.00\" fill=\"#000000\">gini = 0.667</text>\n",
       "<text text-anchor=\"start\" x=\"414\" y=\"-617.8\" font-family=\"Helvetica,sans-Serif\" font-size=\"14.00\" fill=\"#000000\">samples = 147</text>\n",
       "<text text-anchor=\"start\" x=\"400\" y=\"-602.8\" font-family=\"Helvetica,sans-Serif\" font-size=\"14.00\" fill=\"#000000\">value = [49, 49, 49]</text>\n",
       "<text text-anchor=\"start\" x=\"415\" y=\"-587.8\" font-family=\"Helvetica,sans-Serif\" font-size=\"14.00\" fill=\"#000000\">class = setosa</text>\n",
       "</g>\n",
       "<!-- 1 -->\n",
       "<g id=\"node2\" class=\"node\">\n",
       "<title>1</title>\n",
       "<path fill=\"#e58139\" stroke=\"#000000\" d=\"M430,-536.5C430,-536.5 334,-536.5 334,-536.5 328,-536.5 322,-530.5 322,-524.5 322,-524.5 322,-480.5 322,-480.5 322,-474.5 328,-468.5 334,-468.5 334,-468.5 430,-468.5 430,-468.5 436,-468.5 442,-474.5 442,-480.5 442,-480.5 442,-524.5 442,-524.5 442,-530.5 436,-536.5 430,-536.5\"/>\n",
       "<text text-anchor=\"start\" x=\"353\" y=\"-521.3\" font-family=\"Helvetica,sans-Serif\" font-size=\"14.00\" fill=\"#000000\">gini = 0.0</text>\n",
       "<text text-anchor=\"start\" x=\"340\" y=\"-506.3\" font-family=\"Helvetica,sans-Serif\" font-size=\"14.00\" fill=\"#000000\">samples = 49</text>\n",
       "<text text-anchor=\"start\" x=\"330\" y=\"-491.3\" font-family=\"Helvetica,sans-Serif\" font-size=\"14.00\" fill=\"#000000\">value = [49, 0, 0]</text>\n",
       "<text text-anchor=\"start\" x=\"337\" y=\"-476.3\" font-family=\"Helvetica,sans-Serif\" font-size=\"14.00\" fill=\"#000000\">class = setosa</text>\n",
       "</g>\n",
       "<!-- 0&#45;&gt;1 -->\n",
       "<g id=\"edge1\" class=\"edge\">\n",
       "<title>0&#45;&gt;1</title>\n",
       "<path fill=\"none\" stroke=\"#000000\" d=\"M432.7194,-579.8796C425.3677,-568.6636 417.4036,-556.5131 410.0126,-545.2372\"/>\n",
       "<polygon fill=\"#000000\" stroke=\"#000000\" points=\"412.9014,-543.2598 404.4921,-536.8149 407.0469,-547.0972 412.9014,-543.2598\"/>\n",
       "<text text-anchor=\"middle\" x=\"399.3982\" y=\"-557.5905\" font-family=\"Helvetica,sans-Serif\" font-size=\"14.00\" fill=\"#000000\">True</text>\n",
       "</g>\n",
       "<!-- 2 -->\n",
       "<g id=\"node3\" class=\"node\">\n",
       "<title>2</title>\n",
       "<path fill=\"transparent\" stroke=\"#000000\" d=\"M606,-544C606,-544 472,-544 472,-544 466,-544 460,-538 460,-532 460,-532 460,-473 460,-473 460,-467 466,-461 472,-461 472,-461 606,-461 606,-461 612,-461 618,-467 618,-473 618,-473 618,-532 618,-532 618,-538 612,-544 606,-544\"/>\n",
       "<text text-anchor=\"start\" x=\"468\" y=\"-528.8\" font-family=\"Helvetica,sans-Serif\" font-size=\"14.00\" fill=\"#000000\">petal width (cm) ≤ 1.75</text>\n",
       "<text text-anchor=\"start\" x=\"510\" y=\"-513.8\" font-family=\"Helvetica,sans-Serif\" font-size=\"14.00\" fill=\"#000000\">gini = 0.5</text>\n",
       "<text text-anchor=\"start\" x=\"497\" y=\"-498.8\" font-family=\"Helvetica,sans-Serif\" font-size=\"14.00\" fill=\"#000000\">samples = 98</text>\n",
       "<text text-anchor=\"start\" x=\"483\" y=\"-483.8\" font-family=\"Helvetica,sans-Serif\" font-size=\"14.00\" fill=\"#000000\">value = [0, 49, 49]</text>\n",
       "<text text-anchor=\"start\" x=\"485\" y=\"-468.8\" font-family=\"Helvetica,sans-Serif\" font-size=\"14.00\" fill=\"#000000\">class = versicolor</text>\n",
       "</g>\n",
       "<!-- 0&#45;&gt;2 -->\n",
       "<g id=\"edge2\" class=\"edge\">\n",
       "<title>0&#45;&gt;2</title>\n",
       "<path fill=\"none\" stroke=\"#000000\" d=\"M487.6304,-579.8796C493.43,-571.1434 499.6059,-561.8404 505.5908,-552.8253\"/>\n",
       "<polygon fill=\"#000000\" stroke=\"#000000\" points=\"508.6368,-554.5652 511.2517,-544.2981 502.8049,-550.6935 508.6368,-554.5652\"/>\n",
       "<text text-anchor=\"middle\" x=\"516.2022\" y=\"-565.103\" font-family=\"Helvetica,sans-Serif\" font-size=\"14.00\" fill=\"#000000\">False</text>\n",
       "</g>\n",
       "<!-- 3 -->\n",
       "<g id=\"node4\" class=\"node\">\n",
       "<title>3</title>\n",
       "<path fill=\"#39e581\" fill-opacity=\"0.894118\" stroke=\"#000000\" d=\"M493.5,-425C493.5,-425 354.5,-425 354.5,-425 348.5,-425 342.5,-419 342.5,-413 342.5,-413 342.5,-354 342.5,-354 342.5,-348 348.5,-342 354.5,-342 354.5,-342 493.5,-342 493.5,-342 499.5,-342 505.5,-348 505.5,-354 505.5,-354 505.5,-413 505.5,-413 505.5,-419 499.5,-425 493.5,-425\"/>\n",
       "<text text-anchor=\"start\" x=\"350.5\" y=\"-409.8\" font-family=\"Helvetica,sans-Serif\" font-size=\"14.00\" fill=\"#000000\">petal length (cm) ≤ 4.95</text>\n",
       "<text text-anchor=\"start\" x=\"387.5\" y=\"-394.8\" font-family=\"Helvetica,sans-Serif\" font-size=\"14.00\" fill=\"#000000\">gini = 0.171</text>\n",
       "<text text-anchor=\"start\" x=\"382\" y=\"-379.8\" font-family=\"Helvetica,sans-Serif\" font-size=\"14.00\" fill=\"#000000\">samples = 53</text>\n",
       "<text text-anchor=\"start\" x=\"372\" y=\"-364.8\" font-family=\"Helvetica,sans-Serif\" font-size=\"14.00\" fill=\"#000000\">value = [0, 48, 5]</text>\n",
       "<text text-anchor=\"start\" x=\"370\" y=\"-349.8\" font-family=\"Helvetica,sans-Serif\" font-size=\"14.00\" fill=\"#000000\">class = versicolor</text>\n",
       "</g>\n",
       "<!-- 2&#45;&gt;3 -->\n",
       "<g id=\"edge3\" class=\"edge\">\n",
       "<title>2&#45;&gt;3</title>\n",
       "<path fill=\"none\" stroke=\"#000000\" d=\"M498.7786,-460.8796C489.988,-451.7832 480.6034,-442.0722 471.5574,-432.7116\"/>\n",
       "<polygon fill=\"#000000\" stroke=\"#000000\" points=\"473.8591,-430.0568 464.3931,-425.2981 468.8255,-434.9212 473.8591,-430.0568\"/>\n",
       "</g>\n",
       "<!-- 12 -->\n",
       "<g id=\"node13\" class=\"node\">\n",
       "<title>12</title>\n",
       "<path fill=\"#8139e5\" fill-opacity=\"0.976471\" stroke=\"#000000\" d=\"M723.5,-425C723.5,-425 584.5,-425 584.5,-425 578.5,-425 572.5,-419 572.5,-413 572.5,-413 572.5,-354 572.5,-354 572.5,-348 578.5,-342 584.5,-342 584.5,-342 723.5,-342 723.5,-342 729.5,-342 735.5,-348 735.5,-354 735.5,-354 735.5,-413 735.5,-413 735.5,-419 729.5,-425 723.5,-425\"/>\n",
       "<text text-anchor=\"start\" x=\"580.5\" y=\"-409.8\" font-family=\"Helvetica,sans-Serif\" font-size=\"14.00\" fill=\"#000000\">petal length (cm) ≤ 4.85</text>\n",
       "<text text-anchor=\"start\" x=\"617.5\" y=\"-394.8\" font-family=\"Helvetica,sans-Serif\" font-size=\"14.00\" fill=\"#000000\">gini = 0.043</text>\n",
       "<text text-anchor=\"start\" x=\"612\" y=\"-379.8\" font-family=\"Helvetica,sans-Serif\" font-size=\"14.00\" fill=\"#000000\">samples = 45</text>\n",
       "<text text-anchor=\"start\" x=\"602\" y=\"-364.8\" font-family=\"Helvetica,sans-Serif\" font-size=\"14.00\" fill=\"#000000\">value = [0, 1, 44]</text>\n",
       "<text text-anchor=\"start\" x=\"604\" y=\"-349.8\" font-family=\"Helvetica,sans-Serif\" font-size=\"14.00\" fill=\"#000000\">class = virginica</text>\n",
       "</g>\n",
       "<!-- 2&#45;&gt;12 -->\n",
       "<g id=\"edge12\" class=\"edge\">\n",
       "<title>2&#45;&gt;12</title>\n",
       "<path fill=\"none\" stroke=\"#000000\" d=\"M579.2214,-460.8796C588.012,-451.7832 597.3966,-442.0722 606.4426,-432.7116\"/>\n",
       "<polygon fill=\"#000000\" stroke=\"#000000\" points=\"609.1745,-434.9212 613.6069,-425.2981 604.1409,-430.0568 609.1745,-434.9212\"/>\n",
       "</g>\n",
       "<!-- 4 -->\n",
       "<g id=\"node5\" class=\"node\">\n",
       "<title>4</title>\n",
       "<path fill=\"#39e581\" fill-opacity=\"0.976471\" stroke=\"#000000\" d=\"M267,-306C267,-306 133,-306 133,-306 127,-306 121,-300 121,-294 121,-294 121,-235 121,-235 121,-229 127,-223 133,-223 133,-223 267,-223 267,-223 273,-223 279,-229 279,-235 279,-235 279,-294 279,-294 279,-300 273,-306 267,-306\"/>\n",
       "<text text-anchor=\"start\" x=\"129\" y=\"-290.8\" font-family=\"Helvetica,sans-Serif\" font-size=\"14.00\" fill=\"#000000\">petal width (cm) ≤ 1.65</text>\n",
       "<text text-anchor=\"start\" x=\"163.5\" y=\"-275.8\" font-family=\"Helvetica,sans-Serif\" font-size=\"14.00\" fill=\"#000000\">gini = 0.042</text>\n",
       "<text text-anchor=\"start\" x=\"158\" y=\"-260.8\" font-family=\"Helvetica,sans-Serif\" font-size=\"14.00\" fill=\"#000000\">samples = 47</text>\n",
       "<text text-anchor=\"start\" x=\"148\" y=\"-245.8\" font-family=\"Helvetica,sans-Serif\" font-size=\"14.00\" fill=\"#000000\">value = [0, 46, 1]</text>\n",
       "<text text-anchor=\"start\" x=\"146\" y=\"-230.8\" font-family=\"Helvetica,sans-Serif\" font-size=\"14.00\" fill=\"#000000\">class = versicolor</text>\n",
       "</g>\n",
       "<!-- 3&#45;&gt;4 -->\n",
       "<g id=\"edge4\" class=\"edge\">\n",
       "<title>3&#45;&gt;4</title>\n",
       "<path fill=\"none\" stroke=\"#000000\" d=\"M345.6557,-341.8796C326.8136,-331.8697 306.5706,-321.1156 287.3471,-310.9031\"/>\n",
       "<polygon fill=\"#000000\" stroke=\"#000000\" points=\"288.7733,-307.6976 278.3001,-306.0969 285.4892,-313.8794 288.7733,-307.6976\"/>\n",
       "</g>\n",
       "<!-- 7 -->\n",
       "<g id=\"node8\" class=\"node\">\n",
       "<title>7</title>\n",
       "<path fill=\"#8139e5\" fill-opacity=\"0.498039\" stroke=\"#000000\" d=\"M491,-306C491,-306 357,-306 357,-306 351,-306 345,-300 345,-294 345,-294 345,-235 345,-235 345,-229 351,-223 357,-223 357,-223 491,-223 491,-223 497,-223 503,-229 503,-235 503,-235 503,-294 503,-294 503,-300 497,-306 491,-306\"/>\n",
       "<text text-anchor=\"start\" x=\"353\" y=\"-290.8\" font-family=\"Helvetica,sans-Serif\" font-size=\"14.00\" fill=\"#000000\">petal width (cm) ≤ 1.55</text>\n",
       "<text text-anchor=\"start\" x=\"387.5\" y=\"-275.8\" font-family=\"Helvetica,sans-Serif\" font-size=\"14.00\" fill=\"#000000\">gini = 0.444</text>\n",
       "<text text-anchor=\"start\" x=\"386\" y=\"-260.8\" font-family=\"Helvetica,sans-Serif\" font-size=\"14.00\" fill=\"#000000\">samples = 6</text>\n",
       "<text text-anchor=\"start\" x=\"375.5\" y=\"-245.8\" font-family=\"Helvetica,sans-Serif\" font-size=\"14.00\" fill=\"#000000\">value = [0, 2, 4]</text>\n",
       "<text text-anchor=\"start\" x=\"374\" y=\"-230.8\" font-family=\"Helvetica,sans-Serif\" font-size=\"14.00\" fill=\"#000000\">class = virginica</text>\n",
       "</g>\n",
       "<!-- 3&#45;&gt;7 -->\n",
       "<g id=\"edge7\" class=\"edge\">\n",
       "<title>3&#45;&gt;7</title>\n",
       "<path fill=\"none\" stroke=\"#000000\" d=\"M424,-341.8796C424,-333.6838 424,-324.9891 424,-316.5013\"/>\n",
       "<polygon fill=\"#000000\" stroke=\"#000000\" points=\"427.5001,-316.298 424,-306.2981 420.5001,-316.2981 427.5001,-316.298\"/>\n",
       "</g>\n",
       "<!-- 5 -->\n",
       "<g id=\"node6\" class=\"node\">\n",
       "<title>5</title>\n",
       "<path fill=\"#39e581\" stroke=\"#000000\" d=\"M112,-179.5C112,-179.5 12,-179.5 12,-179.5 6,-179.5 0,-173.5 0,-167.5 0,-167.5 0,-123.5 0,-123.5 0,-117.5 6,-111.5 12,-111.5 12,-111.5 112,-111.5 112,-111.5 118,-111.5 124,-117.5 124,-123.5 124,-123.5 124,-167.5 124,-167.5 124,-173.5 118,-179.5 112,-179.5\"/>\n",
       "<text text-anchor=\"start\" x=\"33\" y=\"-164.3\" font-family=\"Helvetica,sans-Serif\" font-size=\"14.00\" fill=\"#000000\">gini = 0.0</text>\n",
       "<text text-anchor=\"start\" x=\"20\" y=\"-149.3\" font-family=\"Helvetica,sans-Serif\" font-size=\"14.00\" fill=\"#000000\">samples = 46</text>\n",
       "<text text-anchor=\"start\" x=\"10\" y=\"-134.3\" font-family=\"Helvetica,sans-Serif\" font-size=\"14.00\" fill=\"#000000\">value = [0, 46, 0]</text>\n",
       "<text text-anchor=\"start\" x=\"8\" y=\"-119.3\" font-family=\"Helvetica,sans-Serif\" font-size=\"14.00\" fill=\"#000000\">class = versicolor</text>\n",
       "</g>\n",
       "<!-- 4&#45;&gt;5 -->\n",
       "<g id=\"edge5\" class=\"edge\">\n",
       "<title>4&#45;&gt;5</title>\n",
       "<path fill=\"none\" stroke=\"#000000\" d=\"M151.7343,-222.8796C138.0899,-211.1138 123.2531,-198.3197 109.6454,-186.5855\"/>\n",
       "<polygon fill=\"#000000\" stroke=\"#000000\" points=\"111.6527,-183.6948 101.7938,-179.8149 107.0813,-188.9961 111.6527,-183.6948\"/>\n",
       "</g>\n",
       "<!-- 6 -->\n",
       "<g id=\"node7\" class=\"node\">\n",
       "<title>6</title>\n",
       "<path fill=\"#8139e5\" stroke=\"#000000\" d=\"M246,-179.5C246,-179.5 154,-179.5 154,-179.5 148,-179.5 142,-173.5 142,-167.5 142,-167.5 142,-123.5 142,-123.5 142,-117.5 148,-111.5 154,-111.5 154,-111.5 246,-111.5 246,-111.5 252,-111.5 258,-117.5 258,-123.5 258,-123.5 258,-167.5 258,-167.5 258,-173.5 252,-179.5 246,-179.5\"/>\n",
       "<text text-anchor=\"start\" x=\"171\" y=\"-164.3\" font-family=\"Helvetica,sans-Serif\" font-size=\"14.00\" fill=\"#000000\">gini = 0.0</text>\n",
       "<text text-anchor=\"start\" x=\"162\" y=\"-149.3\" font-family=\"Helvetica,sans-Serif\" font-size=\"14.00\" fill=\"#000000\">samples = 1</text>\n",
       "<text text-anchor=\"start\" x=\"151.5\" y=\"-134.3\" font-family=\"Helvetica,sans-Serif\" font-size=\"14.00\" fill=\"#000000\">value = [0, 0, 1]</text>\n",
       "<text text-anchor=\"start\" x=\"150\" y=\"-119.3\" font-family=\"Helvetica,sans-Serif\" font-size=\"14.00\" fill=\"#000000\">class = virginica</text>\n",
       "</g>\n",
       "<!-- 4&#45;&gt;6 -->\n",
       "<g id=\"edge6\" class=\"edge\">\n",
       "<title>4&#45;&gt;6</title>\n",
       "<path fill=\"none\" stroke=\"#000000\" d=\"M200,-222.8796C200,-212.2134 200,-200.7021 200,-189.9015\"/>\n",
       "<polygon fill=\"#000000\" stroke=\"#000000\" points=\"203.5001,-189.8149 200,-179.8149 196.5001,-189.815 203.5001,-189.8149\"/>\n",
       "</g>\n",
       "<!-- 8 -->\n",
       "<g id=\"node9\" class=\"node\">\n",
       "<title>8</title>\n",
       "<path fill=\"#8139e5\" stroke=\"#000000\" d=\"M380,-179.5C380,-179.5 288,-179.5 288,-179.5 282,-179.5 276,-173.5 276,-167.5 276,-167.5 276,-123.5 276,-123.5 276,-117.5 282,-111.5 288,-111.5 288,-111.5 380,-111.5 380,-111.5 386,-111.5 392,-117.5 392,-123.5 392,-123.5 392,-167.5 392,-167.5 392,-173.5 386,-179.5 380,-179.5\"/>\n",
       "<text text-anchor=\"start\" x=\"305\" y=\"-164.3\" font-family=\"Helvetica,sans-Serif\" font-size=\"14.00\" fill=\"#000000\">gini = 0.0</text>\n",
       "<text text-anchor=\"start\" x=\"296\" y=\"-149.3\" font-family=\"Helvetica,sans-Serif\" font-size=\"14.00\" fill=\"#000000\">samples = 3</text>\n",
       "<text text-anchor=\"start\" x=\"285.5\" y=\"-134.3\" font-family=\"Helvetica,sans-Serif\" font-size=\"14.00\" fill=\"#000000\">value = [0, 0, 3]</text>\n",
       "<text text-anchor=\"start\" x=\"284\" y=\"-119.3\" font-family=\"Helvetica,sans-Serif\" font-size=\"14.00\" fill=\"#000000\">class = virginica</text>\n",
       "</g>\n",
       "<!-- 7&#45;&gt;8 -->\n",
       "<g id=\"edge8\" class=\"edge\">\n",
       "<title>7&#45;&gt;8</title>\n",
       "<path fill=\"none\" stroke=\"#000000\" d=\"M392.5224,-222.8796C383.9565,-211.5536 374.67,-199.2748 366.0717,-187.9058\"/>\n",
       "<polygon fill=\"#000000\" stroke=\"#000000\" points=\"368.7762,-185.6795 359.9525,-179.8149 363.1931,-189.902 368.7762,-185.6795\"/>\n",
       "</g>\n",
       "<!-- 9 -->\n",
       "<g id=\"node10\" class=\"node\">\n",
       "<title>9</title>\n",
       "<path fill=\"#39e581\" fill-opacity=\"0.498039\" stroke=\"#000000\" d=\"M565.5,-187C565.5,-187 422.5,-187 422.5,-187 416.5,-187 410.5,-181 410.5,-175 410.5,-175 410.5,-116 410.5,-116 410.5,-110 416.5,-104 422.5,-104 422.5,-104 565.5,-104 565.5,-104 571.5,-104 577.5,-110 577.5,-116 577.5,-116 577.5,-175 577.5,-175 577.5,-181 571.5,-187 565.5,-187\"/>\n",
       "<text text-anchor=\"start\" x=\"418.5\" y=\"-171.8\" font-family=\"Helvetica,sans-Serif\" font-size=\"14.00\" fill=\"#000000\">sepal length (cm) ≤ 6.95</text>\n",
       "<text text-anchor=\"start\" x=\"457.5\" y=\"-156.8\" font-family=\"Helvetica,sans-Serif\" font-size=\"14.00\" fill=\"#000000\">gini = 0.444</text>\n",
       "<text text-anchor=\"start\" x=\"456\" y=\"-141.8\" font-family=\"Helvetica,sans-Serif\" font-size=\"14.00\" fill=\"#000000\">samples = 3</text>\n",
       "<text text-anchor=\"start\" x=\"445.5\" y=\"-126.8\" font-family=\"Helvetica,sans-Serif\" font-size=\"14.00\" fill=\"#000000\">value = [0, 2, 1]</text>\n",
       "<text text-anchor=\"start\" x=\"440\" y=\"-111.8\" font-family=\"Helvetica,sans-Serif\" font-size=\"14.00\" fill=\"#000000\">class = versicolor</text>\n",
       "</g>\n",
       "<!-- 7&#45;&gt;9 -->\n",
       "<g id=\"edge9\" class=\"edge\">\n",
       "<title>7&#45;&gt;9</title>\n",
       "<path fill=\"none\" stroke=\"#000000\" d=\"M448.4826,-222.8796C453.5685,-214.2335 458.9811,-205.0322 464.2328,-196.1042\"/>\n",
       "<polygon fill=\"#000000\" stroke=\"#000000\" points=\"467.3594,-197.692 469.4129,-187.2981 461.3259,-194.1428 467.3594,-197.692\"/>\n",
       "</g>\n",
       "<!-- 10 -->\n",
       "<g id=\"node11\" class=\"node\">\n",
       "<title>10</title>\n",
       "<path fill=\"#39e581\" stroke=\"#000000\" d=\"M475,-68C475,-68 375,-68 375,-68 369,-68 363,-62 363,-56 363,-56 363,-12 363,-12 363,-6 369,0 375,0 375,0 475,0 475,0 481,0 487,-6 487,-12 487,-12 487,-56 487,-56 487,-62 481,-68 475,-68\"/>\n",
       "<text text-anchor=\"start\" x=\"396\" y=\"-52.8\" font-family=\"Helvetica,sans-Serif\" font-size=\"14.00\" fill=\"#000000\">gini = 0.0</text>\n",
       "<text text-anchor=\"start\" x=\"387\" y=\"-37.8\" font-family=\"Helvetica,sans-Serif\" font-size=\"14.00\" fill=\"#000000\">samples = 2</text>\n",
       "<text text-anchor=\"start\" x=\"376.5\" y=\"-22.8\" font-family=\"Helvetica,sans-Serif\" font-size=\"14.00\" fill=\"#000000\">value = [0, 2, 0]</text>\n",
       "<text text-anchor=\"start\" x=\"371\" y=\"-7.8\" font-family=\"Helvetica,sans-Serif\" font-size=\"14.00\" fill=\"#000000\">class = versicolor</text>\n",
       "</g>\n",
       "<!-- 9&#45;&gt;10 -->\n",
       "<g id=\"edge10\" class=\"edge\">\n",
       "<title>9&#45;&gt;10</title>\n",
       "<path fill=\"none\" stroke=\"#000000\" d=\"M468.3069,-103.9815C462.8469,-95.1585 457.0716,-85.8258 451.5793,-76.9506\"/>\n",
       "<polygon fill=\"#000000\" stroke=\"#000000\" points=\"454.442,-74.9254 446.2035,-68.2637 448.4896,-78.609 454.442,-74.9254\"/>\n",
       "</g>\n",
       "<!-- 11 -->\n",
       "<g id=\"node12\" class=\"node\">\n",
       "<title>11</title>\n",
       "<path fill=\"#8139e5\" stroke=\"#000000\" d=\"M609,-68C609,-68 517,-68 517,-68 511,-68 505,-62 505,-56 505,-56 505,-12 505,-12 505,-6 511,0 517,0 517,0 609,0 609,0 615,0 621,-6 621,-12 621,-12 621,-56 621,-56 621,-62 615,-68 609,-68\"/>\n",
       "<text text-anchor=\"start\" x=\"534\" y=\"-52.8\" font-family=\"Helvetica,sans-Serif\" font-size=\"14.00\" fill=\"#000000\">gini = 0.0</text>\n",
       "<text text-anchor=\"start\" x=\"525\" y=\"-37.8\" font-family=\"Helvetica,sans-Serif\" font-size=\"14.00\" fill=\"#000000\">samples = 1</text>\n",
       "<text text-anchor=\"start\" x=\"514.5\" y=\"-22.8\" font-family=\"Helvetica,sans-Serif\" font-size=\"14.00\" fill=\"#000000\">value = [0, 0, 1]</text>\n",
       "<text text-anchor=\"start\" x=\"513\" y=\"-7.8\" font-family=\"Helvetica,sans-Serif\" font-size=\"14.00\" fill=\"#000000\">class = virginica</text>\n",
       "</g>\n",
       "<!-- 9&#45;&gt;11 -->\n",
       "<g id=\"edge11\" class=\"edge\">\n",
       "<title>9&#45;&gt;11</title>\n",
       "<path fill=\"none\" stroke=\"#000000\" d=\"M519.6931,-103.9815C525.1531,-95.1585 530.9284,-85.8258 536.4207,-76.9506\"/>\n",
       "<polygon fill=\"#000000\" stroke=\"#000000\" points=\"539.5104,-78.609 541.7965,-68.2637 533.558,-74.9254 539.5104,-78.609\"/>\n",
       "</g>\n",
       "<!-- 13 -->\n",
       "<g id=\"node14\" class=\"node\">\n",
       "<title>13</title>\n",
       "<path fill=\"#8139e5\" fill-opacity=\"0.498039\" stroke=\"#000000\" d=\"M718.5,-306C718.5,-306 589.5,-306 589.5,-306 583.5,-306 577.5,-300 577.5,-294 577.5,-294 577.5,-235 577.5,-235 577.5,-229 583.5,-223 589.5,-223 589.5,-223 718.5,-223 718.5,-223 724.5,-223 730.5,-229 730.5,-235 730.5,-235 730.5,-294 730.5,-294 730.5,-300 724.5,-306 718.5,-306\"/>\n",
       "<text text-anchor=\"start\" x=\"585.5\" y=\"-290.8\" font-family=\"Helvetica,sans-Serif\" font-size=\"14.00\" fill=\"#000000\">sepal width (cm) ≤ 3.1</text>\n",
       "<text text-anchor=\"start\" x=\"617.5\" y=\"-275.8\" font-family=\"Helvetica,sans-Serif\" font-size=\"14.00\" fill=\"#000000\">gini = 0.444</text>\n",
       "<text text-anchor=\"start\" x=\"616\" y=\"-260.8\" font-family=\"Helvetica,sans-Serif\" font-size=\"14.00\" fill=\"#000000\">samples = 3</text>\n",
       "<text text-anchor=\"start\" x=\"605.5\" y=\"-245.8\" font-family=\"Helvetica,sans-Serif\" font-size=\"14.00\" fill=\"#000000\">value = [0, 1, 2]</text>\n",
       "<text text-anchor=\"start\" x=\"604\" y=\"-230.8\" font-family=\"Helvetica,sans-Serif\" font-size=\"14.00\" fill=\"#000000\">class = virginica</text>\n",
       "</g>\n",
       "<!-- 12&#45;&gt;13 -->\n",
       "<g id=\"edge13\" class=\"edge\">\n",
       "<title>12&#45;&gt;13</title>\n",
       "<path fill=\"none\" stroke=\"#000000\" d=\"M654,-341.8796C654,-333.6838 654,-324.9891 654,-316.5013\"/>\n",
       "<polygon fill=\"#000000\" stroke=\"#000000\" points=\"657.5001,-316.298 654,-306.2981 650.5001,-316.2981 657.5001,-316.298\"/>\n",
       "</g>\n",
       "<!-- 16 -->\n",
       "<g id=\"node17\" class=\"node\">\n",
       "<title>16</title>\n",
       "<path fill=\"#8139e5\" stroke=\"#000000\" d=\"M857,-298.5C857,-298.5 761,-298.5 761,-298.5 755,-298.5 749,-292.5 749,-286.5 749,-286.5 749,-242.5 749,-242.5 749,-236.5 755,-230.5 761,-230.5 761,-230.5 857,-230.5 857,-230.5 863,-230.5 869,-236.5 869,-242.5 869,-242.5 869,-286.5 869,-286.5 869,-292.5 863,-298.5 857,-298.5\"/>\n",
       "<text text-anchor=\"start\" x=\"780\" y=\"-283.3\" font-family=\"Helvetica,sans-Serif\" font-size=\"14.00\" fill=\"#000000\">gini = 0.0</text>\n",
       "<text text-anchor=\"start\" x=\"767\" y=\"-268.3\" font-family=\"Helvetica,sans-Serif\" font-size=\"14.00\" fill=\"#000000\">samples = 42</text>\n",
       "<text text-anchor=\"start\" x=\"757\" y=\"-253.3\" font-family=\"Helvetica,sans-Serif\" font-size=\"14.00\" fill=\"#000000\">value = [0, 0, 42]</text>\n",
       "<text text-anchor=\"start\" x=\"759\" y=\"-238.3\" font-family=\"Helvetica,sans-Serif\" font-size=\"14.00\" fill=\"#000000\">class = virginica</text>\n",
       "</g>\n",
       "<!-- 12&#45;&gt;16 -->\n",
       "<g id=\"edge16\" class=\"edge\">\n",
       "<title>12&#45;&gt;16</title>\n",
       "<path fill=\"none\" stroke=\"#000000\" d=\"M708.2115,-341.8796C723.8231,-329.8938 740.8247,-316.841 756.3408,-304.9287\"/>\n",
       "<polygon fill=\"#000000\" stroke=\"#000000\" points=\"758.5035,-307.6808 764.3041,-298.8149 754.2407,-302.1285 758.5035,-307.6808\"/>\n",
       "</g>\n",
       "<!-- 14 -->\n",
       "<g id=\"node15\" class=\"node\">\n",
       "<title>14</title>\n",
       "<path fill=\"#8139e5\" stroke=\"#000000\" d=\"M700,-179.5C700,-179.5 608,-179.5 608,-179.5 602,-179.5 596,-173.5 596,-167.5 596,-167.5 596,-123.5 596,-123.5 596,-117.5 602,-111.5 608,-111.5 608,-111.5 700,-111.5 700,-111.5 706,-111.5 712,-117.5 712,-123.5 712,-123.5 712,-167.5 712,-167.5 712,-173.5 706,-179.5 700,-179.5\"/>\n",
       "<text text-anchor=\"start\" x=\"625\" y=\"-164.3\" font-family=\"Helvetica,sans-Serif\" font-size=\"14.00\" fill=\"#000000\">gini = 0.0</text>\n",
       "<text text-anchor=\"start\" x=\"616\" y=\"-149.3\" font-family=\"Helvetica,sans-Serif\" font-size=\"14.00\" fill=\"#000000\">samples = 2</text>\n",
       "<text text-anchor=\"start\" x=\"605.5\" y=\"-134.3\" font-family=\"Helvetica,sans-Serif\" font-size=\"14.00\" fill=\"#000000\">value = [0, 0, 2]</text>\n",
       "<text text-anchor=\"start\" x=\"604\" y=\"-119.3\" font-family=\"Helvetica,sans-Serif\" font-size=\"14.00\" fill=\"#000000\">class = virginica</text>\n",
       "</g>\n",
       "<!-- 13&#45;&gt;14 -->\n",
       "<g id=\"edge14\" class=\"edge\">\n",
       "<title>13&#45;&gt;14</title>\n",
       "<path fill=\"none\" stroke=\"#000000\" d=\"M654,-222.8796C654,-212.2134 654,-200.7021 654,-189.9015\"/>\n",
       "<polygon fill=\"#000000\" stroke=\"#000000\" points=\"657.5001,-189.8149 654,-179.8149 650.5001,-189.815 657.5001,-189.8149\"/>\n",
       "</g>\n",
       "<!-- 15 -->\n",
       "<g id=\"node16\" class=\"node\">\n",
       "<title>15</title>\n",
       "<path fill=\"#39e581\" stroke=\"#000000\" d=\"M842,-179.5C842,-179.5 742,-179.5 742,-179.5 736,-179.5 730,-173.5 730,-167.5 730,-167.5 730,-123.5 730,-123.5 730,-117.5 736,-111.5 742,-111.5 742,-111.5 842,-111.5 842,-111.5 848,-111.5 854,-117.5 854,-123.5 854,-123.5 854,-167.5 854,-167.5 854,-173.5 848,-179.5 842,-179.5\"/>\n",
       "<text text-anchor=\"start\" x=\"763\" y=\"-164.3\" font-family=\"Helvetica,sans-Serif\" font-size=\"14.00\" fill=\"#000000\">gini = 0.0</text>\n",
       "<text text-anchor=\"start\" x=\"754\" y=\"-149.3\" font-family=\"Helvetica,sans-Serif\" font-size=\"14.00\" fill=\"#000000\">samples = 1</text>\n",
       "<text text-anchor=\"start\" x=\"743.5\" y=\"-134.3\" font-family=\"Helvetica,sans-Serif\" font-size=\"14.00\" fill=\"#000000\">value = [0, 1, 0]</text>\n",
       "<text text-anchor=\"start\" x=\"738\" y=\"-119.3\" font-family=\"Helvetica,sans-Serif\" font-size=\"14.00\" fill=\"#000000\">class = versicolor</text>\n",
       "</g>\n",
       "<!-- 13&#45;&gt;15 -->\n",
       "<g id=\"edge15\" class=\"edge\">\n",
       "<title>13&#45;&gt;15</title>\n",
       "<path fill=\"none\" stroke=\"#000000\" d=\"M702.2657,-222.8796C715.9101,-211.1138 730.7469,-198.3197 744.3546,-186.5855\"/>\n",
       "<polygon fill=\"#000000\" stroke=\"#000000\" points=\"746.9187,-188.9961 752.2062,-179.8149 742.3473,-183.6948 746.9187,-188.9961\"/>\n",
       "</g>\n",
       "</g>\n",
       "</svg>\n"
      ],
      "text/plain": [
       "<graphviz.files.Source at 0x1a189817f0>"
      ]
     },
     "execution_count": 35,
     "metadata": {},
     "output_type": "execute_result"
    }
   ],
   "source": [
    "dot_data = tree.export_graphviz(clf_fit,out_file=None,\n",
    "                               feature_names=iris.feature_names,\n",
    "                               class_names=iris.target_names,\n",
    "                               filled=True, rounded=True,\n",
    "                               special_characters=True,\n",
    "                               impurity=False)\n",
    "graph = graphviz.Source(dot_data)\n",
    "graph"
   ]
  },
  {
   "cell_type": "code",
   "execution_count": 1,
   "metadata": {},
   "outputs": [],
   "source": [
    "import numpy as np\n",
    "import matplotlib.pyplot as plt"
   ]
  },
  {
   "cell_type": "code",
   "execution_count": 3,
   "metadata": {},
   "outputs": [
    {
     "data": {
      "image/png": "[encoded data removed]",
      "text/plain": [
       "<Figure size 432x288 with 1 Axes>"
      ]
     },
     "metadata": {
      "needs_background": "light"
     },
     "output_type": "display_data"
    }
   ],
   "source": [
    "greyhounds = 500\n",
    "labs = 500\n",
    "\n",
    "grey_height = 28 + 4 * np.random.randn(greyhounds)\n",
    "lab_height = 24 + 4 * np.random.randn(labs)\n",
    "\n",
    "\n",
    "plt.hist([grey_height,lab_height],stacked=True, color=['r','b'])\n",
    "plt.show()\n"
   ]
  },
  {
   "cell_type": "code",
   "execution_count": 4,
   "metadata": {},
   "outputs": [],
   "source": [
    "X = iris.data\n",
    "Y = iris.target\n",
    "from sklearn.model_selection import train_test_split\n",
    "X_train,X_test, y_train, y_test = train_test_split(X,Y,test_size=0.5)\n",
    "#parition labels to two sets\n",
    "#75 data points will be training, 75 data points will be testing"
   ]
  },
  {
   "cell_type": "code",
   "execution_count": 5,
   "metadata": {},
   "outputs": [
    {
     "name": "stdout",
     "output_type": "stream",
     "text": [
      "[0 1 2 2 2 0 0 0 1 1 1 0 2 2 1 1 2 0 1 1 1 2 0 2 1 0 1 2 1 1 0 1 0 2 1 1 0\n",
      " 0 2 0 1 2 2 1 1 1 0 2 0 2 0 0 0 0 1 2 2 0 2 2 1 1 1 1 1 2 2 2 2 0 2 2 0 1\n",
      " 0]\n"
     ]
    }
   ],
   "source": [
    "my_classifier = tree.DecisionTreeClassifier()\n",
    "my_classifier.fit(X_train,y_train)\n",
    "predictions = my_classifier.predict(X_test)\n",
    "print(predictions) #corresponds to what type of class each classifier predicts (setosa, veriscolor, etc)"
   ]
  },
  {
   "cell_type": "code",
   "execution_count": 6,
   "metadata": {},
   "outputs": [
    {
     "name": "stdout",
     "output_type": "stream",
     "text": [
      "0.96\n"
     ]
    }
   ],
   "source": [
    "#see how accurate it was\n",
    "from sklearn.metrics import accuracy_score\n",
    "print(accuracy_score(y_test,predictions))\n",
    "#this results will differ each time since randomness in data partiioning"
   ]
  },
  {
   "cell_type": "code",
   "execution_count": 7,
   "metadata": {},
   "outputs": [
    {
     "name": "stdout",
     "output_type": "stream",
     "text": [
      "0.9466666666666667\n"
     ]
    }
   ],
   "source": [
    "#instead of decision tree, try KNN \n",
    "from sklearn.neighbors import KNeighborsClassifier\n",
    "knn_classifier = KNeighborsClassifier()\n",
    "knn_classifier.fit(X_train,y_train)\n",
    "predictions_knn = knn_classifier.predict(X_test)\n",
    "print(accuracy_score(y_test,predictions_knn))"
   ]
  },
  {
   "cell_type": "code",
   "execution_count": 10,
   "metadata": {},
   "outputs": [
    {
     "name": "stdout",
     "output_type": "stream",
     "text": [
      "0.24\n"
     ]
    }
   ],
   "source": [
    "#instead of importing a classifier, make one from scratch \n",
    "#guess the label\n",
    "import random\n",
    "\n",
    "class ScrappyKNN():\n",
    "    def fit(self,X_train,y_train):\n",
    "        self.X_train = X_train\n",
    "        self.y_train = y_train\n",
    "        \n",
    "    def predict(self,X_test):\n",
    "        predictions = []\n",
    "        for row in X_test:\n",
    "            label = random.choice(self.y_train)\n",
    "            predictions.append(label)\n",
    "        return predictions\n",
    "    \n",
    "scrapknn_classifier = ScrappyKNN()\n",
    "scrapknn_classifier.fit(X_train,y_train)\n",
    "predictions_scrapknn = scrapknn_classifier.predict(X_test)\n",
    "print(accuracy_score(y_test,predictions_scrapknn))"
   ]
  },
  {
   "cell_type": "code",
   "execution_count": 12,
   "metadata": {},
   "outputs": [
    {
     "name": "stdout",
     "output_type": "stream",
     "text": [
      "0.9466666666666667\n"
     ]
    }
   ],
   "source": [
    "from scipy.spatial import distance\n",
    "\n",
    "def euc(a,b):\n",
    "    return distance.euclidean(a,b)\n",
    "\n",
    "class ScrappyKNN():\n",
    "    def fit(self,X_train,y_train):\n",
    "        self.X_train = X_train\n",
    "        self.y_train = y_train\n",
    "        \n",
    "    def predict(self,X_test):\n",
    "        predictions = []\n",
    "        for row in X_test:\n",
    "            label = self.closest(row)\n",
    "            predictions.append(label)\n",
    "        return predictions\n",
    "    \n",
    "    def closest(self, row):\n",
    "        best_dist = euc(row, self.X_train[0])\n",
    "        best_index = 0\n",
    "        for i in range(1,len(self.X_train)):\n",
    "            dist = euc(row,self.X_train[i])\n",
    "            if dist < best_dist:\n",
    "                best_dist = dist\n",
    "                best_index = i \n",
    "        return self.y_train[best_index]\n",
    "    \n",
    "scrapknn_classifier = ScrappyKNN()\n",
    "scrapknn_classifier.fit(X_train,y_train)\n",
    "predictions_scrapknn = scrapknn_classifier.predict(X_test)\n",
    "print(accuracy_score(y_test,predictions_scrapknn))\n",
    "#disadvantage of having to iterate thru each individual datapoint which is slower; simplistic"
   ]
  }
 ],
 "metadata": {
  "kernelspec": {
   "display_name": "py37",
   "language": "python",
   "name": "py37"
  },
  "language_info": {
   "codemirror_mode": {
    "name": "ipython",
    "version": 3
   },
   "file_extension": ".py",
   "mimetype": "text/x-python",
   "name": "python",
   "nbconvert_exporter": "python",
   "pygments_lexer": "ipython3",
   "version": "3.7.4"
  }
 },
 "nbformat": 4,
 "nbformat_minor": 2
}
