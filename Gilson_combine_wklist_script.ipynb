{
 "cells": [
  {
   "cell_type": "code",
   "execution_count": 7,
   "metadata": {},
   "outputs": [
    {
     "name": "stdout",
     "output_type": "stream",
     "text": [
      "\n",
      "\n",
      "RUN\t4 ML STARTUP\tSample\t0\t\t\tYES\tUNKNOWN\t...\t\t0\t\n",
      "\n",
      "RUN\t4ML_10mm_2ND STAGE_FLUSH\tFlush\t0\t\t\tYES\tUNKNOWN\t...\t\t0\t\n",
      "\n",
      "RUN\t4ML_10mm_2ND STAGE_STD\t6-Cmpd Std\t0\t\t\tYES\tUNKNOWN\t...\t\t0\t\n",
      "\n",
      "RUN\t4ML_10mm_2ND STAGE\tM21535_5\t0\tFB02646205\t\tYES\tUNKNOWN\t...\t127\t1\tP01S01\n",
      "\n",
      "RUN\t4ML_10mm_2ND STAGE\tM21551_5\t0\tFB02646225\t\tYES\tUNKNOWN\t...\t127\t2\tP01S02\n",
      "\n",
      "RUN\t4ML_10mm_2ND STAGE\tM21523_5\t0\tFB02646185\t\tYES\tUNKNOWN\t...\t127\t3\tP01S03\n",
      "\n",
      "RUN\t4ML_10mm_2ND STAGE\tM24173_2\t0\tFB03658814\t\tYES\tUNKNOWN\t...\t127\t4\tP01S04\n",
      "\n",
      "RUN\t4ML_10mm_2ND STAGE\tM23131_6\t0\tFB02699823\t\tYES\tUNKNOWN\t...\t127\t5\tP02S01\n",
      "\n",
      "RUN\t4ML_10mm_2ND STAGE\tM23127_6\t0\tFB02699828\t\tYES\tUNKNOWN\t...\t127\t6\tP02S02\n",
      "\n",
      "RUN\t4ML_10mm_2ND STAGE\tL7547_3\t0\tFB02928213\t\tYES\tUNKNOWN\t...\t127\t7\tP02S03\n",
      "\n",
      "RUN\t4ML_10mm_2ND STAGE\tL40885_3\t0\tFB03754792\t\tYES\tUNKNOWN\t...\t127\t8\tP02S04\n",
      "\n",
      "RUN\t4ML_10mm_2ND STAGE_FLUSH\tFlush\t0\t\t\tYES\tUNKNOWN\t...\t\t0\t\n",
      "\n",
      "RUN\t4ML_10mm_2ND STAGE_STD\t6-Cmpd Std\t0\t\t\tYES\tUNKNOWN\t...\t\t0\t\n",
      "\n",
      "RUN\t4ML_10mm_2ND STAGE\tL88759_2\t0\tFB03115920\t\tYES\tUNKNOWN\t...\t127\t9\tP03S01\n",
      "\n",
      "RUN\t4ML_10mm_2ND STAGE\tL88699_3\t0\tFB03115877\t\tYES\tUNKNOWN\t...\t127\t10\tP03S02\n",
      "\n",
      "RUN\t4ML_10mm_2ND STAGE\tL88261_6\t0\tFB04082059\t\tYES\tUNKNOWN\t...\t127\t11\tP03S03\n",
      "\n",
      "RUN\t4ML_10mm_2ND STAGE\tL88261_5\t0\tFB04163612\t\tYES\tUNKNOWN\t...\t127\t12\tP03S04\n",
      "\n",
      "RUN\t4ML_10mm_2ND STAGE\tL72331_3\t0\tFB01146720\t\tYES\tUNKNOWN\t...\t127\t13\tP04S01\n",
      "\n",
      "RUN\t4ML_10mm_2ND STAGE\tL72221_5\t0\tFB01308137\t\tYES\tUNKNOWN\t...\t127\t14\tP04S02\n",
      "\n",
      "RUN\t4ML_10mm_2ND STAGE\tL12023_6\t0\tFB01312659\t\tYES\tUNKNOWN\t...\t127\t15\tP04S03\n",
      "\n",
      "RUN\t4ML_10mm_2ND STAGE\tL73889_3\t0\tFB01313428\t\tYES\tUNKNOWN\t...\t127\t16\tP04S04\n",
      "\n",
      "RUN\t4ML_10mm_2ND STAGE_FLUSH\tFlush\t0\t\t\tYES\tUNKNOWN\t...\t\t0\t\n",
      "\n",
      "RUN\t4ML_10mm_2ND STAGE_STD\t6-Cmpd Std\t0\t\t\tYES\tUNKNOWN\t...\t\t0\t\n",
      "\n",
      "RUN\t4ML_10mm_2ND STAGE\tL55435_5\t0\tFB02646672\t\tYES\tUNKNOWN\t...\t127\t17\tP05S01\n",
      "\n",
      "RUN\t4ML_10mm_2ND STAGE\tL92763_4\t0\tFA00306557\t\tYES\tUNKNOWN\t...\t127\t18\tP05S02\n",
      "\n",
      "RUN\t4ML_10mm_2ND STAGE\tL92757_4\t0\tFB01306222\t\tYES\tUNKNOWN\t...\t127\t19\tP05S03\n",
      "\n",
      "RUN\t4ML_10mm_2ND STAGE\tL73887_7\t0\tFB02648059\t\tYES\tUNKNOWN\t...\t127\t20\tP05S04\n",
      "\n",
      "RUN\t4ML_10mm_2ND STAGE\tL73813_7\t0\tFB02647819\t\tYES\tUNKNOWN\t...\t127\t21\tP06S01\n",
      "\n",
      "RUN\t4ML_10mm_2ND STAGE\tL55001_4\t0\tFB02709783\t\tYES\tUNKNOWN\t...\t127\t22\tP06S02\n",
      "\n",
      "RUN\t4ML_10mm_2ND STAGE\tL5683_6\t0\tFB02931245\t\tYES\tUNKNOWN\t...\t127\t23\tP06S03\n",
      "\n",
      "RUN\t4ML_10mm_2ND STAGE\tL5885_5\t0\tFB02931250\t\tYES\tUNKNOWN\t...\t127\t24\tP06S04\n",
      "\n",
      "RUN\t4ML_10mm_2ND STAGE_FLUSH\tFlush\t0\t\t\tYES\tUNKNOWN\t...\t\t0\t\n",
      "\n",
      "RUN\t4ML_10mm_2ND STAGE_STD\t6-Cmpd Std\t0\t\t\tYES\tUNKNOWN\t...\t\t0\t\n",
      "\n",
      "RUN\t4ML_10mm_2ND STAGE_FLUSH\tSample\t0\tFlush\t\tYES\tUNKNOWN\t...\t\t0\n",
      "\n",
      "RUN\t4ML_10mm_2ND STAGE_STD\t6-Cmpd Std\t0\t6-Cmpd Std\t\tYES\tUNKNOWN\t...\t\t0\n",
      "\n",
      "RUN\t4 ML SHUTDOWN\tSample\t0\tSHUTDOWN\t\tYES\tUNKNOWN\t...\t\t0\n",
      "\n"
     ]
    }
   ],
   "source": [
    "with open('/Users/spencertrinh/Downloads/1520030001_secStg_127.tsl') as f:\n",
    "    content = f.readlines()\n",
    "    for i,r in enumerate(content):\n",
    "        if i > 0:\n",
    "            print(r)"
   ]
  },
  {
   "cell_type": "code",
   "execution_count": 1,
   "metadata": {},
   "outputs": [],
   "source": [
    "import pandas as pd\n",
    "import re"
   ]
  },
  {
   "cell_type": "code",
   "execution_count": 9,
   "metadata": {},
   "outputs": [],
   "source": [
    "content = pd.read_csv('/Users/spencertrinh/Downloads/1520030001_secStg_127.tsl', sep='\\t')"
   ]
  },
  {
   "cell_type": "code",
   "execution_count": 13,
   "metadata": {},
   "outputs": [
    {
     "data": {
      "text/plain": [
       "Index(['SkipPause[True,18,0]', 'MethodName[True,239,1]',\n",
       "       'SampleName[True,108,2]', 'SampleAmount[False,78,3]',\n",
       "       'SampleDescription[False,120,4]', 'SampleId[False,90,5]',\n",
       "       'InjectionYesNo[False,72,6]', 'PeakInformation[False,104,7]',\n",
       "       'SampleInjection[False,138,8]', 'NOTES_STRING[False,68,9]',\n",
       "       '#Sample Well[True,109,10]', '#Plate_Sample[True,115,13]'],\n",
       "      dtype='object')"
      ]
     },
     "execution_count": 13,
     "metadata": {},
     "output_type": "execute_result"
    }
   ],
   "source": [
    "content.columns"
   ]
  },
  {
   "cell_type": "code",
   "execution_count": 23,
   "metadata": {},
   "outputs": [
    {
     "data": {
      "text/html": [
       "<div>\n",
       "<style scoped>\n",
       "    .dataframe tbody tr th:only-of-type {\n",
       "        vertical-align: middle;\n",
       "    }\n",
       "\n",
       "    .dataframe tbody tr th {\n",
       "        vertical-align: top;\n",
       "    }\n",
       "\n",
       "    .dataframe thead th {\n",
       "        text-align: right;\n",
       "    }\n",
       "</style>\n",
       "<table border=\"1\" class=\"dataframe\">\n",
       "  <thead>\n",
       "    <tr style=\"text-align: right;\">\n",
       "      <th></th>\n",
       "      <th>SkipPause[True,18,0]</th>\n",
       "      <th>MethodName[True,239,1]</th>\n",
       "      <th>SampleName[True,108,2]</th>\n",
       "      <th>SampleAmount[False,78,3]</th>\n",
       "      <th>SampleDescription[False,120,4]</th>\n",
       "      <th>SampleId[False,90,5]</th>\n",
       "      <th>InjectionYesNo[False,72,6]</th>\n",
       "      <th>PeakInformation[False,104,7]</th>\n",
       "      <th>SampleInjection[False,138,8]</th>\n",
       "      <th>NOTES_STRING[False,68,9]</th>\n",
       "      <th>#Sample Well[True,109,10]</th>\n",
       "      <th>#Plate_Sample[True,115,13]</th>\n",
       "    </tr>\n",
       "  </thead>\n",
       "  <tbody>\n",
       "    <tr>\n",
       "      <th>0</th>\n",
       "      <td>RUN</td>\n",
       "      <td>4 ML STARTUP</td>\n",
       "      <td>Sample</td>\n",
       "      <td>0</td>\n",
       "      <td>NaN</td>\n",
       "      <td>NaN</td>\n",
       "      <td>YES</td>\n",
       "      <td>UNKNOWN</td>\n",
       "      <td>...</td>\n",
       "      <td>NaN</td>\n",
       "      <td>0</td>\n",
       "      <td>NaN</td>\n",
       "    </tr>\n",
       "    <tr>\n",
       "      <th>1</th>\n",
       "      <td>RUN</td>\n",
       "      <td>4ML_10mm_2ND STAGE_FLUSH</td>\n",
       "      <td>Flush</td>\n",
       "      <td>0</td>\n",
       "      <td>NaN</td>\n",
       "      <td>NaN</td>\n",
       "      <td>YES</td>\n",
       "      <td>UNKNOWN</td>\n",
       "      <td>...</td>\n",
       "      <td>NaN</td>\n",
       "      <td>0</td>\n",
       "      <td>NaN</td>\n",
       "    </tr>\n",
       "    <tr>\n",
       "      <th>2</th>\n",
       "      <td>RUN</td>\n",
       "      <td>4ML_10mm_2ND STAGE_STD</td>\n",
       "      <td>6-Cmpd Std</td>\n",
       "      <td>0</td>\n",
       "      <td>NaN</td>\n",
       "      <td>NaN</td>\n",
       "      <td>YES</td>\n",
       "      <td>UNKNOWN</td>\n",
       "      <td>...</td>\n",
       "      <td>NaN</td>\n",
       "      <td>0</td>\n",
       "      <td>NaN</td>\n",
       "    </tr>\n",
       "    <tr>\n",
       "      <th>3</th>\n",
       "      <td>RUN</td>\n",
       "      <td>4ML_10mm_2ND STAGE</td>\n",
       "      <td>M21535_5</td>\n",
       "      <td>0</td>\n",
       "      <td>FB02646205</td>\n",
       "      <td>NaN</td>\n",
       "      <td>YES</td>\n",
       "      <td>UNKNOWN</td>\n",
       "      <td>...</td>\n",
       "      <td>127.0</td>\n",
       "      <td>1</td>\n",
       "      <td>P01S01</td>\n",
       "    </tr>\n",
       "    <tr>\n",
       "      <th>4</th>\n",
       "      <td>RUN</td>\n",
       "      <td>4ML_10mm_2ND STAGE</td>\n",
       "      <td>M21551_5</td>\n",
       "      <td>0</td>\n",
       "      <td>FB02646225</td>\n",
       "      <td>NaN</td>\n",
       "      <td>YES</td>\n",
       "      <td>UNKNOWN</td>\n",
       "      <td>...</td>\n",
       "      <td>127.0</td>\n",
       "      <td>2</td>\n",
       "      <td>P01S02</td>\n",
       "    </tr>\n",
       "  </tbody>\n",
       "</table>\n",
       "</div>"
      ],
      "text/plain": [
       "  SkipPause[True,18,0]    MethodName[True,239,1] SampleName[True,108,2]  \\\n",
       "0                  RUN              4 ML STARTUP                 Sample   \n",
       "1                  RUN  4ML_10mm_2ND STAGE_FLUSH                  Flush   \n",
       "2                  RUN    4ML_10mm_2ND STAGE_STD             6-Cmpd Std   \n",
       "3                  RUN        4ML_10mm_2ND STAGE               M21535_5   \n",
       "4                  RUN        4ML_10mm_2ND STAGE               M21551_5   \n",
       "\n",
       "   SampleAmount[False,78,3] SampleDescription[False,120,4]  \\\n",
       "0                         0                            NaN   \n",
       "1                         0                            NaN   \n",
       "2                         0                            NaN   \n",
       "3                         0                     FB02646205   \n",
       "4                         0                     FB02646225   \n",
       "\n",
       "   SampleId[False,90,5] InjectionYesNo[False,72,6]  \\\n",
       "0                   NaN                        YES   \n",
       "1                   NaN                        YES   \n",
       "2                   NaN                        YES   \n",
       "3                   NaN                        YES   \n",
       "4                   NaN                        YES   \n",
       "\n",
       "  PeakInformation[False,104,7] SampleInjection[False,138,8]  \\\n",
       "0                      UNKNOWN                          ...   \n",
       "1                      UNKNOWN                          ...   \n",
       "2                      UNKNOWN                          ...   \n",
       "3                      UNKNOWN                          ...   \n",
       "4                      UNKNOWN                          ...   \n",
       "\n",
       "   NOTES_STRING[False,68,9]  #Sample Well[True,109,10]  \\\n",
       "0                       NaN                          0   \n",
       "1                       NaN                          0   \n",
       "2                       NaN                          0   \n",
       "3                     127.0                          1   \n",
       "4                     127.0                          2   \n",
       "\n",
       "  #Plate_Sample[True,115,13]  \n",
       "0                        NaN  \n",
       "1                        NaN  \n",
       "2                        NaN  \n",
       "3                     P01S01  \n",
       "4                     P01S02  "
      ]
     },
     "execution_count": 23,
     "metadata": {},
     "output_type": "execute_result"
    }
   ],
   "source": [
    "content.head()"
   ]
  },
  {
   "cell_type": "code",
   "execution_count": 20,
   "metadata": {},
   "outputs": [
    {
     "name": "stdout",
     "output_type": "stream",
     "text": [
      "M21535_5\n",
      "M21551_5\n",
      "M21523_5\n",
      "M24173_2\n",
      "M23131_6\n",
      "M23127_6\n",
      "L7547_3\n",
      "L40885_3\n",
      "L88759_2\n",
      "L88699_3\n",
      "L88261_6\n",
      "L88261_5\n",
      "L72331_3\n",
      "L72221_5\n",
      "L12023_6\n",
      "L73889_3\n",
      "L55435_5\n",
      "L92763_4\n",
      "L92757_4\n",
      "L73887_7\n",
      "L73813_7\n",
      "L55001_4\n",
      "L5683_6\n",
      "L5885_5\n"
     ]
    }
   ],
   "source": [
    "for s in content['SampleName[True,108,2]']:\n",
    "    if re.search('^[M|L|C]', s):\n",
    "        print(s)"
   ]
  },
  {
   "cell_type": "code",
   "execution_count": 54,
   "metadata": {},
   "outputs": [],
   "source": [
    "fp = '/users/spencertrinh/downloads/'\n",
    "for fi in os.listdir(fp):\n",
    "    if re.search('^\\d+', fi):\n",
    "        content = pd.read_csv(f'{fp}{fi}', sep='\\t') \n",
    "        fi = fi.split('_')[2].split('.')[0]\n",
    "        with open(f\"{fp}gilson_set_file_{fi}.txt\", 'w') as f:\n",
    "            f.write('Sample_Name\\tTube_Barcode\\tBrooks_Barcode\\n')\n",
    "\n",
    "            for i,r in content.iterrows():\n",
    "                 if i > 0 and re.search('^[L|M|C]', r['SampleName[True,108,2]']):\n",
    "                        #print(r['SampleName[True,108,2]'],'\\t',r['NOTES_STRING[False,68,9]'],'\\t', r['SampleDescription[False,120,4]'])\n",
    "                        f.write(f\"{r['SampleName[True,108,2]']}\\t{r['SampleDescription[False,120,4]']}\\t{r['NOTES_STRING[False,68,9]']}\\n\")"
   ]
  },
  {
   "cell_type": "code",
   "execution_count": 43,
   "metadata": {},
   "outputs": [
    {
     "data": {
      "text/plain": [
       "['SkipPause[True,18,0]\\tMethodName[True,239,1]\\tSampleName[True,108,2]\\tSampleAmount[False,78,3]\\tSampleDescription[False,120,4]\\tSampleId[False,90,5]\\tInjectionYesNo[False,72,6]\\tPeakInformation[False,104,7]\\tSampleInjection[False,138,8]\\tNOTES_STRING[False,68,9]\\t#Sample Well[True,109,10]\\t#Plate_Sample[True,115,13]\\n',\n",
       " '\\n',\n",
       " 'RUN\\t4 ML STARTUP\\tSample\\t0\\t\\t\\tYES\\tUNKNOWN\\t...\\t\\t0\\t\\n',\n",
       " 'RUN\\t4ML_10mm_2ND STAGE_FLUSH\\tFlush\\t0\\t\\t\\tYES\\tUNKNOWN\\t...\\t\\t0\\t\\n',\n",
       " 'RUN\\t4ML_10mm_2ND STAGE_STD\\t6-Cmpd Std\\t0\\t\\t\\tYES\\tUNKNOWN\\t...\\t\\t0\\t\\n',\n",
       " 'RUN\\t4ML_10mm_2ND STAGE\\tM21535_5\\t0\\tFB02646205\\t\\tYES\\tUNKNOWN\\t...\\t127\\t1\\tP01S01\\n',\n",
       " 'RUN\\t4ML_10mm_2ND STAGE\\tM21551_5\\t0\\tFB02646225\\t\\tYES\\tUNKNOWN\\t...\\t127\\t2\\tP01S02\\n',\n",
       " 'RUN\\t4ML_10mm_2ND STAGE\\tM21523_5\\t0\\tFB02646185\\t\\tYES\\tUNKNOWN\\t...\\t127\\t3\\tP01S03\\n',\n",
       " 'RUN\\t4ML_10mm_2ND STAGE\\tM24173_2\\t0\\tFB03658814\\t\\tYES\\tUNKNOWN\\t...\\t127\\t4\\tP01S04\\n',\n",
       " 'RUN\\t4ML_10mm_2ND STAGE\\tM23131_6\\t0\\tFB02699823\\t\\tYES\\tUNKNOWN\\t...\\t127\\t5\\tP02S01\\n',\n",
       " 'RUN\\t4ML_10mm_2ND STAGE\\tM23127_6\\t0\\tFB02699828\\t\\tYES\\tUNKNOWN\\t...\\t127\\t6\\tP02S02\\n',\n",
       " 'RUN\\t4ML_10mm_2ND STAGE\\tL7547_3\\t0\\tFB02928213\\t\\tYES\\tUNKNOWN\\t...\\t127\\t7\\tP02S03\\n',\n",
       " 'RUN\\t4ML_10mm_2ND STAGE\\tL40885_3\\t0\\tFB03754792\\t\\tYES\\tUNKNOWN\\t...\\t127\\t8\\tP02S04\\n',\n",
       " 'RUN\\t4ML_10mm_2ND STAGE_FLUSH\\tFlush\\t0\\t\\t\\tYES\\tUNKNOWN\\t...\\t\\t0\\t\\n',\n",
       " 'RUN\\t4ML_10mm_2ND STAGE_STD\\t6-Cmpd Std\\t0\\t\\t\\tYES\\tUNKNOWN\\t...\\t\\t0\\t\\n',\n",
       " 'RUN\\t4ML_10mm_2ND STAGE\\tL88759_2\\t0\\tFB03115920\\t\\tYES\\tUNKNOWN\\t...\\t127\\t9\\tP03S01\\n',\n",
       " 'RUN\\t4ML_10mm_2ND STAGE\\tL88699_3\\t0\\tFB03115877\\t\\tYES\\tUNKNOWN\\t...\\t127\\t10\\tP03S02\\n',\n",
       " 'RUN\\t4ML_10mm_2ND STAGE\\tL88261_6\\t0\\tFB04082059\\t\\tYES\\tUNKNOWN\\t...\\t127\\t11\\tP03S03\\n',\n",
       " 'RUN\\t4ML_10mm_2ND STAGE\\tL88261_5\\t0\\tFB04163612\\t\\tYES\\tUNKNOWN\\t...\\t127\\t12\\tP03S04\\n',\n",
       " 'RUN\\t4ML_10mm_2ND STAGE\\tL72331_3\\t0\\tFB01146720\\t\\tYES\\tUNKNOWN\\t...\\t127\\t13\\tP04S01\\n',\n",
       " 'RUN\\t4ML_10mm_2ND STAGE\\tL72221_5\\t0\\tFB01308137\\t\\tYES\\tUNKNOWN\\t...\\t127\\t14\\tP04S02\\n',\n",
       " 'RUN\\t4ML_10mm_2ND STAGE\\tL12023_6\\t0\\tFB01312659\\t\\tYES\\tUNKNOWN\\t...\\t127\\t15\\tP04S03\\n',\n",
       " 'RUN\\t4ML_10mm_2ND STAGE\\tL73889_3\\t0\\tFB01313428\\t\\tYES\\tUNKNOWN\\t...\\t127\\t16\\tP04S04\\n',\n",
       " 'RUN\\t4ML_10mm_2ND STAGE_FLUSH\\tFlush\\t0\\t\\t\\tYES\\tUNKNOWN\\t...\\t\\t0\\t\\n',\n",
       " 'RUN\\t4ML_10mm_2ND STAGE_STD\\t6-Cmpd Std\\t0\\t\\t\\tYES\\tUNKNOWN\\t...\\t\\t0\\t\\n',\n",
       " 'RUN\\t4ML_10mm_2ND STAGE\\tL55435_5\\t0\\tFB02646672\\t\\tYES\\tUNKNOWN\\t...\\t127\\t17\\tP05S01\\n',\n",
       " 'RUN\\t4ML_10mm_2ND STAGE\\tL92763_4\\t0\\tFA00306557\\t\\tYES\\tUNKNOWN\\t...\\t127\\t18\\tP05S02\\n',\n",
       " 'RUN\\t4ML_10mm_2ND STAGE\\tL92757_4\\t0\\tFB01306222\\t\\tYES\\tUNKNOWN\\t...\\t127\\t19\\tP05S03\\n',\n",
       " 'RUN\\t4ML_10mm_2ND STAGE\\tL73887_7\\t0\\tFB02648059\\t\\tYES\\tUNKNOWN\\t...\\t127\\t20\\tP05S04\\n',\n",
       " 'RUN\\t4ML_10mm_2ND STAGE\\tL73813_7\\t0\\tFB02647819\\t\\tYES\\tUNKNOWN\\t...\\t127\\t21\\tP06S01\\n',\n",
       " 'RUN\\t4ML_10mm_2ND STAGE\\tL55001_4\\t0\\tFB02709783\\t\\tYES\\tUNKNOWN\\t...\\t127\\t22\\tP06S02\\n',\n",
       " 'RUN\\t4ML_10mm_2ND STAGE\\tL5683_6\\t0\\tFB02931245\\t\\tYES\\tUNKNOWN\\t...\\t127\\t23\\tP06S03\\n',\n",
       " 'RUN\\t4ML_10mm_2ND STAGE\\tL5885_5\\t0\\tFB02931250\\t\\tYES\\tUNKNOWN\\t...\\t127\\t24\\tP06S04\\n',\n",
       " 'RUN\\t4ML_10mm_2ND STAGE_FLUSH\\tFlush\\t0\\t\\t\\tYES\\tUNKNOWN\\t...\\t\\t0\\t\\n',\n",
       " 'RUN\\t4ML_10mm_2ND STAGE_STD\\t6-Cmpd Std\\t0\\t\\t\\tYES\\tUNKNOWN\\t...\\t\\t0\\t\\n',\n",
       " 'RUN\\t4ML_10mm_2ND STAGE_FLUSH\\tSample\\t0\\tFlush\\t\\tYES\\tUNKNOWN\\t...\\t\\t0\\n',\n",
       " 'RUN\\t4ML_10mm_2ND STAGE_STD\\t6-Cmpd Std\\t0\\t6-Cmpd Std\\t\\tYES\\tUNKNOWN\\t...\\t\\t0\\n',\n",
       " 'RUN\\t4 ML SHUTDOWN\\tSample\\t0\\tSHUTDOWN\\t\\tYES\\tUNKNOWN\\t...\\t\\t0\\n']"
      ]
     },
     "execution_count": 43,
     "metadata": {},
     "output_type": "execute_result"
    }
   ],
   "source": [
    "content"
   ]
  },
  {
   "cell_type": "code",
   "execution_count": 39,
   "metadata": {},
   "outputs": [
    {
     "name": "stdout",
     "output_type": "stream",
     "text": [
      "1520030001_secStg_127.tsl\n",
      "1520030002_secStg_134.tsl\n",
      "1520030003_secStg_138.tsl\n"
     ]
    }
   ],
   "source": [
    "import os\n",
    "for fi in os.listdir('/users/spencertrinh/downloads/'):\n",
    "    if re.search('^\\d+', fi):\n",
    "        print(fi)"
   ]
  },
  {
   "cell_type": "code",
   "execution_count": 14,
   "metadata": {},
   "outputs": [
    {
     "data": {
      "text/plain": [
       "0            NaN\n",
       "1            NaN\n",
       "2            NaN\n",
       "3     FB02646205\n",
       "4     FB02646225\n",
       "5     FB02646185\n",
       "6     FB03658814\n",
       "7     FB02699823\n",
       "8     FB02699828\n",
       "9     FB02928213\n",
       "10    FB03754792\n",
       "11           NaN\n",
       "12           NaN\n",
       "13    FB03115920\n",
       "14    FB03115877\n",
       "15    FB04082059\n",
       "16    FB04163612\n",
       "17    FB01146720\n",
       "18    FB01308137\n",
       "19    FB01312659\n",
       "20    FB01313428\n",
       "21           NaN\n",
       "22           NaN\n",
       "23    FB02646672\n",
       "24    FA00306557\n",
       "25    FB01306222\n",
       "26    FB02648059\n",
       "27    FB02647819\n",
       "28    FB02709783\n",
       "29    FB02931245\n",
       "30    FB02931250\n",
       "31           NaN\n",
       "32           NaN\n",
       "33         Flush\n",
       "34    6-Cmpd Std\n",
       "35      SHUTDOWN\n",
       "Name: SampleDescription[False,120,4], dtype: object"
      ]
     },
     "execution_count": 14,
     "metadata": {},
     "output_type": "execute_result"
    }
   ],
   "source": [
    "content['SampleDescription[False,120,4]']"
   ]
  },
  {
   "cell_type": "code",
   "execution_count": 16,
   "metadata": {},
   "outputs": [
    {
     "data": {
      "text/plain": [
       "0       NaN\n",
       "1       NaN\n",
       "2       NaN\n",
       "3     127.0\n",
       "4     127.0\n",
       "5     127.0\n",
       "6     127.0\n",
       "7     127.0\n",
       "8     127.0\n",
       "9     127.0\n",
       "10    127.0\n",
       "11      NaN\n",
       "12      NaN\n",
       "13    127.0\n",
       "14    127.0\n",
       "15    127.0\n",
       "16    127.0\n",
       "17    127.0\n",
       "18    127.0\n",
       "19    127.0\n",
       "20    127.0\n",
       "21      NaN\n",
       "22      NaN\n",
       "23    127.0\n",
       "24    127.0\n",
       "25    127.0\n",
       "26    127.0\n",
       "27    127.0\n",
       "28    127.0\n",
       "29    127.0\n",
       "30    127.0\n",
       "31      NaN\n",
       "32      NaN\n",
       "33      NaN\n",
       "34      NaN\n",
       "35      NaN\n",
       "Name: NOTES_STRING[False,68,9], dtype: float64"
      ]
     },
     "execution_count": 16,
     "metadata": {},
     "output_type": "execute_result"
    }
   ],
   "source": [
    "content['NOTES_STRING[False,68,9]']"
   ]
  },
  {
   "cell_type": "code",
   "execution_count": 9,
   "metadata": {},
   "outputs": [],
   "source": [
    "import sqlite3\n",
    "import datetime\n",
    "import os"
   ]
  },
  {
   "cell_type": "code",
   "execution_count": 3,
   "metadata": {},
   "outputs": [],
   "source": [
    "db_fp = '/users/spencertrinh/documents/datafiles/sqlite3/'\n",
    "\n",
    "conn = sqlite3.connect(f'{db_fp}gilsontsl.db')\n",
    "c = conn.cursor()"
   ]
  },
  {
   "cell_type": "code",
   "execution_count": 67,
   "metadata": {},
   "outputs": [],
   "source": [
    "conn.close()"
   ]
  },
  {
   "cell_type": "code",
   "execution_count": 6,
   "metadata": {},
   "outputs": [
    {
     "data": {
      "text/plain": [
       "<sqlite3.Cursor at 0x105e8f730>"
      ]
     },
     "execution_count": 6,
     "metadata": {},
     "output_type": "execute_result"
    }
   ],
   "source": [
    "sqlite_create_table_query = '''CREATE TABLE GILSON_SET_TABLE \n",
    "                            (RUN_DATE TIMESTAMP,\n",
    "                            ID TEXT NOT NULL, \n",
    "                            SAMPLE_NUMBER INTEGER NOT NULL,\n",
    "                            SAMPLE_NAME TEXT NOT NULL, \n",
    "                            TUBE_BARCODE TEXT PRIMARY KEY, \n",
    "                            BROOKS_BARCODE TEXT NOT NULL);'''\n",
    "\n",
    "sqlite_delete_table_query = '''DROP TABLE GILSON_SET_TABLE;'''\n",
    "\n",
    "#c.execute(sqlite_delete_table_query)\n",
    "c.execute(sqlite_create_table_query)"
   ]
  },
  {
   "cell_type": "code",
   "execution_count": 11,
   "metadata": {},
   "outputs": [],
   "source": [
    "fp = '/users/spencertrinh/downloads/'\n",
    "\n",
    "for fi in os.listdir(fp):\n",
    "    if re.search('^\\d+', fi):\n",
    "        split_fi_name = fi.split('_')\n",
    "        suffix = split_fi_name[2].split('.')[0]\n",
    "        input_file = f\"{fp}gilson_set_file_{suffix}.txt\"\n",
    "        fi_content = pd.read_csv(input_file, sep='\\t')\n",
    "        num_rows = len(fi_content.index)\n",
    "        for i,r in fi_content.iterrows():\n",
    "            numbr = i % num_rows\n",
    "            ls_tp_content = [(datetime.datetime.now(), split_fi_name[0], numbr, r['Sample_Name'], r['Tube_Barcode'], str(int(r['Brooks_Barcode'])))]\n",
    "            c.executemany(\"INSERT INTO GILSON_SET_TABLE VALUES (?,?,?,?,?,?)\", ls_tp_content)\n",
    "            \n",
    "        conn.commit()"
   ]
  },
  {
   "cell_type": "code",
   "execution_count": 59,
   "metadata": {},
   "outputs": [
    {
     "data": {
      "text/plain": [
       "'138'"
      ]
     },
     "execution_count": 59,
     "metadata": {},
     "output_type": "execute_result"
    }
   ],
   "source": [
    "from openpyxl import Workbook, load_workbook\n",
    "#import os\n",
    "#import re\n",
    "from collections import OrderedDict\n",
    "from openpyxl.styles import PatternFill\n",
    "\n",
    "\n",
    "dest_filepath = ''\n",
    "\n",
    "wb = Workbook()\n",
    "ws = wb.active\n",
    "wb.save(dest_filepath + 'out.xlsx')\n"
   ]
  }
 ],
 "metadata": {
  "kernelspec": {
   "display_name": "py37",
   "language": "python",
   "name": "py37"
  },
  "language_info": {
   "codemirror_mode": {
    "name": "ipython",
    "version": 3
   },
   "file_extension": ".py",
   "mimetype": "text/x-python",
   "name": "python",
   "nbconvert_exporter": "python",
   "pygments_lexer": "ipython3",
   "version": "3.7.4"
  }
 },
 "nbformat": 4,
 "nbformat_minor": 2
}
